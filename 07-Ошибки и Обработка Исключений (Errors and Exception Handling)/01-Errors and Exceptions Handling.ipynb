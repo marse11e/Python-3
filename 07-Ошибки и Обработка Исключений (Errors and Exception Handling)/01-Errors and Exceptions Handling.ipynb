{
 "cells": [
  {
   "cell_type": "markdown",
   "metadata": {},
   "source": [
    "# Обработка ошибок и исключений\n",
    "\n",
    "В этой лекции мы изучим обработку ошибок и исключений в Python. Вы наверняка уже сталкивались с ошибками к этому моменту прохождения курса. Например:"
   ]
  },
  {
   "cell_type": "code",
   "execution_count": 1,
   "metadata": {},
   "outputs": [
    {
     "ename": "SyntaxError",
     "evalue": "EOL while scanning string literal (<ipython-input-1-db8c9988558c>, line 1)",
     "output_type": "error",
     "traceback": [
      "\u001b[1;36m  File \u001b[1;32m\"<ipython-input-1-db8c9988558c>\"\u001b[1;36m, line \u001b[1;32m1\u001b[0m\n\u001b[1;33m    print('Hello)\u001b[0m\n\u001b[1;37m                 ^\u001b[0m\n\u001b[1;31mSyntaxError\u001b[0m\u001b[1;31m:\u001b[0m EOL while scanning string literal\n"
     ]
    }
   ],
   "source": [
    "print('Hello)"
   ]
  },
  {
   "cell_type": "markdown",
   "metadata": {},
   "source": [
    "Мы получили ошибку SyntaxError и сообщение о том, что встретился конец строки EOL (End of Line Error) при сканировании строковой константы. Здесь можно увидеть, что мы забыли кавычку в конце строки. Понимание таких ошибок поможет Вам быстрее выполнять отладку Вашего кода. \n",
    "\n",
    "Этот тип ошибки известен как исключение (Exception). Но даже если команда или выражение синтаксически корректны, они могут вызывать ошибку при попытке их выполнить. Ошибки, обнаруженные во время выполнения, называются исключениями (exceptions) и они не всегда являются безусловно фатальными.\n",
    "\n",
    "Вы можете посмотреть полный список встроенных исключений [здесь](https://docs.python.org/3/library/exceptions.html). Теперь давайте рассмотрим, как мы можем обрабатывать ошибки и исключения в Вашем коде."
   ]
  },
  {
   "cell_type": "markdown",
   "metadata": {},
   "source": [
    "## try и except\n",
    "\n",
    "Синтаксис для обработки ошибок в Python - это команды <code>try</code> и <code>except</code>. Код, который может вызвать исключение, помещается в блок <code>try</code>. И обработка исключения реализуется в блоке <code>except</code>. Синтаксис следующий:\n",
    "\n",
    "    try:\n",
    "       Здесь мы выполняем наши действия...\n",
    "       ...\n",
    "    except ExceptionI:\n",
    "       Если случается исключение ExceptionI, то выполняем этот блок.\n",
    "    except ExceptionII:\n",
    "       Если случается исключение ExceptionII, то выполняем этот блок.\n",
    "       ...\n",
    "    else:\n",
    "       Если исключений нет, то выполняем этот блок. \n",
    "\n",
    "Мы также можем проверить любое исключение, используя просто <code>except:</code>. Чтобы лучше понять это, давайте рассмотрим следующий пример. Это код, который открывает файл и пишет в него:"
   ]
  },
  {
   "cell_type": "code",
   "execution_count": 1,
   "metadata": {},
   "outputs": [
    {
     "name": "stdout",
     "output_type": "stream",
     "text": [
      "Запись выполнена успешно\n"
     ]
    }
   ],
   "source": [
    "try:\n",
    "    f = open('testfile','w')\n",
    "    f.write('Пишем строку для проверки')\n",
    "except IOError:\n",
    "    # Здесь мы обрабатываем только исключение IOError, и выполняем команду print \n",
    "    print(\"Ошибка: не получилось найти файл или прочитать данные\")\n",
    "else:\n",
    "    print(\"Запись выполнена успешно\")\n",
    "    f.close()"
   ]
  },
  {
   "cell_type": "markdown",
   "metadata": {},
   "source": [
    "Теперь давайте посмотрим, что произойдёт, если у нас не будет привилегий для записи (открываем файл только в режиме 'r'):"
   ]
  },
  {
   "cell_type": "code",
   "execution_count": 2,
   "metadata": {},
   "outputs": [
    {
     "name": "stdout",
     "output_type": "stream",
     "text": [
      "Ошибка: не получилось найти файл или прочитать данные\n"
     ]
    }
   ],
   "source": [
    "try:\n",
    "    f = open('testfile','r')\n",
    "    f.write('Пишем строку для проверки')\n",
    "except IOError:\n",
    "    # Здесь мы обрабатываем только исключение IOError, и выполняем команду print \n",
    "    print(\"Ошибка: не получилось найти файл или прочитать данные\")\n",
    "else:\n",
    "    print(\"Запись выполнена успешно\")\n",
    "    f.close()"
   ]
  },
  {
   "cell_type": "markdown",
   "metadata": {},
   "source": [
    "Отлично! Мы выполнили только одну команду print! Этот код был выполнен успешно, и мы могли бы продолжить выполнение дальнейших действий. Это очень полезно для обработки возможных ошибок в Вашем коде. Вы можете подготовиться к возникновению ошибки, и продолжить выполнение кода, вместо того, чтобы остановить выполнение кода из-за ошибки.\n",
    "\n",
    "Мы также можем просто написать <code>except:</code>, если не знаем точно, какое исключение может возникнуть. Например:"
   ]
  },
  {
   "cell_type": "code",
   "execution_count": 3,
   "metadata": {},
   "outputs": [
    {
     "name": "stdout",
     "output_type": "stream",
     "text": [
      "Ошибка: не получилось найти файл или прочитать данные\n"
     ]
    }
   ],
   "source": [
    "try:\n",
    "    f = open('testfile','r')\n",
    "    f.write('Пишем строку для проверки')\n",
    "except:\n",
    "    # Здесь мы обрабатываем только исключение IOError, и выполняем команду print \n",
    "    print(\"Ошибка: не получилось найти файл или прочитать данные\")\n",
    "else:\n",
    "    print(\"Запись выполнена успешно\")\n",
    "    f.close()"
   ]
  },
  {
   "cell_type": "markdown",
   "metadata": {},
   "source": [
    "Отлично! Теперь нам не нужно запоминать список исключений! Далее, если мы хотим выполнить какой-то код после обработки исключения, то для этой цели можно использовать <code>finally</code>.\n",
    "## finally\n",
    "Блок кода <code>finally:</code> выполняется всегда, вне зависимости от того, возникало или нет какое-либо исключение в блоке <code>try</code>. Синтаксис следующий:\n",
    "\n",
    "    try:\n",
    "       Блок кода\n",
    "       ...\n",
    "       В случае исключений, этот код может быть пропущен!\n",
    "    finally:\n",
    "       Этот блок кода всегда выполняется.\n",
    "\n",
    "Например:"
   ]
  },
  {
   "cell_type": "code",
   "execution_count": 4,
   "metadata": {},
   "outputs": [
    {
     "name": "stdout",
     "output_type": "stream",
     "text": [
      "Всегда выполняем блок кода finally\n"
     ]
    }
   ],
   "source": [
    "try:\n",
    "    f = open(\"testfile\", \"w\")\n",
    "    f.write(\"Выполняем запись\")\n",
    "    f.close()\n",
    "finally:\n",
    "    print(\"Всегда выполняем блок кода finally\")"
   ]
  },
  {
   "cell_type": "markdown",
   "metadata": {},
   "source": [
    "Мы можем использовать этот код в сочетании с <code>except</code>. Давайте рассмотрим новый пример, в котором пользователь может ввести число, но по ошибке может также ввести не-число:"
   ]
  },
  {
   "cell_type": "code",
   "execution_count": 5,
   "metadata": {
    "collapsed": true
   },
   "outputs": [],
   "source": [
    "def askint():\n",
    "    try:\n",
    "        val = int(input(\"Введите число: \"))\n",
    "    except:\n",
    "        print(\"Кажется, что Вы ввели не число!\")\n",
    "\n",
    "    finally:\n",
    "        print(\"Выполняем блок finally!\")\n",
    "    print(val)"
   ]
  },
  {
   "cell_type": "code",
   "execution_count": 6,
   "metadata": {},
   "outputs": [
    {
     "name": "stdout",
     "output_type": "stream",
     "text": [
      "Введите число: 5\n",
      "Выполняем блок finally!\n",
      "5\n"
     ]
    }
   ],
   "source": [
    "askint()"
   ]
  },
  {
   "cell_type": "code",
   "execution_count": 7,
   "metadata": {},
   "outputs": [
    {
     "name": "stdout",
     "output_type": "stream",
     "text": [
      "Введите число: five\n",
      "Кажется, что Вы ввели не число!\n",
      "Выполняем блок finally!\n"
     ]
    },
    {
     "ename": "UnboundLocalError",
     "evalue": "local variable 'val' referenced before assignment",
     "output_type": "error",
     "traceback": [
      "\u001b[0;31m---------------------------------------------------------------------------\u001b[0m",
      "\u001b[0;31mUnboundLocalError\u001b[0m                         Traceback (most recent call last)",
      "\u001b[0;32m<ipython-input-7-cc291aa76c10>\u001b[0m in \u001b[0;36m<module>\u001b[0;34m\u001b[0m\n\u001b[0;32m----> 1\u001b[0;31m \u001b[0maskint\u001b[0m\u001b[0;34m(\u001b[0m\u001b[0;34m)\u001b[0m\u001b[0;34m\u001b[0m\u001b[0;34m\u001b[0m\u001b[0m\n\u001b[0m",
      "\u001b[0;32m<ipython-input-5-20b5318dc1df>\u001b[0m in \u001b[0;36maskint\u001b[0;34m()\u001b[0m\n\u001b[1;32m      7\u001b[0m     \u001b[0;32mfinally\u001b[0m\u001b[0;34m:\u001b[0m\u001b[0;34m\u001b[0m\u001b[0;34m\u001b[0m\u001b[0m\n\u001b[1;32m      8\u001b[0m         \u001b[0mprint\u001b[0m\u001b[0;34m(\u001b[0m\u001b[0;34m\"Выполняем блок finally!\"\u001b[0m\u001b[0;34m)\u001b[0m\u001b[0;34m\u001b[0m\u001b[0;34m\u001b[0m\u001b[0m\n\u001b[0;32m----> 9\u001b[0;31m     \u001b[0mprint\u001b[0m\u001b[0;34m(\u001b[0m\u001b[0mval\u001b[0m\u001b[0;34m)\u001b[0m\u001b[0;34m\u001b[0m\u001b[0;34m\u001b[0m\u001b[0m\n\u001b[0m",
      "\u001b[0;31mUnboundLocalError\u001b[0m: local variable 'val' referenced before assignment"
     ]
    }
   ],
   "source": [
    "askint()"
   ]
  },
  {
   "cell_type": "markdown",
   "metadata": {},
   "source": [
    "Обратите внимание, что мы получили ошибку при попытке вывести на экран переменную val (потому что она не была создана). Давайте обработаем эту ситуацию, и попросим пользователя всё-таки ввести число:"
   ]
  },
  {
   "cell_type": "code",
   "execution_count": 10,
   "metadata": {
    "collapsed": true
   },
   "outputs": [],
   "source": [
    "def askint():\n",
    "    try:\n",
    "        val = int(input(\"Введите число: \"))\n",
    "    except:\n",
    "        print(\"Кажется, что Вы ввели не число!\")\n",
    "        val = int(input(\"Попробуйте ещё - введите число: \"))\n",
    "    finally:\n",
    "        print(\"Выполняем блок finally!\")\n",
    "    print(val)"
   ]
  },
  {
   "cell_type": "code",
   "execution_count": 11,
   "metadata": {},
   "outputs": [
    {
     "name": "stdout",
     "output_type": "stream",
     "text": [
      "Введите число: five\n",
      "Кажется, что Вы ввели не число!\n",
      "Попробуйте ещё - введите число: four\n",
      "Выполняем блок finally!\n"
     ]
    },
    {
     "ename": "ValueError",
     "evalue": "invalid literal for int() with base 10: 'four'",
     "output_type": "error",
     "traceback": [
      "\u001b[0;31m---------------------------------------------------------------------------\u001b[0m",
      "\u001b[0;31mValueError\u001b[0m                                Traceback (most recent call last)",
      "\u001b[0;32m<ipython-input-10-ce44533abb2f>\u001b[0m in \u001b[0;36maskint\u001b[0;34m()\u001b[0m\n\u001b[1;32m      2\u001b[0m     \u001b[0;32mtry\u001b[0m\u001b[0;34m:\u001b[0m\u001b[0;34m\u001b[0m\u001b[0;34m\u001b[0m\u001b[0m\n\u001b[0;32m----> 3\u001b[0;31m         \u001b[0mval\u001b[0m \u001b[0;34m=\u001b[0m \u001b[0mint\u001b[0m\u001b[0;34m(\u001b[0m\u001b[0minput\u001b[0m\u001b[0;34m(\u001b[0m\u001b[0;34m\"Введите число: \"\u001b[0m\u001b[0;34m)\u001b[0m\u001b[0;34m)\u001b[0m\u001b[0;34m\u001b[0m\u001b[0;34m\u001b[0m\u001b[0m\n\u001b[0m\u001b[1;32m      4\u001b[0m     \u001b[0;32mexcept\u001b[0m\u001b[0;34m:\u001b[0m\u001b[0;34m\u001b[0m\u001b[0;34m\u001b[0m\u001b[0m\n",
      "\u001b[0;31mValueError\u001b[0m: invalid literal for int() with base 10: 'five'",
      "\nDuring handling of the above exception, another exception occurred:\n",
      "\u001b[0;31mValueError\u001b[0m                                Traceback (most recent call last)",
      "\u001b[0;32m<ipython-input-11-cc291aa76c10>\u001b[0m in \u001b[0;36m<module>\u001b[0;34m\u001b[0m\n\u001b[0;32m----> 1\u001b[0;31m \u001b[0maskint\u001b[0m\u001b[0;34m(\u001b[0m\u001b[0;34m)\u001b[0m\u001b[0;34m\u001b[0m\u001b[0;34m\u001b[0m\u001b[0m\n\u001b[0m",
      "\u001b[0;32m<ipython-input-10-ce44533abb2f>\u001b[0m in \u001b[0;36maskint\u001b[0;34m()\u001b[0m\n\u001b[1;32m      4\u001b[0m     \u001b[0;32mexcept\u001b[0m\u001b[0;34m:\u001b[0m\u001b[0;34m\u001b[0m\u001b[0;34m\u001b[0m\u001b[0m\n\u001b[1;32m      5\u001b[0m         \u001b[0mprint\u001b[0m\u001b[0;34m(\u001b[0m\u001b[0;34m\"Кажется, что Вы ввели не число!\"\u001b[0m\u001b[0;34m)\u001b[0m\u001b[0;34m\u001b[0m\u001b[0;34m\u001b[0m\u001b[0m\n\u001b[0;32m----> 6\u001b[0;31m         \u001b[0mval\u001b[0m \u001b[0;34m=\u001b[0m \u001b[0mint\u001b[0m\u001b[0;34m(\u001b[0m\u001b[0minput\u001b[0m\u001b[0;34m(\u001b[0m\u001b[0;34m\"Попробуйте ещё - введите число: \"\u001b[0m\u001b[0;34m)\u001b[0m\u001b[0;34m)\u001b[0m\u001b[0;34m\u001b[0m\u001b[0;34m\u001b[0m\u001b[0m\n\u001b[0m\u001b[1;32m      7\u001b[0m     \u001b[0;32mfinally\u001b[0m\u001b[0;34m:\u001b[0m\u001b[0;34m\u001b[0m\u001b[0;34m\u001b[0m\u001b[0m\n\u001b[1;32m      8\u001b[0m         \u001b[0mprint\u001b[0m\u001b[0;34m(\u001b[0m\u001b[0;34m\"Выполняем блок finally!\"\u001b[0m\u001b[0;34m)\u001b[0m\u001b[0;34m\u001b[0m\u001b[0;34m\u001b[0m\u001b[0m\n",
      "\u001b[0;31mValueError\u001b[0m: invalid literal for int() with base 10: 'four'"
     ]
    }
   ],
   "source": [
    "askint()"
   ]
  },
  {
   "cell_type": "markdown",
   "metadata": {},
   "source": [
    "Хм...мы выполнили только одну проверку. А что если выполнять такую проверку много раз? Для этого можно использовать цикл while!"
   ]
  },
  {
   "cell_type": "code",
   "execution_count": 12,
   "metadata": {
    "collapsed": true
   },
   "outputs": [],
   "source": [
    "def askint():\n",
    "    while True:\n",
    "        try:\n",
    "            val = int(input(\"Введите число: \"))\n",
    "        except:\n",
    "            print(\"Кажется, что Вы ввели не число!\")\n",
    "            continue\n",
    "        else:\n",
    "            print(\"Да, это число!\")\n",
    "            break\n",
    "        finally:\n",
    "            print(\"Выполняем блок finally!\")\n",
    "        print(val)"
   ]
  },
  {
   "cell_type": "code",
   "execution_count": 13,
   "metadata": {},
   "outputs": [
    {
     "name": "stdout",
     "output_type": "stream",
     "text": [
      "Введите число: five\n",
      "Кажется, что Вы ввели не число!\n",
      "Выполняем блок finally!\n",
      "Введите число: four\n",
      "Кажется, что Вы ввели не число!\n",
      "Выполняем блок finally!\n",
      "Введите число: 3\n",
      "Да, это число!\n",
      "Выполняем блок finally!\n"
     ]
    }
   ],
   "source": [
    "askint()"
   ]
  },
  {
   "cell_type": "markdown",
   "metadata": {},
   "source": [
    "Почему же наша функция выводит \"Выполняем блок finally!\" после каждой попытки, но при этом в конце не выводит значение `val`? Это потому, что для конструкций try/except/finally, любая команда <code>continue</code> или <code>break</code> выполняется *после* выполнения всей конструкции try/except/finally. Это означает, что после того, как мы успешно ввели **3** и попали в блок <code>else:</code>, в котором находится команда <code>break</code>. Далее мы продолжили выполнение конструкций try/except/finally и перешли в блок <code>finally:</code>. И лишь затем команда break была выполнена, и мы вышли из цикла. И поскольку команда <code>print(val)</code> была уже вне конструкции try/except/finally, она не была выполнена, поскольку сработала команда <code>break</code>.\n",
    "\n",
    "Давайте сделаем ещё одно изменение в коде:"
   ]
  },
  {
   "cell_type": "code",
   "execution_count": 13,
   "metadata": {
    "collapsed": true
   },
   "outputs": [],
   "source": [
    "def askint():\n",
    "    while True:\n",
    "        try:\n",
    "            val = int(input(\"Введите число: \"))\n",
    "        except:\n",
    "            print(\"Кажется, что Вы ввели не число!\")\n",
    "            continue\n",
    "        else:\n",
    "            print(\"Да, это число!\")\n",
    "            print(val)\n",
    "            break\n",
    "        finally:\n",
    "            print(\"Выполняем блок finally!\")"
   ]
  },
  {
   "cell_type": "code",
   "execution_count": 14,
   "metadata": {},
   "outputs": [
    {
     "name": "stdout",
     "output_type": "stream",
     "text": [
      "Введите число: six\n",
      "Кажется, что Вы ввели не число!\n",
      "Выполняем блок finally!\n",
      "Введите число: 6\n",
      "Да, это число!\n",
      "Выполняем блок finally!\n"
     ]
    }
   ],
   "source": [
    "askint()"
   ]
  },
  {
   "cell_type": "markdown",
   "metadata": {},
   "source": [
    "**Отлично! Теперь Вы знаете, как обрабатывать ошибки и исключения Python с помощью try, except, else и finally!**"
   ]
  }
 ],
 "metadata": {
  "kernelspec": {
   "display_name": "Python 3",
   "language": "python",
   "name": "python3"
  },
  "language_info": {
   "codemirror_mode": {
    "name": "ipython",
    "version": 3
   },
   "file_extension": ".py",
   "mimetype": "text/x-python",
   "name": "python",
   "nbconvert_exporter": "python",
   "pygments_lexer": "ipython3",
   "version": "3.6.1"
  }
 },
 "nbformat": 4,
 "nbformat_minor": 1
}
