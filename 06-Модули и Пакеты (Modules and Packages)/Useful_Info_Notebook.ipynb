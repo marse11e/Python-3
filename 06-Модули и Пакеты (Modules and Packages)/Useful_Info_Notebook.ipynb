{
 "cells": [
  {
   "cell_type": "markdown",
   "metadata": {},
   "source": [
    "# Модули и пакеты\n",
    "\n",
    "В этом разделе мы изучим:\n",
    "* как реализовать базовый модуль, и как импортировать его в скрипте Python\n",
    "* запустить скрипт Python из ячейки Jupyter\n",
    "* как передавать в скрипт параметры командной строки\n",
    "\n",
    "Посмотрите видео-лекции для дополнительной информации по этой теме.\n",
    "\n",
    "Лучший источник в интернете это официальная документация:\n",
    "https://docs.python.org/3/tutorial/modules.html#packages\n",
    "\n",
    "Но мне также очень нравится информация вот здесь: https://python4astronomers.github.io/installation/packages.html\n",
    "\n",
    "## Пишем модули"
   ]
  },
  {
   "cell_type": "code",
   "execution_count": 1,
   "metadata": {},
   "outputs": [
    {
     "name": "stdout",
     "output_type": "stream",
     "text": [
      "Writing file1.py\n"
     ]
    }
   ],
   "source": [
    "%%writefile file1.py\n",
    "def myfunc(x):\n",
    "    return [num for num in range(x) if num%2==0]\n",
    "list1 = myfunc(11)"
   ]
  },
  {
   "cell_type": "markdown",
   "metadata": {},
   "source": [
    "**file1.py** будет использоваться как модуль.\n",
    "\n",
    "Обратите внимание, что этот модуль ничего не выводит на экран и ничего не возвращает,\n",
    "он только определяет функцию *myfunc* и переменную *list1*.\n",
    "## Пишем скрипты"
   ]
  },
  {
   "cell_type": "code",
   "execution_count": 2,
   "metadata": {},
   "outputs": [
    {
     "name": "stdout",
     "output_type": "stream",
     "text": [
      "Writing file2.py\n"
     ]
    }
   ],
   "source": [
    "%%writefile file2.py\n",
    "import file1\n",
    "file1.list1.append(12)\n",
    "print(file1.list1)"
   ]
  },
  {
   "cell_type": "markdown",
   "metadata": {},
   "source": [
    "**file2.py** это скрипт Python.\n",
    "\n",
    "Сначала мы импортируем модуль **file1** (обратите внимание на отсутствие расширения .py)<br>\n",
    "Далее, мы получаем доступ к переменной *list1* внутри **file1**, и выполняем для неё метод append.<br>\n",
    "`.append(12)` подтверждает, что мы работаем с объектом список, а не просто со строкой.<br>\n",
    "И наконец, и выводим на экран изменённый список.\n",
    "## Выполнение скриптов"
   ]
  },
  {
   "cell_type": "code",
   "execution_count": 3,
   "metadata": {},
   "outputs": [
    {
     "name": "stdout",
     "output_type": "stream",
     "text": [
      "[0, 2, 4, 6, 8, 10, 12]\n"
     ]
    }
   ],
   "source": [
    "! python file2.py"
   ]
  },
  {
   "cell_type": "markdown",
   "metadata": {},
   "source": [
    "Здесь мы выполняем наш скрипт из командной строки. Восклицательный знак - это способ в Jupyter для запуска команд из командной строки внутри ячейки Jupyter."
   ]
  },
  {
   "cell_type": "code",
   "execution_count": 4,
   "metadata": {},
   "outputs": [
    {
     "name": "stdout",
     "output_type": "stream",
     "text": [
      "[0, 2, 4, 6, 8, 10]\n"
     ]
    }
   ],
   "source": [
    "import file1\n",
    "print(file1.list1)"
   ]
  },
  {
   "cell_type": "markdown",
   "metadata": {},
   "source": [
    "Ячейка выше показывает, что мы не меняли **file1.py**, мы только добавили число к списку *после* того, как список был добавлен в **file2**."
   ]
  },
  {
   "cell_type": "markdown",
   "metadata": {},
   "source": [
    "## Передаём параметры командной строки\n",
    "Модуль `sys` в Python позволяет Вам получить доступ к параметрам командной строки при вызове скриптов."
   ]
  },
  {
   "cell_type": "code",
   "execution_count": 5,
   "metadata": {},
   "outputs": [
    {
     "name": "stdout",
     "output_type": "stream",
     "text": [
      "Writing file3.py\n"
     ]
    }
   ],
   "source": [
    "%%writefile file3.py\n",
    "import sys\n",
    "import file1\n",
    "num = int(sys.argv[1])\n",
    "print(file1.myfunc(num))"
   ]
  },
  {
   "cell_type": "markdown",
   "metadata": {},
   "source": [
    "Обратите внимание, что мы выбрали второй элемент в списке параметров с помощью `sys.argv[1]`.<br>\n",
    "Это потому, что список, созданный с помощью `sys.argv`, всегда начинается с имени используемого файла.<br>"
   ]
  },
  {
   "cell_type": "code",
   "execution_count": 6,
   "metadata": {},
   "outputs": [
    {
     "name": "stdout",
     "output_type": "stream",
     "text": [
      "[0, 2, 4, 6, 8, 10, 12, 14, 16, 18, 20]\n"
     ]
    }
   ],
   "source": [
    "! python file3.py 21"
   ]
  },
  {
   "cell_type": "markdown",
   "metadata": {},
   "source": [
    "Здесь мы передаём 21 в качестве верхней границы диапазона для функции *myfunc* в **list1.py**"
   ]
  },
  {
   "cell_type": "markdown",
   "metadata": {},
   "source": [
    "## Что такое модули\n",
    "\n",
    "Модули в Python - это просто файлы Python с расширением .py, которые реализуют набор функций. Модули импортируются из других модулей с помощью команды <code>import</code>.\n",
    "\n",
    "Чтобы импортировать модуль, используйте команду <code>import</code>. Полный список встроенных модулей в стандартной библиотеке Python можно посмотреть [здесь](https://docs.python.org/3/py-modindex.html).\n",
    "\n",
    "Когда модуль первый раз загружается в запускаемом скрипте Python, то выполняется инициализация - один раз выполняется код модуля. Если другой модуль в Вашем коде тоже импортирует тот же модуль, то второй раз загрузка не происходит. Локальные переменные внутри модуля инициализируются только один раз.\n",
    "\n",
    "Если мы хотим импортировать модуль math, мы просто пишем import и затем название модуля:"
   ]
  },
  {
   "cell_type": "code",
   "execution_count": 7,
   "metadata": {
    "collapsed": true
   },
   "outputs": [],
   "source": [
    "# импортируем библиотеку\n",
    "import math"
   ]
  },
  {
   "cell_type": "code",
   "execution_count": 8,
   "metadata": {},
   "outputs": [
    {
     "data": {
      "text/plain": [
       "3"
      ]
     },
     "execution_count": 8,
     "metadata": {},
     "output_type": "execute_result"
    }
   ],
   "source": [
    "# используем её - выполняем округление наверх\n",
    "math.ceil(2.4)"
   ]
  },
  {
   "cell_type": "markdown",
   "metadata": {},
   "source": [
    "## Встроенные модули\n",
    "Для исследования модулей в Python можно использовать следующие полезные функции - <code>dir</code> и  <code>help</code>.\n",
    "\n",
    "С помощью функции <code>dir</code> можно посмотреть, какие функции реализованы в каждом модуле:"
   ]
  },
  {
   "cell_type": "code",
   "execution_count": 9,
   "metadata": {},
   "outputs": [
    {
     "name": "stdout",
     "output_type": "stream",
     "text": [
      "['__doc__', '__loader__', '__name__', '__package__', '__spec__', 'acos', 'acosh', 'asin', 'asinh', 'atan', 'atan2', 'atanh', 'ceil', 'copysign', 'cos', 'cosh', 'degrees', 'e', 'erf', 'erfc', 'exp', 'expm1', 'fabs', 'factorial', 'floor', 'fmod', 'frexp', 'fsum', 'gamma', 'gcd', 'hypot', 'inf', 'isclose', 'isfinite', 'isinf', 'isnan', 'ldexp', 'lgamma', 'log', 'log10', 'log1p', 'log2', 'modf', 'nan', 'pi', 'pow', 'radians', 'sin', 'sinh', 'sqrt', 'tan', 'tanh', 'tau', 'trunc']\n"
     ]
    }
   ],
   "source": [
    "print(dir(math))"
   ]
  },
  {
   "cell_type": "markdown",
   "metadata": {},
   "source": [
    "Когда мы нашли нужную нам функцию в модуле, мы можем прочитать информацию о ней с помощью функции <code>help</code> внутри интерпретатора Python:\n",
    "\n"
   ]
  },
  {
   "cell_type": "code",
   "execution_count": 10,
   "metadata": {},
   "outputs": [
    {
     "name": "stdout",
     "output_type": "stream",
     "text": [
      "Help on built-in function ceil in module math:\n",
      "\n",
      "ceil(...)\n",
      "    ceil(x)\n",
      "    \n",
      "    Return the ceiling of x as an Integral.\n",
      "    This is the smallest integer >= x.\n",
      "\n"
     ]
    }
   ],
   "source": [
    "help(math.ceil)"
   ]
  },
  {
   "cell_type": "markdown",
   "metadata": {},
   "source": [
    "## Пишем модули\n",
    "Модули в Python пишутся очень просто. Чтобы создать свой собственный модуль, просто создайте новый файл .py с названием модуля, и затем импортируйте его, используя имя файла (без расширения .py) с помощью команды import.\n",
    "\n",
    "## Пишем пакеты (packages)\n",
    "Пакеты это пространства имён, которые содержат набор пакетов и сами модули. Это просто папки (директории), но с одной особенностью.\n",
    "\n",
    "Каждый пакет в Python это папка (директория), которая ДОЛЖНА содержать специальный файл с именем **\\__init\\__.py**. Этот файл может быть пустым, и он указывает, что эта папка (директория) содержит пакет Python, и он может быть импортирован так же, как и модули.\n",
    "\n",
    "Если мы создадим папку foo, которая будет именем пакета, то внутри него мы можем создать модуль с названием bar. Также нужно не забыть добавить файл **\\__init\\__.py** в папке foo.\n",
    "\n",
    "Чтобы использовать модуль bar, его можно импортировать двумя способами:"
   ]
  },
  {
   "cell_type": "code",
   "execution_count": null,
   "metadata": {
    "collapsed": true
   },
   "outputs": [],
   "source": [
    "# это просто пример кода - если его запустить, то он не сработает\n",
    "import foo.bar"
   ]
  },
  {
   "cell_type": "code",
   "execution_count": null,
   "metadata": {
    "collapsed": true
   },
   "outputs": [],
   "source": [
    "# ИЛИ можно сделать вот так\n",
    "from foo import bar"
   ]
  },
  {
   "cell_type": "markdown",
   "metadata": {},
   "source": [
    "Используя первый способ, мы должны использовать префикс foo для доступа к модулю bar. Для второго способа это не нужно, поскольку мы импортируем модуль в наше пространство имён.\n",
    "\n",
    "Файл **\\__init\\__.py** может указывать, какие модули пакет экспортирует в качестве API, а какие остаются внутренними. Для этого нужно переопределить переменную **\\__all\\__**, например вот так:"
   ]
  },
  {
   "cell_type": "code",
   "execution_count": null,
   "metadata": {
    "collapsed": true
   },
   "outputs": [],
   "source": [
    "__init__.py:\n",
    "\n",
    "__all__ = [\"bar\"]"
   ]
  }
 ],
 "metadata": {
  "kernelspec": {
   "display_name": "Python 3",
   "language": "python",
   "name": "python3"
  },
  "language_info": {
   "codemirror_mode": {
    "name": "ipython",
    "version": 3
   },
   "file_extension": ".py",
   "mimetype": "text/x-python",
   "name": "python",
   "nbconvert_exporter": "python",
   "pygments_lexer": "ipython3",
   "version": "3.6.1"
  }
 },
 "nbformat": 4,
 "nbformat_minor": 1
}
