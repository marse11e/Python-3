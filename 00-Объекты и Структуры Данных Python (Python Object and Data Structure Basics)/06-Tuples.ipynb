{
 "cells": [
  {
   "cell_type": "markdown",
   "metadata": {},
   "source": [
    "# Кортежи (Tuples)\n",
    "\n",
    "В Python кортежи (tuples) очень похожи на списки. Однако, в отличие от списков, они неизменяемы (*immutable*), то есть их нельзя поменять. Кортежи удобно использовать для элементов, которые не должны меняться, например дни недели и даты в календаре. \n",
    "\n",
    "В этой лекции мы сделаем обзор следующих тем:\n",
    "\n",
    "    1) Создание кортежей\n",
    "    2) Основные методы для кортежей\n",
    "    3) Неизменность (Immutability)\n",
    "    4) Когда использовать кортежи\n",
    "\n",
    "Можно использовать интуицию для работы с кортежами, используя знания о работе со списками. Кортежи ведут себя очень похожим образом, и основное отличие в том, что они неизменяемы.\n",
    "\n",
    "## Создание кортежей\n",
    "\n",
    "Для создания кортежа используются круглые скобки (), внутри которых элементы отделяются друг от друга запятыми. Например:"
   ]
  },
  {
   "cell_type": "code",
   "execution_count": 1,
   "metadata": {
    "collapsed": true
   },
   "outputs": [],
   "source": [
    "# Создаем кортеж\n",
    "t = (1,2,3)"
   ]
  },
  {
   "cell_type": "code",
   "execution_count": 2,
   "metadata": {},
   "outputs": [
    {
     "data": {
      "text/plain": [
       "3"
      ]
     },
     "execution_count": 2,
     "metadata": {},
     "output_type": "execute_result"
    }
   ],
   "source": [
    "# Проверяем длину с помощью len, как и для списков\n",
    "len(t)"
   ]
  },
  {
   "cell_type": "code",
   "execution_count": 3,
   "metadata": {},
   "outputs": [
    {
     "data": {
      "text/plain": [
       "('one', 2)"
      ]
     },
     "execution_count": 3,
     "metadata": {},
     "output_type": "execute_result"
    }
   ],
   "source": [
    "# Также можно смешивать различные типы объектов\n",
    "t = ('one',2)\n",
    "\n",
    "# Проверка\n",
    "t"
   ]
  },
  {
   "cell_type": "code",
   "execution_count": 4,
   "metadata": {},
   "outputs": [
    {
     "data": {
      "text/plain": [
       "'one'"
      ]
     },
     "execution_count": 4,
     "metadata": {},
     "output_type": "execute_result"
    }
   ],
   "source": [
    "# Используем индексы так же, как и в списках \n",
    "t[0]"
   ]
  },
  {
   "cell_type": "code",
   "execution_count": 5,
   "metadata": {},
   "outputs": [
    {
     "data": {
      "text/plain": [
       "2"
      ]
     },
     "execution_count": 5,
     "metadata": {},
     "output_type": "execute_result"
    }
   ],
   "source": [
    "# Аналогично спискам\n",
    "t[-1]"
   ]
  },
  {
   "cell_type": "markdown",
   "metadata": {},
   "source": [
    "## Основные методы для кортежей\n",
    "\n",
    "Кортежи имеют встроенные методы, но их меньше, чем для списков. Посмотрим на два из них:"
   ]
  },
  {
   "cell_type": "code",
   "execution_count": 6,
   "metadata": {},
   "outputs": [
    {
     "data": {
      "text/plain": [
       "0"
      ]
     },
     "execution_count": 6,
     "metadata": {},
     "output_type": "execute_result"
    }
   ],
   "source": [
    "# Используйте .index, чтобы указать значение и узнать его позицию (индекс) в кортеже\n",
    "# Помните, что индексация начинается с нуля\n",
    "t.index('one')"
   ]
  },
  {
   "cell_type": "code",
   "execution_count": 7,
   "metadata": {},
   "outputs": [
    {
     "data": {
      "text/plain": [
       "1"
      ]
     },
     "execution_count": 7,
     "metadata": {},
     "output_type": "execute_result"
    }
   ],
   "source": [
    "# Используйте .count, чтобы посчитать, сколько раз встречается значение\n",
    "t.count('one')"
   ]
  },
  {
   "cell_type": "markdown",
   "metadata": {},
   "source": [
    "## Неизменность (Immutability)\n",
    "\n",
    "Еще раз повторимся, что кортежи являются неизменными. Давайте это проверим:"
   ]
  },
  {
   "cell_type": "code",
   "execution_count": 8,
   "metadata": {},
   "outputs": [
    {
     "ename": "TypeError",
     "evalue": "'tuple' object does not support item assignment",
     "output_type": "error",
     "traceback": [
      "\u001b[1;31m---------------------------------------------------------------------------\u001b[0m",
      "\u001b[1;31mTypeError\u001b[0m                                 Traceback (most recent call last)",
      "\u001b[1;32m<ipython-input-8-1257c0aa9edd>\u001b[0m in \u001b[0;36m<module>\u001b[1;34m()\u001b[0m\n\u001b[1;32m----> 1\u001b[1;33m \u001b[0mt\u001b[0m\u001b[1;33m[\u001b[0m\u001b[1;36m0\u001b[0m\u001b[1;33m]\u001b[0m\u001b[1;33m=\u001b[0m \u001b[1;34m'change'\u001b[0m\u001b[1;33m\u001b[0m\u001b[0m\n\u001b[0m",
      "\u001b[1;31mTypeError\u001b[0m: 'tuple' object does not support item assignment"
     ]
    }
   ],
   "source": [
    "t[0]= 'change'"
   ]
  },
  {
   "cell_type": "markdown",
   "metadata": {},
   "source": [
    "Благодаря неизменности, кортежи не могут увеличиваться. Как только кортеж создан, в него нельзя добавить элементы."
   ]
  },
  {
   "cell_type": "code",
   "execution_count": 9,
   "metadata": {},
   "outputs": [
    {
     "ename": "AttributeError",
     "evalue": "'tuple' object has no attribute 'append'",
     "output_type": "error",
     "traceback": [
      "\u001b[1;31m---------------------------------------------------------------------------\u001b[0m",
      "\u001b[1;31mAttributeError\u001b[0m                            Traceback (most recent call last)",
      "\u001b[1;32m<ipython-input-9-b75f5b09ac19>\u001b[0m in \u001b[0;36m<module>\u001b[1;34m()\u001b[0m\n\u001b[1;32m----> 1\u001b[1;33m \u001b[0mt\u001b[0m\u001b[1;33m.\u001b[0m\u001b[0mappend\u001b[0m\u001b[1;33m(\u001b[0m\u001b[1;34m'nope'\u001b[0m\u001b[1;33m)\u001b[0m\u001b[1;33m\u001b[0m\u001b[0m\n\u001b[0m",
      "\u001b[1;31mAttributeError\u001b[0m: 'tuple' object has no attribute 'append'"
     ]
    }
   ],
   "source": [
    "t.append('nope')"
   ]
  },
  {
   "cell_type": "markdown",
   "metadata": {},
   "source": [
    "## Когда использовать кортежи\n",
    "\n",
    "Вы можете спросить: \"Зачем вообще нужны кортежи, если они содержат меньше методов, чем списки? Не проще ли всегда использовать списки?\" Честно говоря, кортежи используются не так часто, как списки. Но они используются в тех случаях, когда неизменность важна. Например, если Ваша программа передаёт куда-то объект, и Вам нужно быть уверенным, что объект не поменяется, то кортежи - это подходящее решение для этой задачи. Они предоставляют удобный способ обеспечить целостность данных.\n",
    "\n",
    "Итак, теперь Вы можете создавать и использовать кортежи, и понимаете их свойство неизменности.\n",
    "\n",
    "Далее рассмотрим множества (Sets) и логический тип Boolean!"
   ]
  },
  {
   "cell_type": "code",
   "execution_count": null,
   "metadata": {
    "collapsed": true
   },
   "outputs": [],
   "source": []
  }
 ],
 "metadata": {
  "kernelspec": {
   "display_name": "Python 3",
   "language": "python",
   "name": "python3"
  },
  "language_info": {
   "codemirror_mode": {
    "name": "ipython",
    "version": 3
   },
   "file_extension": ".py",
   "mimetype": "text/x-python",
   "name": "python",
   "nbconvert_exporter": "python",
   "pygments_lexer": "ipython3",
   "version": "3.6.1"
  }
 },
 "nbformat": 4,
 "nbformat_minor": 1
}
