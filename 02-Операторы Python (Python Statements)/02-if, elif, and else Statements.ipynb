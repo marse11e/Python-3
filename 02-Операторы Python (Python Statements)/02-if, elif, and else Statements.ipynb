{
 "cells": [
  {
   "cell_type": "markdown",
   "metadata": {},
   "source": [
    "# Операторы if, elif, else\n",
    "\n",
    "Операторы <code>if</code> в Python позволяют компьютеру выполнять разные действия в зависимости от условий.\n",
    "\n",
    "Представьте, что мы говорим компьютеру:\n",
    "\n",
    "\"Если случится вот это, то выполни такое-то действие\"\n",
    "\n",
    "Мы также можем развить эту идею с помощью операторов <code>elif</code> и <code>else</code>, которые позволяют нам сказать компьютеру следующее:\n",
    "\n",
    "\"Если выполняется такое-то условие, то выполни такое-то действие. Иначе, если выполняется другое условие, то выполни другое действие. Иначе, если *никакие* из условий выше не выполнены, то выполни третье действие.\"\n",
    "\n",
    "Давайте посмотрим на синтаксис оператора <code>if</code>, чтобы увидеть это в действии:\n",
    "\n",
    "    if условие1:\n",
    "        выполнить действие1\n",
    "    elif условие2:\n",
    "        выполнить действие2\n",
    "    else: \n",
    "        выполнить действие3"
   ]
  },
  {
   "cell_type": "markdown",
   "metadata": {},
   "source": [
    "## Первый пример\n",
    "\n",
    "Рассмотрим пример:"
   ]
  },
  {
   "cell_type": "code",
   "execution_count": 1,
   "metadata": {
    "scrolled": true
   },
   "outputs": [
    {
     "name": "stdout",
     "output_type": "stream",
     "text": [
      "It was true!\n"
     ]
    }
   ],
   "source": [
    "if True:\n",
    "    print('It was true!')"
   ]
  },
  {
   "cell_type": "markdown",
   "metadata": {},
   "source": [
    "Добавим else:"
   ]
  },
  {
   "cell_type": "code",
   "execution_count": 1,
   "metadata": {},
   "outputs": [
    {
     "name": "stdout",
     "output_type": "stream",
     "text": [
      "Это предложение будет напечатано во всех случаях, когда x не равен true\n"
     ]
    }
   ],
   "source": [
    "x = False\n",
    "\n",
    "if x:\n",
    "    print('x равен True!')\n",
    "else:\n",
    "    print('Это предложение будет напечатано во всех случаях, когда x не равен true')"
   ]
  },
  {
   "cell_type": "markdown",
   "metadata": {},
   "source": [
    "### Несколько условий\n",
    "\n",
    "Посмотрим более полную картину для операторов <code>if</code>, <code>elif</code>, и <code>else</code>!\n",
    "\n",
    "Мы напишем это в виде вложенной структуры. Обратите внимание, как в этом коде расположены <code>if</code>, <code>elif</code> и <code>else</code>. Это позволяет увидеть, какой <code>if</code> относится к какому <code>elif</code> или <code>else</code>.\n",
    "\n",
    "Также мы вспомним синтаксис сравнения значений в Python."
   ]
  },
  {
   "cell_type": "code",
   "execution_count": 3,
   "metadata": {},
   "outputs": [
    {
     "name": "stdout",
     "output_type": "stream",
     "text": [
      "Welcome to the bank!\n"
     ]
    }
   ],
   "source": [
    "loc = 'Bank'\n",
    "\n",
    "if loc == 'Auto Shop':\n",
    "    print('Welcome to the Auto Shop!')\n",
    "elif loc == 'Bank':\n",
    "    print('Welcome to the bank!')\n",
    "else:\n",
    "    print('Where are you?')"
   ]
  },
  {
   "cell_type": "markdown",
   "metadata": {},
   "source": [
    "Обратите внимание на вложенные операторы <code>if</code> - они проверяются до тех пор, пока не встретится условие, которое принимает значение True. И тогда выполняется код, расположенный после этого условия.  Вы можете поместить сколько угодно операторов <code>elif</code>, прежде чем указать завершающий <code>else</code>.\n",
    "\n",
    "Рассмотрим еще два простых примера для операторов <code>if</code>, <code>elif</code> и <code>else</code>:"
   ]
  },
  {
   "cell_type": "code",
   "execution_count": 4,
   "metadata": {},
   "outputs": [
    {
     "name": "stdout",
     "output_type": "stream",
     "text": [
      "Welcome Sammy!\n"
     ]
    }
   ],
   "source": [
    "person = 'Sammy'\n",
    "\n",
    "if person == 'Sammy':\n",
    "    print('Welcome Sammy!')\n",
    "else:\n",
    "    print(\"Welcome, what's your name?\")"
   ]
  },
  {
   "cell_type": "code",
   "execution_count": 5,
   "metadata": {},
   "outputs": [
    {
     "name": "stdout",
     "output_type": "stream",
     "text": [
      "Welcome George!\n"
     ]
    }
   ],
   "source": [
    "person = 'George'\n",
    "\n",
    "if person == 'Sammy':\n",
    "    print('Welcome Sammy!')\n",
    "elif person =='George':\n",
    "    print('Welcome George!')\n",
    "else:\n",
    "    print(\"Welcome, what's your name?\")"
   ]
  },
  {
   "cell_type": "markdown",
   "metadata": {},
   "source": [
    "## Отступы\n",
    "\n",
    "Очень важно помнить, как в Python используются отступы для структурирования кода. Мы ещё затронем эту тему, когда будем создавать функции!"
   ]
  },
  {
   "cell_type": "code",
   "execution_count": null,
   "metadata": {
    "collapsed": true
   },
   "outputs": [],
   "source": []
  }
 ],
 "metadata": {
  "kernelspec": {
   "display_name": "Python 3",
   "language": "python",
   "name": "python3"
  },
  "language_info": {
   "codemirror_mode": {
    "name": "ipython",
    "version": 3
   },
   "file_extension": ".py",
   "mimetype": "text/x-python",
   "name": "python",
   "nbconvert_exporter": "python",
   "pygments_lexer": "ipython3",
   "version": "3.6.1"
  }
 },
 "nbformat": 4,
 "nbformat_minor": 1
}
