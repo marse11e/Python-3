{
 "cells": [
  {
   "cell_type": "markdown",
   "metadata": {},
   "source": [
    "# Задание - Игра на угадывание чисел - РЕШЕНИЕ\n",
    "\n",
    "Давайте используем циклы `while` для создания игры на угадывание чисел.\n",
    "\n",
    "Задание такое:\n",
    "\n",
    "Напишите программу, которая загадывает случайное число от 1 до 100, и предлагает игрокам отгадать число. Правила такие:\n",
    "\n",
    "1. Если отгадка игрока меньше 1 или больше 100, то сказать \"ВНЕ ДИАПАЗОНА\"\n",
    "2. На первом шаге игрока, если его отгадка\n",
    " * отстоит не дальше чем на 10 от загаданного числа, то сказать \"ТЕПЛО!\"\n",
    " * если дальше чем на 10 от загаданного числа, то сказать \"ХОЛОДНО!\"\n",
    "3. На всех последующих шагах, если отгадка: \n",
    " * ближе к загаданному числу, чем предыдущая отгадка, то сказать \"ТЕПЛЕЕ!\"\n",
    " * если дальше от загаданного числа, чем предыдущая отгадка, то сказать \"ХОЛОДНЕЕ!\"\n",
    "4. Когда отгадка игрока равна загаданному числу, то сказать ему что отгадка правильна, *и* сказать сколько попыток это заняло!\n",
    "\n",
    "Вы можете написать программу с нуля, или использовать предложенные ниже шаги. В отдельном notebook приведено решение. Желаю удачи!\n"
   ]
  },
  {
   "cell_type": "markdown",
   "metadata": {},
   "source": [
    "#### Сначала, возьмите случайное число от 1 до 100, используя библиотеку random, и сохраните это число в переменной\n",
    "\n",
    "Замечание: `random.randint(a,b)` возвращает случайное число в диапазоне `[a, b]`, включая обе границы диапазона."
   ]
  },
  {
   "cell_type": "code",
   "execution_count": 1,
   "metadata": {
    "collapsed": true
   },
   "outputs": [],
   "source": [
    "import random\n",
    "\n",
    "num = random.randint(1,100)"
   ]
  },
  {
   "cell_type": "markdown",
   "metadata": {},
   "source": [
    "#### Далее, напечатайте введение в игру и описание правил"
   ]
  },
  {
   "cell_type": "code",
   "execution_count": 1,
   "metadata": {},
   "outputs": [
    {
     "name": "stdout",
     "output_type": "stream",
     "text": [
      "ДОБРО ПОЖАЛОВАТЬ В ИГРУ УГАДАЙ ЧИСЛО!\n",
      "Я загадал число от 1 до 100\n",
      "Если Ваша отгадка дальше чем на 10 от моего числа, то я скажу вам ХОЛОДНО\n",
      "Если Ваша отгадка ближе чем на 10 от моего числа, то я скажу вам ТЕПЛО\n",
      "Если Ваша отгадка дальше чем предыдущая отгадка, то я скажу вам ХОЛОДНЕЕ\n",
      "Если Ваша отгадка ближе чем предыдущая отгадка, то я скажу вам ТЕПЛЕЕ\n",
      "НАЧНЁМ ИГРУ!\n"
     ]
    }
   ],
   "source": [
    "print(\"ДОБРО ПОЖАЛОВАТЬ В ИГРУ УГАДАЙ ЧИСЛО!\")\n",
    "print(\"Я загадал число от 1 до 100\")\n",
    "print(\"Если Ваша отгадка дальше чем на 10 от моего числа, то я скажу вам ХОЛОДНО\")\n",
    "print(\"Если Ваша отгадка ближе чем на 10 от моего числа, то я скажу вам ТЕПЛО\")\n",
    "print(\"Если Ваша отгадка дальше чем предыдущая отгадка, то я скажу вам ХОЛОДНЕЕ\")\n",
    "print(\"Если Ваша отгадка ближе чем предыдущая отгадка, то я скажу вам ТЕПЛЕЕ\")\n",
    "print(\"НАЧНЁМ ИГРУ!\")"
   ]
  },
  {
   "cell_type": "markdown",
   "metadata": {},
   "source": [
    "#### Создайте список для хранения отгадок\n",
    "\n",
    "Подсказка: в качестве начального значения можно использовать 0. Это полезно т.к. это значение можно использовать как \"False\""
   ]
  },
  {
   "cell_type": "code",
   "execution_count": 3,
   "metadata": {
    "collapsed": true
   },
   "outputs": [],
   "source": [
    "guesses = [0]"
   ]
  },
  {
   "cell_type": "markdown",
   "metadata": {},
   "source": [
    "#### Напишите цикл `while`, в котором спрашиваете отгадку с проверкой её попадания в диапазон от 1 до 100. Проверьте несколько раз, чтобы убедиться что это работает."
   ]
  },
  {
   "cell_type": "code",
   "execution_count": 4,
   "metadata": {},
   "outputs": [
    {
     "name": "stdout",
     "output_type": "stream",
     "text": [
      "I'm thinking of a number between 1 and 100.\n",
      "  What is your guess? 500\n",
      "OUT OF BOUNDS! Please try again: \n",
      "I'm thinking of a number between 1 and 100.\n",
      "  What is your guess? 50\n"
     ]
    }
   ],
   "source": [
    "while True:\n",
    "    \n",
    "    guess = int(input(\"Я загадал число от 1 до 100.\\n  Какая Ваша отгадка? \"))\n",
    "    \n",
    "    if guess < 1 or guess > 100:\n",
    "        print('ВНЕ ДИАПАЗОНА! Попробуйте еще: ')\n",
    "        continue\n",
    "        \n",
    "    break"
   ]
  },
  {
   "cell_type": "markdown",
   "metadata": {},
   "source": [
    "#### Напишите цикл `while`, который сравнивает отгадку игрока и загаданным числом. Если отгадка правильна, то выйдите из цикла (break). Иначе, скажите игроку, теплее или холоднее, и продолжайте спрашивать отгадки.\n",
    "\n",
    "Подсказки:\n",
    "* может быть полезно сначала написать основные варианты работы программы на бумаге!\n",
    "* Вы можете использовать функцию `abs()`, чтобы найти расстояние между двумя числами\n",
    "* Если Вы добавляете в список все новые отгадки, то предыдущую отгадку можно получить с помощью `guesses[-2]`"
   ]
  },
  {
   "cell_type": "code",
   "execution_count": 5,
   "metadata": {},
   "outputs": [
    {
     "name": "stdout",
     "output_type": "stream",
     "text": [
      "I'm thinking of a number between 1 and 100.\n",
      "  What is your guess? 50\n",
      "COLD!\n",
      "I'm thinking of a number between 1 and 100.\n",
      "  What is your guess? 75\n",
      "WARMER!\n",
      "I'm thinking of a number between 1 and 100.\n",
      "  What is your guess? 85\n",
      "WARMER!\n",
      "I'm thinking of a number between 1 and 100.\n",
      "  What is your guess? 92\n",
      "COLDER!\n",
      "I'm thinking of a number between 1 and 100.\n",
      "  What is your guess? 80\n",
      "WARMER!\n",
      "I'm thinking of a number between 1 and 100.\n",
      "  What is your guess? 78\n",
      "COLDER!\n",
      "I'm thinking of a number between 1 and 100.\n",
      "  What is your guess? 82\n",
      "WARMER!\n",
      "I'm thinking of a number between 1 and 100.\n",
      "  What is your guess? 83\n",
      "COLDER!\n",
      "I'm thinking of a number between 1 and 100.\n",
      "  What is your guess? 81\n",
      "CONGRATULATIONS, YOU GUESSED IT IN ONLY 9 GUESSES!!\n"
     ]
    }
   ],
   "source": [
    "while True:\n",
    "\n",
    "    # Копируем текст из предыдущей ячейки для ввода чисел\n",
    "    guess = int(input(\"Я загадал число от 1 до 100.\\n  Какая Ваша отгадка? \"))\n",
    "    \n",
    "    if guess < 1 or guess > 100:\n",
    "        print('ВНЕ ДИАПАЗОНА! Попробуйте еще: ')\n",
    "        continue\n",
    "    \n",
    "    # здесь мы сравниваем отгадку игрока с загаданным числом\n",
    "    if guess == num:\n",
    "        print(f'ПОЗДРАВЛЯЮ, ВЫ УГАДАЛИ, ЭТО ЗАНЯЛО {len(guesses)} ПОПЫТОК!!')\n",
    "        break\n",
    "        \n",
    "    # если отгадка неправильна, то добавляем ее в список\n",
    "    guesses.append(guess)\n",
    "    \n",
    "    # при проверке первой отгадки, guesses[-2]==0, то есть это условие False\n",
    "    # и мы переходим к разделу else\n",
    "    \n",
    "    if guesses[-2]:  \n",
    "        if abs(num-guess) < abs(num-guesses[-2]):\n",
    "            print('ТЕПЛЕЕ!')\n",
    "        else:\n",
    "            print('ХОЛОДНЕЕ!')\n",
    "   \n",
    "    else:\n",
    "        if abs(num-guess) <= 10:\n",
    "            print('ТЕПЛО!')\n",
    "        else:\n",
    "            print('ХОЛОДНО!')"
   ]
  },
  {
   "cell_type": "markdown",
   "metadata": {},
   "source": [
    "Вот и всё! Вы только что запрограммировали Вашу первую игру на Python!\n",
    "\n",
    "В следующем разделе мы узнаем, как перевести некоторые из этих повторяющихся действий в *функции*, которые можно вызывать по мере необходимости."
   ]
  },
  {
   "cell_type": "markdown",
   "metadata": {},
   "source": [
    "### Отличная работа!"
   ]
  }
 ],
 "metadata": {
  "kernelspec": {
   "display_name": "Python 3",
   "language": "python",
   "name": "python3"
  },
  "language_info": {
   "codemirror_mode": {
    "name": "ipython",
    "version": 3
   },
   "file_extension": ".py",
   "mimetype": "text/x-python",
   "name": "python",
   "nbconvert_exporter": "python",
   "pygments_lexer": "ipython3",
   "version": "3.6.1"
  }
 },
 "nbformat": 4,
 "nbformat_minor": 2
}
