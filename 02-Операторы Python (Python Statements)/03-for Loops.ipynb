{
 "cells": [
  {
   "cell_type": "markdown",
   "metadata": {},
   "source": [
    "# Циклы for\n",
    "\n",
    "Циклы <code>for</code> позволяют выполнять итерации в Python; с помощью цикла можно пройти по набору элементов, которые находятся в *последовательности*, или в любом итерируемом наборе объектов. Объекты, которые мы изучали и по которым можно пройтись в цикле - это строки, списки, кортежи, и даже встроенные итерации для словарей, такие как ключи (keys) и значения (values).\n",
    "\n",
    "Мы уже видели небольшой пример оператора <code>for</code> в предыдущих лекциях, но теперь давайте его формализуем.\n",
    "\n",
    "Общий формат цикла <code>for</code> в Python выглядит так:\n",
    "\n",
    "    for item in object:\n",
    "        команды для выполнения\n",
    "    "
   ]
  },
  {
   "cell_type": "markdown",
   "metadata": {},
   "source": [
    "Название переменной item для очередного элемента может быть любым, каким Вы хотите. Так что используйте название, которое имеет смысл и которое будет понятно, когда Вы будете позднее читать этот код. Это название переменной можно использовать внутри цикла, например для выполнения проверок <code>if</code>.\n",
    "\n",
    "Давайте рассмотрим несколько примеров для цикла <code>for</code>, используя различные типы объектов. Мы начнем с простых вещей, и постепенно перейдём к более сложным.\n",
    "\n",
    "## Пример 1\n",
    "Итерации по списку"
   ]
  },
  {
   "cell_type": "code",
   "execution_count": 2,
   "metadata": {
    "collapsed": true
   },
   "outputs": [],
   "source": [
    "# Мы узнаем в следующей лекции, как автоматизировать такой вид списка\n",
    "list1 = [1,2,3,4,5,6,7,8,9,10]"
   ]
  },
  {
   "cell_type": "code",
   "execution_count": 2,
   "metadata": {},
   "outputs": [
    {
     "name": "stdout",
     "output_type": "stream",
     "text": [
      "1\n",
      "2\n",
      "3\n",
      "4\n",
      "5\n",
      "6\n",
      "7\n",
      "8\n",
      "9\n",
      "10\n"
     ]
    }
   ],
   "source": [
    "for num in list1:\n",
    "    print(num)"
   ]
  },
  {
   "cell_type": "markdown",
   "metadata": {},
   "source": [
    "Отлично! Надеюсь, это выглядит разумно. Теперь добавим оператор <code>if</code>, чтобы проверить чётные числа. Для этого сначала рассмотрим остаток от деления.\n",
    "\n",
    "### Остаток от деления\n",
    "Остаток от деления пишется с помощью символа %. Например:"
   ]
  },
  {
   "cell_type": "code",
   "execution_count": 3,
   "metadata": {},
   "outputs": [
    {
     "data": {
      "text/plain": [
       "2"
      ]
     },
     "execution_count": 3,
     "metadata": {},
     "output_type": "execute_result"
    }
   ],
   "source": [
    "17 % 5"
   ]
  },
  {
   "cell_type": "markdown",
   "metadata": {},
   "source": [
    "Такой результат получился так: 17 разделить на 5 равно 3, и остаток 2. Рассмотрим еще несколько примеров:"
   ]
  },
  {
   "cell_type": "code",
   "execution_count": 4,
   "metadata": {},
   "outputs": [
    {
     "data": {
      "text/plain": [
       "1"
      ]
     },
     "execution_count": 4,
     "metadata": {},
     "output_type": "execute_result"
    }
   ],
   "source": [
    "# 10 разделить на 3 равно 3 и остаток 1\n",
    "10 % 3"
   ]
  },
  {
   "cell_type": "code",
   "execution_count": 5,
   "metadata": {},
   "outputs": [
    {
     "data": {
      "text/plain": [
       "4"
      ]
     },
     "execution_count": 5,
     "metadata": {},
     "output_type": "execute_result"
    }
   ],
   "source": [
    "# 18 разделить на 7 равно 2 и остаток  4\n",
    "18 % 7"
   ]
  },
  {
   "cell_type": "code",
   "execution_count": 6,
   "metadata": {},
   "outputs": [
    {
     "data": {
      "text/plain": [
       "0"
      ]
     },
     "execution_count": 6,
     "metadata": {},
     "output_type": "execute_result"
    }
   ],
   "source": [
    "# 4 разделить на 2 равно 2 без остатка (остаток равен 0) \n",
    "4 % 2"
   ]
  },
  {
   "cell_type": "markdown",
   "metadata": {},
   "source": [
    "Обратите внимание, что если число делится нацело без остатка, то результат функции % равен 0. Мы можем использовать это для проверки чётных чисел: если остаток от деления на 2 равен 0, то значит число чётное!\n",
    "\n",
    "Вернемся к циклам <code>for</code>!\n",
    "\n",
    "## Пример 2\n",
    "Давайте выведем из списка только чётные числа!"
   ]
  },
  {
   "cell_type": "code",
   "execution_count": 7,
   "metadata": {},
   "outputs": [
    {
     "name": "stdout",
     "output_type": "stream",
     "text": [
      "2\n",
      "4\n",
      "6\n",
      "8\n",
      "10\n"
     ]
    }
   ],
   "source": [
    "for num in list1:\n",
    "    if num % 2 == 0:\n",
    "        print(num)"
   ]
  },
  {
   "cell_type": "markdown",
   "metadata": {},
   "source": [
    "Мы также можем написать оператор <code>else</code>:"
   ]
  },
  {
   "cell_type": "code",
   "execution_count": 3,
   "metadata": {},
   "outputs": [
    {
     "name": "stdout",
     "output_type": "stream",
     "text": [
      "Нечётное число\n",
      "2\n",
      "Нечётное число\n",
      "4\n",
      "Нечётное число\n",
      "6\n",
      "Нечётное число\n",
      "8\n",
      "Нечётное число\n",
      "10\n"
     ]
    }
   ],
   "source": [
    "for num in list1:\n",
    "    if num % 2 == 0:\n",
    "        print(num)\n",
    "    else:\n",
    "        print('Нечётное число')"
   ]
  },
  {
   "cell_type": "markdown",
   "metadata": {},
   "source": [
    "## Пример 3\n",
    "Еще один распространённый приём для циклов <code>for</code> - это нахождения суммы элементов. Например, давайте напишем цикл <code>for</code> для суммирования элементов списка:"
   ]
  },
  {
   "cell_type": "code",
   "execution_count": 9,
   "metadata": {},
   "outputs": [
    {
     "name": "stdout",
     "output_type": "stream",
     "text": [
      "55\n"
     ]
    }
   ],
   "source": [
    "# Начинаем сумму с нуля\n",
    "list_sum = 0 \n",
    "\n",
    "for num in list1:\n",
    "    list_sum = list_sum + num\n",
    "\n",
    "print(list_sum)"
   ]
  },
  {
   "cell_type": "markdown",
   "metadata": {},
   "source": [
    "Отлично! Убедитесь, что Вы понимаете, что здесь происходит. Также для этой цели можно использовать оператор <code>+=</code>, чтобы прибавить очередное значение к уже имеющемуся значению. Например:"
   ]
  },
  {
   "cell_type": "code",
   "execution_count": 10,
   "metadata": {},
   "outputs": [
    {
     "name": "stdout",
     "output_type": "stream",
     "text": [
      "55\n"
     ]
    }
   ],
   "source": [
    "# Начинаем сумму с нуля\n",
    "list_sum = 0 \n",
    "\n",
    "for num in list1:\n",
    "    list_sum += num\n",
    "\n",
    "print(list_sum)"
   ]
  },
  {
   "cell_type": "markdown",
   "metadata": {},
   "source": [
    "## Пример 4\n",
    "Мы использовали циклы <code>for</code> для списков, а как насчет строк? Помните, строки это последовательности, поэтому когда мы выполняем итерации, то получим каждый символ в строке."
   ]
  },
  {
   "cell_type": "code",
   "execution_count": 11,
   "metadata": {},
   "outputs": [
    {
     "name": "stdout",
     "output_type": "stream",
     "text": [
      "T\n",
      "h\n",
      "i\n",
      "s\n",
      " \n",
      "i\n",
      "s\n",
      " \n",
      "a\n",
      " \n",
      "s\n",
      "t\n",
      "r\n",
      "i\n",
      "n\n",
      "g\n",
      ".\n"
     ]
    }
   ],
   "source": [
    "for letter in 'This is a string.':\n",
    "    print(letter)"
   ]
  },
  {
   "cell_type": "markdown",
   "metadata": {},
   "source": [
    "## Пример 5\n",
    "Теперь посмотрим, как пишется цикл <code>for</code> для кортежей (tuple):"
   ]
  },
  {
   "cell_type": "code",
   "execution_count": 12,
   "metadata": {},
   "outputs": [
    {
     "name": "stdout",
     "output_type": "stream",
     "text": [
      "1\n",
      "2\n",
      "3\n",
      "4\n",
      "5\n"
     ]
    }
   ],
   "source": [
    "tup = (1,2,3,4,5)\n",
    "\n",
    "for t in tup:\n",
    "    print(t)"
   ]
  },
  {
   "cell_type": "markdown",
   "metadata": {},
   "source": [
    "## Пример 6\n",
    "Кортежи имеют особое свойство, когда речь заходит о циклах <code>for</code>. Если Вы выполняете итерации по последовательности, которая содержит кортежи, то выбираемый элемент тоже может быть кортежем. Это пример *распаковки кортежа* (*tuple unpacking*). В цикле <code>for</code> мы можем распаковывать кортежи внутри последовательности, и получать доступ к отдельным элементам внутри кортежа!"
   ]
  },
  {
   "cell_type": "code",
   "execution_count": 13,
   "metadata": {
    "collapsed": true
   },
   "outputs": [],
   "source": [
    "list2 = [(2,4),(6,8),(10,12)]"
   ]
  },
  {
   "cell_type": "code",
   "execution_count": 14,
   "metadata": {},
   "outputs": [
    {
     "name": "stdout",
     "output_type": "stream",
     "text": [
      "(2, 4)\n",
      "(6, 8)\n",
      "(10, 12)\n"
     ]
    }
   ],
   "source": [
    "for tup in list2:\n",
    "    print(tup)"
   ]
  },
  {
   "cell_type": "code",
   "execution_count": 15,
   "metadata": {},
   "outputs": [
    {
     "name": "stdout",
     "output_type": "stream",
     "text": [
      "2\n",
      "6\n",
      "10\n"
     ]
    }
   ],
   "source": [
    "# А теперь с распаковкой!\n",
    "for (t1,t2) in list2:\n",
    "    print(t1)"
   ]
  },
  {
   "cell_type": "markdown",
   "metadata": {},
   "source": [
    "Круто! Мы можем получить доступ к элементам внутри кортежей с помощью распаковки! Это важно по той причине, что многие объекты возвращают свои результаты в виде кортежей. Давайте посмотрим на итерации по словарю данных, чтобы рассмотреть это подробнее!"
   ]
  },
  {
   "cell_type": "markdown",
   "metadata": {},
   "source": [
    "## Example 7"
   ]
  },
  {
   "cell_type": "code",
   "execution_count": 16,
   "metadata": {
    "collapsed": true
   },
   "outputs": [],
   "source": [
    "d = {'k1':1,'k2':2,'k3':3}"
   ]
  },
  {
   "cell_type": "code",
   "execution_count": 17,
   "metadata": {},
   "outputs": [
    {
     "name": "stdout",
     "output_type": "stream",
     "text": [
      "k1\n",
      "k2\n",
      "k3\n"
     ]
    }
   ],
   "source": [
    "for item in d:\n",
    "    print(item)"
   ]
  },
  {
   "cell_type": "markdown",
   "metadata": {},
   "source": [
    "Обратите внимание, что мы получили только ключи. Как мы можем получить значения? Или получить и ключи, и значения? \n",
    "\n",
    "Для этого рассмотрим три метода для словарей: **.keys()**, **.values()** and **.items()**\n",
    "\n",
    "В Python каждый из этих методов возвращает объект *dictionary view object*. Он поддерживает такие операции, как проверка содержания элемента и итерации, но его содержание не является независимым от основного словаря – это всего лишь предоставление (view). Давайте посмотрим это в действии:"
   ]
  },
  {
   "cell_type": "code",
   "execution_count": 18,
   "metadata": {},
   "outputs": [
    {
     "data": {
      "text/plain": [
       "dict_items([('k1', 1), ('k2', 2), ('k3', 3)])"
      ]
     },
     "execution_count": 18,
     "metadata": {},
     "output_type": "execute_result"
    }
   ],
   "source": [
    "# Создаем объект \"dictionary view object\"\n",
    "d.items()"
   ]
  },
  {
   "cell_type": "markdown",
   "metadata": {},
   "source": [
    "Поскольку метод .items() поддерживает итерации, мы можем выполнить *распаковку словаря*, чтобы разделить ключи и значения, как мы видели в предыдущих примерах."
   ]
  },
  {
   "cell_type": "code",
   "execution_count": 19,
   "metadata": {},
   "outputs": [
    {
     "name": "stdout",
     "output_type": "stream",
     "text": [
      "k1\n",
      "1\n",
      "k2\n",
      "2\n",
      "k3\n",
      "3\n"
     ]
    }
   ],
   "source": [
    "# Распаковка словаря\n",
    "for k,v in d.items():\n",
    "    print(k)\n",
    "    print(v) "
   ]
  },
  {
   "cell_type": "markdown",
   "metadata": {},
   "source": [
    "Если Вы хотите получить сам список ключей, значений, или кортежей ключ/значение, то Вы можете сконвертировать представление в список:"
   ]
  },
  {
   "cell_type": "code",
   "execution_count": 20,
   "metadata": {},
   "outputs": [
    {
     "data": {
      "text/plain": [
       "['k1', 'k2', 'k3']"
      ]
     },
     "execution_count": 20,
     "metadata": {},
     "output_type": "execute_result"
    }
   ],
   "source": [
    "list(d.keys())"
   ]
  },
  {
   "cell_type": "markdown",
   "metadata": {},
   "source": [
    "Помните, что словари неупорядочены, поэтому ключи и значения возвращаются в любом порядке. Вы можете получить отсортированный список с помощью sorted():"
   ]
  },
  {
   "cell_type": "code",
   "execution_count": 21,
   "metadata": {},
   "outputs": [
    {
     "data": {
      "text/plain": [
       "[1, 2, 3]"
      ]
     },
     "execution_count": 21,
     "metadata": {},
     "output_type": "execute_result"
    }
   ],
   "source": [
    "sorted(d.values())"
   ]
  },
  {
   "cell_type": "markdown",
   "metadata": {},
   "source": [
    "## Резюме\n",
    "\n",
    "Мы узнали, как можно выполнять итерации в цикле по кортежам, спискам, строкам и словарям. Циклы - это очень важный инструмент, поэтому убедитесь, что Вы хорошо понимаете приведённые выше примеры.\n",
    "\n",
    "[Дополнительные материалы на английском языке](http://www.tutorialspoint.com/python/python_for_loop.htm)"
   ]
  },
  {
   "cell_type": "code",
   "execution_count": null,
   "metadata": {
    "collapsed": true
   },
   "outputs": [],
   "source": []
  }
 ],
 "metadata": {
  "kernelspec": {
   "display_name": "Python 3",
   "language": "python",
   "name": "python3"
  },
  "language_info": {
   "codemirror_mode": {
    "name": "ipython",
    "version": 3
   },
   "file_extension": ".py",
   "mimetype": "text/x-python",
   "name": "python",
   "nbconvert_exporter": "python",
   "pygments_lexer": "ipython3",
   "version": "3.6.1"
  }
 },
 "nbformat": 4,
 "nbformat_minor": 1
}
