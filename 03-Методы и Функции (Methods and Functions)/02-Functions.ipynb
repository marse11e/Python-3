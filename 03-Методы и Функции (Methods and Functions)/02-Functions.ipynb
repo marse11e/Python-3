{
 "cells": [
  {
   "cell_type": "markdown",
   "metadata": {},
   "source": [
    "# Функции\n",
    "\n",
    "## Введение в функции\n",
    "\n",
    "В этой лекции мы посмотрим, что такое функции в Python, и как создавать их. Функции - это основные строительные блоки, которые позволяют структурировать всё большие и большие объемы кода для решения задач.\n",
    "\n",
    "**Что такое функция?**\n",
    "\n",
    "Формально, функция - это способ группировки нескольких команд вместе, которые можно запускать много раз. Также функции позволяют указывать параметры, которые являются входными данными для функций.\n",
    "\n",
    "На более фундаментальном уровне, функции позволяют нам не повторять один и тот же код много раз. Например, если вспомнить лекцию о строках и списках, то мы использовали функцию len() для определения длины строки. Поскольку проверка длины последовательности - это частая задача, то для этой задачи написана функция, которую можно вызывать много раз.\n",
    "\n",
    "Функции - это один из основных уровней переиспользования кода в Python. И они также позволяют нам задуматься о проектировании программы - мы рассмотрим более подробно идеи проектирования позднее, когда будем изучать Объектно-Ориентированное Программирование."
   ]
  },
  {
   "cell_type": "markdown",
   "metadata": {},
   "source": [
    "## Команды def\n",
    "\n",
    "Давайте посмотрим синтаксис функций в Python:"
   ]
  },
  {
   "cell_type": "code",
   "execution_count": 1,
   "metadata": {
    "collapsed": true
   },
   "outputs": [],
   "source": [
    "def name_of_function(arg1,arg2):\n",
    "    '''\n",
    "    Здесь указывается Document String (docstring)\n",
    "    '''\n",
    "    # Здесь выполняем действия\n",
    "    # Возвращаем нужный результат"
   ]
  },
  {
   "cell_type": "markdown",
   "metadata": {},
   "source": [
    "Создание функции начинается с <code>def</code>, затем пробел и название функции. Постарайтесь выбирать названия функций осмысленными, например len() - это хорошее название для функции, вычисляющей длину (length). Также обратите внимание на то, чтобы не выбрать названия, уже зарезервированные для [встроенных функций в Python](https://docs.python.org/2/library/functions.html) (например, len).\n",
    "\n",
    "Далее указываются скобки и несколько параметров (аргументов), через запятую. Эти параметры являются входными данными для функции. Их можно будет использовать внутри функции. Далее пишется двоеточие.\n",
    "\n",
    "И затем важный шаг - Вы должны сделать отступы для кода, который содержится внутри функции. Python использует *пробелы* для организации кода. Многие языки программирования не применяют такой подход, так что обратите на этот момент особое внимание.\n",
    "\n",
    "Далее идёт docstring - здесь Вы можете указать описание функции. В iPython и iPython Notebooks Вы можете прочитать эти описания docstrings, нажимая Shift+Tab после названия функции. Описания Docstrings не обязательны для простых функций, но в общем случае написать их - это хорошая практика, чтобы Вы или другие люди могли легче понимать Ваш код.\n",
    "\n",
    "После этого мы пишем код, который нужно запускать.\n",
    "\n",
    "Лучший способ изучить функции - разобрать несколько примеров:"
   ]
  },
  {
   "cell_type": "markdown",
   "metadata": {},
   "source": [
    "### Пример 1: простая функция - напечатать 'hello'"
   ]
  },
  {
   "cell_type": "code",
   "execution_count": 2,
   "metadata": {
    "collapsed": true
   },
   "outputs": [],
   "source": [
    "def say_hello():\n",
    "    print('hello')"
   ]
  },
  {
   "cell_type": "markdown",
   "metadata": {},
   "source": [
    "Запуск функции:"
   ]
  },
  {
   "cell_type": "code",
   "execution_count": 3,
   "metadata": {},
   "outputs": [
    {
     "name": "stdout",
     "output_type": "stream",
     "text": [
      "hello\n"
     ]
    }
   ],
   "source": [
    "say_hello()"
   ]
  },
  {
   "cell_type": "markdown",
   "metadata": {},
   "source": [
    "### Пример 2: Простая функция приветствия\n",
    "Напишем функцию, которая приветствует людей по их имени."
   ]
  },
  {
   "cell_type": "code",
   "execution_count": 1,
   "metadata": {
    "collapsed": true
   },
   "outputs": [],
   "source": [
    "def greeting(name):\n",
    "    print('Hello %s' %(name))"
   ]
  },
  {
   "cell_type": "code",
   "execution_count": 2,
   "metadata": {},
   "outputs": [
    {
     "name": "stdout",
     "output_type": "stream",
     "text": [
      "Hello Vlad\n"
     ]
    }
   ],
   "source": [
    "greeting('Vlad')"
   ]
  },
  {
   "cell_type": "markdown",
   "metadata": {},
   "source": [
    "## Использование return\n",
    "Рассмотрим несколько примеров использования команды <code>return</code>. Эта команда позволяет функции *вернуть* результат, который затем можно сохранить в переменной, или использовать любым другим способом.\n",
    "\n",
    "### Пример 3: Функция сложения"
   ]
  },
  {
   "cell_type": "code",
   "execution_count": 6,
   "metadata": {
    "collapsed": true
   },
   "outputs": [],
   "source": [
    "def add_num(num1,num2):\n",
    "    return num1+num2"
   ]
  },
  {
   "cell_type": "code",
   "execution_count": 7,
   "metadata": {},
   "outputs": [
    {
     "data": {
      "text/plain": [
       "9"
      ]
     },
     "execution_count": 7,
     "metadata": {},
     "output_type": "execute_result"
    }
   ],
   "source": [
    "add_num(4,5)"
   ]
  },
  {
   "cell_type": "code",
   "execution_count": 8,
   "metadata": {
    "collapsed": true
   },
   "outputs": [],
   "source": [
    "# Мы также можем сохранить результат, который возвращает функция, в переменную\n",
    "result = add_num(4,5)"
   ]
  },
  {
   "cell_type": "code",
   "execution_count": 9,
   "metadata": {},
   "outputs": [
    {
     "name": "stdout",
     "output_type": "stream",
     "text": [
      "9\n"
     ]
    }
   ],
   "source": [
    "print(result)"
   ]
  },
  {
   "cell_type": "markdown",
   "metadata": {},
   "source": [
    "Что произойдет, если мы укажем две строки?"
   ]
  },
  {
   "cell_type": "code",
   "execution_count": 10,
   "metadata": {},
   "outputs": [
    {
     "data": {
      "text/plain": [
       "'onetwo'"
      ]
     },
     "execution_count": 10,
     "metadata": {},
     "output_type": "execute_result"
    }
   ],
   "source": [
    "add_num('one','two')"
   ]
  },
  {
   "cell_type": "markdown",
   "metadata": {},
   "source": [
    "Обратите внимание, что поскольку мы не указываем типы переменных в Python, эта функция может использоваться для сложения как чисел, так и последовательностей! Позже мы посмотрим, как можно проверять корректность параметров для функции.\n",
    "\n",
    "Также давайте начнём использовать команды <code>break</code>, <code>continue</code> и <code>pass</code>. Мы уже видели их в лекции про циклы <code>while</code>."
   ]
  },
  {
   "cell_type": "markdown",
   "metadata": {
    "collapsed": true
   },
   "source": [
    "Давайте рассмотрим пример создания функции для проверки того, является ли число простым (это частое задание на собеседовании).\n",
    "\n",
    "Число является простым, если оно делится нацело только на 1 и на само себя. Давайте напишем первую версию функции, в которой проверим все числа от 1 до N и проверим остаток от деления."
   ]
  },
  {
   "cell_type": "code",
   "execution_count": 1,
   "metadata": {
    "collapsed": true
   },
   "outputs": [],
   "source": [
    "def is_prime(num):\n",
    "    '''\n",
    "    Наивный метод проверки простых чисел. \n",
    "    '''\n",
    "    for n in range(2,num):\n",
    "        if num % n == 0:\n",
    "            print(num,'не является простым')\n",
    "            break\n",
    "    else: # Если остаток никогда не был равен нулю, то число простое\n",
    "        print(num,'является простым!')"
   ]
  },
  {
   "cell_type": "code",
   "execution_count": 2,
   "metadata": {},
   "outputs": [
    {
     "name": "stdout",
     "output_type": "stream",
     "text": [
      "16 не является простым\n"
     ]
    }
   ],
   "source": [
    "is_prime(16)"
   ]
  },
  {
   "cell_type": "code",
   "execution_count": 3,
   "metadata": {},
   "outputs": [
    {
     "name": "stdout",
     "output_type": "stream",
     "text": [
      "17 является простым!\n"
     ]
    }
   ],
   "source": [
    "is_prime(17)"
   ]
  },
  {
   "cell_type": "markdown",
   "metadata": {},
   "source": [
    "Обратите внимание, что <code>else</code> расположен (выровнен отступами) под <code>for</code>, а не под <code>if</code>. Это потому что мы хотим, чтобы цикл <code>for</code> перебрал все возможные варианты в диапазоне перед тем, как сказать, что число простое.\n",
    "\n",
    "Также обратите внимание, что мы выполняем команду break после первой команды print. То есть, как только мы поняли, что число не является простым, мы выходим из цикла <code>for</code>.\n",
    "\n",
    "На самом деле мы можем улучшить эту функцию, проверяя числа только до квадратного корня от целевого числа, а также отбрасывая все чётные числа после проверки числа 2. Мы также перейдём на возврат значения boolean, чтобы посмотреть пример команды return:"
   ]
  },
  {
   "cell_type": "code",
   "execution_count": 14,
   "metadata": {
    "collapsed": true
   },
   "outputs": [],
   "source": [
    "import math\n",
    "\n",
    "def is_prime2(num):\n",
    "    '''\n",
    "    Улучшенный метод проверки простых чисел. \n",
    "    '''\n",
    "    if num % 2 == 0 and num > 2: \n",
    "        return False\n",
    "    for i in range(3, int(math.sqrt(num)) + 1, 2):\n",
    "        if num % i == 0:\n",
    "            return False\n",
    "    return True"
   ]
  },
  {
   "cell_type": "code",
   "execution_count": 15,
   "metadata": {},
   "outputs": [
    {
     "data": {
      "text/plain": [
       "False"
      ]
     },
     "execution_count": 15,
     "metadata": {},
     "output_type": "execute_result"
    }
   ],
   "source": [
    "is_prime2(18)"
   ]
  },
  {
   "cell_type": "markdown",
   "metadata": {},
   "source": [
    "Почему здесь нет команды <code>break</code>? Дело в том, что как только функция *возвращает* что-то с помощью return, она завершает свою работу. Функция может выполнить несколько команд print, но только одну команду <code>return</code>."
   ]
  },
  {
   "cell_type": "markdown",
   "metadata": {},
   "source": [
    "Отлично! Теперь Вы знаете, как создавать собственные функции, чтобы не повторять один и тот же код!"
   ]
  }
 ],
 "metadata": {
  "kernelspec": {
   "display_name": "Python 3",
   "language": "python",
   "name": "python3"
  },
  "language_info": {
   "codemirror_mode": {
    "name": "ipython",
    "version": 3
   },
   "file_extension": ".py",
   "mimetype": "text/x-python",
   "name": "python",
   "nbconvert_exporter": "python",
   "pygments_lexer": "ipython3",
   "version": "3.6.1"
  }
 },
 "nbformat": 4,
 "nbformat_minor": 1
}
