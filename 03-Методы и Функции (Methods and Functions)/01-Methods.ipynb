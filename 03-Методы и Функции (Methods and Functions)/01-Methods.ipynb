{
 "cells": [
  {
   "cell_type": "markdown",
   "metadata": {},
   "source": [
    "# Методы\n",
    "\n",
    "Мы уже видели некоторые методы, когда изучали объекты и структуры данных в Python. Методы - это по сути функции, встроенные в объекты. Позже в этом курсе мы узнаем, как создавать свои собственные объекты и методы, используя Объектно-Ориентированное Программирование (ООП) и классы.\n",
    "\n",
    "Методы выполняют определённые действия для объекта, и они могут принимать на вход параметры, так же, как и функции. В этой лекции мы ознакомимся с основами методов и обсудим основные подходы в проектированию методов. Позже мы вернёмся к ним, когда перейдем к Объектно-Ориентированному Программированию.\n",
    "\n",
    "Методы пишутся так:\n",
    "\n",
    "    object.method(arg1,arg2,etc...)\n",
    "    \n",
    "Позже мы увидим, что можно предоставить себе что методы содержат параметр 'self', который ссылается на сам объект. Этот параметр нельзя увидеть, но мы будем использовать его позднее в лекциях про Объектно-Ориентированное Программирование.\n",
    "\n",
    "В качестве примера давайте посмотрим на различные методы, которые имеет список:"
   ]
  },
  {
   "cell_type": "code",
   "execution_count": 1,
   "metadata": {
    "collapsed": true
   },
   "outputs": [],
   "source": [
    "# Создаем список\n",
    "lst = [1,2,3,4,5]"
   ]
  },
  {
   "cell_type": "markdown",
   "metadata": {},
   "source": [
    "К счастью, в iPython и Jupyter Notebook Вы можете быстро увидеть все возможные методы, используя клавишу tab. Методы для списка:\n",
    "\n",
    "* append\n",
    "* count\n",
    "* extend\n",
    "* insert\n",
    "* pop\n",
    "* remove\n",
    "* reverse\n",
    "* sort\n",
    "\n",
    "Попробуем выполнить некоторые из них:"
   ]
  },
  {
   "cell_type": "markdown",
   "metadata": {},
   "source": [
    "append() добавляет элементы в конец списка:"
   ]
  },
  {
   "cell_type": "code",
   "execution_count": 2,
   "metadata": {
    "collapsed": true
   },
   "outputs": [],
   "source": [
    "lst.append(6)"
   ]
  },
  {
   "cell_type": "code",
   "execution_count": 3,
   "metadata": {},
   "outputs": [
    {
     "data": {
      "text/plain": [
       "[1, 2, 3, 4, 5, 6]"
      ]
     },
     "execution_count": 3,
     "metadata": {},
     "output_type": "execute_result"
    }
   ],
   "source": [
    "lst"
   ]
  },
  {
   "cell_type": "markdown",
   "metadata": {},
   "source": [
    "Отлично! Как насчёт()? Метод count() подсчитывает, сколько раз элемент встречается в списке."
   ]
  },
  {
   "cell_type": "code",
   "execution_count": 4,
   "metadata": {},
   "outputs": [
    {
     "data": {
      "text/plain": [
       "1"
      ]
     },
     "execution_count": 4,
     "metadata": {},
     "output_type": "execute_result"
    }
   ],
   "source": [
    "# Показать, сколько раз в списке встречается элемент 2\n",
    "lst.count(2)"
   ]
  },
  {
   "cell_type": "markdown",
   "metadata": {},
   "source": [
    "В Jupyter Notebook можно использовать Shift+Tab, чтобы получить описание метода. В обычном Python можно использовать функцию help(): "
   ]
  },
  {
   "cell_type": "code",
   "execution_count": 5,
   "metadata": {},
   "outputs": [
    {
     "name": "stdout",
     "output_type": "stream",
     "text": [
      "Help on built-in function count:\n",
      "\n",
      "count(...) method of builtins.list instance\n",
      "    L.count(value) -> integer -- return number of occurrences of value\n",
      "\n"
     ]
    }
   ],
   "source": [
    "help(lst.count)"
   ]
  },
  {
   "cell_type": "markdown",
   "metadata": {},
   "source": [
    "Поиграйте с остальными методами для списка. Позднее в этом разделе будут проверочные вопросы, в которых могут понадобиться функция help() и поиск в Google, чтобы найти нужные методы для различных типов объектов!"
   ]
  },
  {
   "cell_type": "markdown",
   "metadata": {},
   "source": [
    "Отлично! После этой лекции Вы можете запускать методы объектов в Python!"
   ]
  }
 ],
 "metadata": {
  "kernelspec": {
   "display_name": "Python 3",
   "language": "python",
   "name": "python3"
  },
  "language_info": {
   "codemirror_mode": {
    "name": "ipython",
    "version": 3
   },
   "file_extension": ".py",
   "mimetype": "text/x-python",
   "name": "python",
   "nbconvert_exporter": "python",
   "pygments_lexer": "ipython3",
   "version": "3.6.1"
  }
 },
 "nbformat": 4,
 "nbformat_minor": 1
}
