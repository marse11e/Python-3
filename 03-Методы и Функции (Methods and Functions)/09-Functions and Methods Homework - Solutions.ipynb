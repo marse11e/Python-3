{
 "cells": [
  {
   "cell_type": "markdown",
   "metadata": {},
   "source": [
    "# Функции и методы - домашнее задание - РЕШЕНИЯ\n",
    "\n",
    "Выполните следующие задания:\n",
    "____\n",
    "**Напишите функцию, которая вычисляет объём сферы по заданному радиусу.**"
   ]
  },
  {
   "cell_type": "code",
   "execution_count": 1,
   "metadata": {
    "collapsed": true
   },
   "outputs": [],
   "source": [
    "def vol(rad):\n",
    "    return (4/3)*(3.14)*(rad**3)"
   ]
  },
  {
   "cell_type": "code",
   "execution_count": 2,
   "metadata": {},
   "outputs": [
    {
     "data": {
      "text/plain": [
       "33.49333333333333"
      ]
     },
     "execution_count": 2,
     "metadata": {},
     "output_type": "execute_result"
    }
   ],
   "source": [
    "# проверка\n",
    "vol(2)"
   ]
  },
  {
   "cell_type": "markdown",
   "metadata": {},
   "source": [
    "___\n",
    "**Напишите функцию, которая проверяет, содержится ли число в указанном диапазоне (включая верхнюю и нижнюю границы)**"
   ]
  },
  {
   "cell_type": "code",
   "execution_count": 1,
   "metadata": {
    "collapsed": true
   },
   "outputs": [],
   "source": [
    "def ran_check(num,low,high):\n",
    "    #проверяем, содержится ли число в указанном диапазоне (включая верхнюю и нижнюю границы)\n",
    "    if num in range(low,high+1):\n",
    "        print('{} находится в диапазоне между {} и {}'.format(num,low,high))\n",
    "    else:\n",
    "        print('Число находится вне диапазона.')"
   ]
  },
  {
   "cell_type": "code",
   "execution_count": 2,
   "metadata": {},
   "outputs": [
    {
     "name": "stdout",
     "output_type": "stream",
     "text": [
      "5 находится в диапазоне между 2 и 7\n"
     ]
    }
   ],
   "source": [
    "# проверка\n",
    "ran_check(5,2,7)"
   ]
  },
  {
   "cell_type": "markdown",
   "metadata": {},
   "source": [
    "Если Вы хотите вернуть только значение boolean:"
   ]
  },
  {
   "cell_type": "code",
   "execution_count": 5,
   "metadata": {
    "collapsed": true
   },
   "outputs": [],
   "source": [
    "def ran_bool(num,low,high):\n",
    "    return num in range(low,high+1)"
   ]
  },
  {
   "cell_type": "code",
   "execution_count": 6,
   "metadata": {},
   "outputs": [
    {
     "data": {
      "text/plain": [
       "True"
      ]
     },
     "execution_count": 6,
     "metadata": {},
     "output_type": "execute_result"
    }
   ],
   "source": [
    "ran_bool(3,1,10)"
   ]
  },
  {
   "cell_type": "markdown",
   "metadata": {},
   "source": [
    "____\n",
    "**Напишите функцию Python, которая принимает на вход строку, и вычисляет количество букв в верхнем регистре и в нижнем регистре.**\n",
    "\n",
    "    Пример строки : 'Hello Mr. Rogers, how are you this fine Tuesday?'\n",
    "    Ожидаемый результат : \n",
    "    Количество символов в верхнем регистре (No. of Upper case characters) : 4\n",
    "    Количество символов в нижнем регистре  (No. of Lower case Characters) : 33\n",
    "\n",
    "Подсказка: Вам могут пригодиться следующие методы для строк: **.isupper()** and **.islower()**\n",
    "\n",
    "При желании можете использовать модуль Collections для решения этой задачи!"
   ]
  },
  {
   "cell_type": "code",
   "execution_count": 3,
   "metadata": {
    "collapsed": true
   },
   "outputs": [],
   "source": [
    "def up_low(s):\n",
    "    d={\"upper\":0, \"lower\":0}\n",
    "    for c in s:\n",
    "        if c.isupper():\n",
    "            d[\"upper\"]+=1\n",
    "        elif c.islower():\n",
    "            d[\"lower\"]+=1\n",
    "        else:\n",
    "            pass\n",
    "    print(\"Исходная строка : \", s)\n",
    "    print(\"Количество символов в верхнем регистре : \", d[\"upper\"])\n",
    "    print(\"Количество символов в нижнем регистре : \", d[\"lower\"])"
   ]
  },
  {
   "cell_type": "code",
   "execution_count": 4,
   "metadata": {},
   "outputs": [
    {
     "name": "stdout",
     "output_type": "stream",
     "text": [
      "Исходная строка :  Hello Mr. Rogers, how are you this fine Tuesday?\n",
      "Количество символов в верхнем регистре :  4\n",
      "Количество символов в нижнем регистре :  33\n"
     ]
    }
   ],
   "source": [
    "s = 'Hello Mr. Rogers, how are you this fine Tuesday?'\n",
    "up_low(s)"
   ]
  },
  {
   "cell_type": "markdown",
   "metadata": {},
   "source": [
    "____\n",
    "**Напишите функцию Python, которая получает на входе список, и возвращает новый список, содержащий уникальные элементы из первого списка.**\n",
    "\n",
    "    Sample List : [1,1,1,1,2,2,3,3,3,3,4,5]\n",
    "    Unique List : [1, 2, 3, 4, 5]"
   ]
  },
  {
   "cell_type": "code",
   "execution_count": 9,
   "metadata": {
    "collapsed": true
   },
   "outputs": [],
   "source": [
    "def unique_list(lst):\n",
    "    # Также можно использовать list(set())\n",
    "    x = []\n",
    "    for a in lst:\n",
    "        if a not in x:\n",
    "            x.append(a)\n",
    "    return x"
   ]
  },
  {
   "cell_type": "code",
   "execution_count": 10,
   "metadata": {},
   "outputs": [
    {
     "data": {
      "text/plain": [
       "[1, 2, 3, 4, 5]"
      ]
     },
     "execution_count": 10,
     "metadata": {},
     "output_type": "execute_result"
    }
   ],
   "source": [
    "unique_list([1,1,1,1,2,2,3,3,3,3,4,5])"
   ]
  },
  {
   "cell_type": "markdown",
   "metadata": {},
   "source": [
    "____\n",
    "**Напишите функцию Python, которая перемножает все числа в списке.**\n",
    "\n",
    "    Пример списка : [1, 2, 3, -4]\n",
    "    Ожидаемый результат : -24"
   ]
  },
  {
   "cell_type": "code",
   "execution_count": 11,
   "metadata": {
    "collapsed": true
   },
   "outputs": [],
   "source": [
    "def multiply(numbers):\n",
    "    total = 1\n",
    "    for x in numbers:\n",
    "        total *= x\n",
    "    return total"
   ]
  },
  {
   "cell_type": "code",
   "execution_count": 12,
   "metadata": {},
   "outputs": [
    {
     "data": {
      "text/plain": [
       "-24"
      ]
     },
     "execution_count": 12,
     "metadata": {},
     "output_type": "execute_result"
    }
   ],
   "source": [
    "multiply([1,2,3,-4])"
   ]
  },
  {
   "cell_type": "markdown",
   "metadata": {},
   "source": [
    "____\n",
    "**Напишите функцию Python, которая проверяет входную строку, является ли эта строка палиндромом или нет.**\n",
    "\n",
    "Палиндром - это слово или фраза, которые одинаково читаются слева направо и справа налево, например madam или nurses run."
   ]
  },
  {
   "cell_type": "code",
   "execution_count": 13,
   "metadata": {
    "collapsed": true
   },
   "outputs": [],
   "source": [
    "def palindrome(s):\n",
    "    \n",
    "    s = s.replace(' ','') # Заменяем все пробелы ' ' на пустой символ ''. (Для строк, содержащих пробелы)\n",
    "    return s == s[::-1]   # Выполняем обработку"
   ]
  },
  {
   "cell_type": "code",
   "execution_count": 14,
   "metadata": {},
   "outputs": [
    {
     "data": {
      "text/plain": [
       "True"
      ]
     },
     "execution_count": 14,
     "metadata": {},
     "output_type": "execute_result"
    }
   ],
   "source": [
    "palindrome('nurses run')"
   ]
  },
  {
   "cell_type": "code",
   "execution_count": 15,
   "metadata": {},
   "outputs": [
    {
     "data": {
      "text/plain": [
       "True"
      ]
     },
     "execution_count": 15,
     "metadata": {},
     "output_type": "execute_result"
    }
   ],
   "source": [
    "palindrome('abcba')"
   ]
  },
  {
   "cell_type": "markdown",
   "metadata": {},
   "source": [
    "____\n",
    "#### Сложные задачи:\n",
    "\n",
    "**Напишите функцию Python, которая проверяет, является ли строка панграммой или нет.**\n",
    "\n",
    "    Панграмма - это слова или фразы, которые содержат все буквы алфавита хотя бы один раз.\n",
    "    Например : \"The quick brown fox jumps over the lazy dog\"\n",
    "\n",
    "Подсказка: посмотрите модуль string "
   ]
  },
  {
   "cell_type": "code",
   "execution_count": 16,
   "metadata": {
    "collapsed": true
   },
   "outputs": [],
   "source": [
    "import string\n",
    "\n",
    "def ispangram(str1, alphabet=string.ascii_lowercase):  \n",
    "    alphaset = set(alphabet)  \n",
    "    return alphaset <= set(str1.lower())  "
   ]
  },
  {
   "cell_type": "code",
   "execution_count": 17,
   "metadata": {},
   "outputs": [
    {
     "data": {
      "text/plain": [
       "True"
      ]
     },
     "execution_count": 17,
     "metadata": {},
     "output_type": "execute_result"
    }
   ],
   "source": [
    "ispangram(\"The quick brown fox jumps over the lazy dog\")"
   ]
  },
  {
   "cell_type": "code",
   "execution_count": 18,
   "metadata": {},
   "outputs": [
    {
     "data": {
      "text/plain": [
       "'abcdefghijklmnopqrstuvwxyz'"
      ]
     },
     "execution_count": 18,
     "metadata": {},
     "output_type": "execute_result"
    }
   ],
   "source": [
    "string.ascii_lowercase"
   ]
  }
 ],
 "metadata": {
  "kernelspec": {
   "display_name": "Python 3",
   "language": "python",
   "name": "python3"
  },
  "language_info": {
   "codemirror_mode": {
    "name": "ipython",
    "version": 3
   },
   "file_extension": ".py",
   "mimetype": "text/x-python",
   "name": "python",
   "nbconvert_exporter": "python",
   "pygments_lexer": "ipython3",
   "version": "3.6.1"
  }
 },
 "nbformat": 4,
 "nbformat_minor": 1
}
