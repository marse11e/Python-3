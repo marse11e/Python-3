{
 "cells": [
  {
   "cell_type": "markdown",
   "metadata": {},
   "source": [
    "# Домашнее задание - проект 1: Предлагаемые шаги\n",
    "\n",
    "Ниже приведены шаги, на которые можно разбить проект по созданию игры Крестики-Нолики!"
   ]
  },
  {
   "cell_type": "markdown",
   "metadata": {},
   "source": [
    "#### Некоторые полезные команды:\n",
    "Получить ввод данных от пользователя:\n",
    "\n",
    "    player1 = input(\"Пожалуйста выберите символ 'X' или 'O'\")\n",
    "    \n",
    "Обратите внимание, что input() работает со строками. Если Вам нужно числовое значение, используйте\n",
    "\n",
    "    position = int(input('Пожалуйста введите число'))\n",
    "    \n",
    "<br>Чтобы очистить экран между ходами:\n",
    "\n",
    "    from IPython.display import clear_output\n",
    "    clear_output()\n",
    "    \n",
    "Обратите внимание, что clear_output() работает только в jupyter notebook. Чтобы очистить экран в других IDE, можно например сделать так:\n",
    "\n",
    "    print('\\n'*100)\n",
    "    \n",
    "Эта команда уберёт предыдущее поле из видимой области экрана. Итак, приступим к программированию!"
   ]
  },
  {
   "cell_type": "markdown",
   "metadata": {},
   "source": [
    "**Шаг 1: Напишите функцию, которая выводит на экран игровое поле. Поле можно хранить как список, где номера 1-9 соответствуют цифрам на цифровой клавиатуре. В итоге Вы получаете игровое поле 3 на 3.**"
   ]
  },
  {
   "cell_type": "code",
   "execution_count": 1,
   "metadata": {
    "collapsed": true
   },
   "outputs": [],
   "source": [
    "from IPython.display import clear_output\n",
    "\n",
    "def display_board(board):\n",
    "    \n",
    "    pass"
   ]
  },
  {
   "cell_type": "markdown",
   "metadata": {},
   "source": [
    "**ПРОВЕРКА Шаг 1:** запустите Вашу функцию для тестового списка, и внесите исправления при необходимости"
   ]
  },
  {
   "cell_type": "code",
   "execution_count": null,
   "metadata": {
    "collapsed": true
   },
   "outputs": [],
   "source": [
    "test_board = ['#','X','O','X','O','X','O','X','O','X']\n",
    "display_board(test_board)"
   ]
  },
  {
   "cell_type": "markdown",
   "metadata": {},
   "source": [
    "**Шаг 2: Напишите функцию, которая спрашивает пользователя, какой символ он хочет использовать, 'X' или 'O'. Можно например использовать цикл *while*, продолжая спрашивать до тех пор, пока пользователь не введёт корректный вариант ответа.**"
   ]
  },
  {
   "cell_type": "code",
   "execution_count": null,
   "metadata": {
    "collapsed": true
   },
   "outputs": [],
   "source": [
    "def player_input():\n",
    "    \n",
    "    pass"
   ]
  },
  {
   "cell_type": "markdown",
   "metadata": {},
   "source": [
    "**ПРОВЕРКА Шаг 2:** запустите функцию и убедитесь, что она возвращает нужный результат"
   ]
  },
  {
   "cell_type": "code",
   "execution_count": null,
   "metadata": {
    "collapsed": true
   },
   "outputs": [],
   "source": [
    "player_input()"
   ]
  },
  {
   "cell_type": "markdown",
   "metadata": {},
   "source": [
    "**Шаг 3: Напишите функцию, которая принимает на вход объект игровое поле (список), символ ('X' или 'O'), желаемую позицию (число 1-9), и помещает этот символ на игровое поле.**"
   ]
  },
  {
   "cell_type": "code",
   "execution_count": null,
   "metadata": {
    "collapsed": true
   },
   "outputs": [],
   "source": [
    "def place_marker(board, marker, position):\n",
    "    \n",
    "    pass"
   ]
  },
  {
   "cell_type": "markdown",
   "metadata": {},
   "source": [
    "**ПРОВЕРКА Шаг 3:** запустите функцию place_marker, используя тестовые параметры, и отобразите обновлённое игровое поле"
   ]
  },
  {
   "cell_type": "code",
   "execution_count": null,
   "metadata": {
    "collapsed": true
   },
   "outputs": [],
   "source": [
    "place_marker(test_board,'$',8)\n",
    "display_board(test_board)"
   ]
  },
  {
   "cell_type": "markdown",
   "metadata": {},
   "source": [
    "**Шаг 4: Напишите функцию, которая берёт игровое поле, символ (X или O) и затем проверяет, выиграл ли этот символ. **"
   ]
  },
  {
   "cell_type": "code",
   "execution_count": null,
   "metadata": {
    "collapsed": true
   },
   "outputs": [],
   "source": [
    "def win_check(board, mark):\n",
    "    \n",
    "    pass"
   ]
  },
  {
   "cell_type": "markdown",
   "metadata": {},
   "source": [
    "**ПРОВЕРКА Шаг 4:** запустите функцию win_check для нашего тестового игрового поля test_board - функция должна вернуть True"
   ]
  },
  {
   "cell_type": "code",
   "execution_count": null,
   "metadata": {
    "collapsed": true
   },
   "outputs": [],
   "source": [
    "win_check(test_board,'X')"
   ]
  },
  {
   "cell_type": "markdown",
   "metadata": {},
   "source": [
    "**Шаг 5: Напишите функцию, которая использует модуль random, чтобы случайным образом решить, какой из игроков ходит первым. Можете например использовать random.randint(). Верните строку с информацией о том, кто из игроков ходит первым.**"
   ]
  },
  {
   "cell_type": "code",
   "execution_count": null,
   "metadata": {
    "collapsed": true
   },
   "outputs": [],
   "source": [
    "import random\n",
    "\n",
    "def choose_first():\n",
    "    pass"
   ]
  },
  {
   "cell_type": "markdown",
   "metadata": {},
   "source": [
    "**Шаг 6: Напишите функцию, которая возвращает значение boolean в зависимости от того, является ли указанное место на игровом поле пустым или нет.**"
   ]
  },
  {
   "cell_type": "code",
   "execution_count": null,
   "metadata": {
    "collapsed": true
   },
   "outputs": [],
   "source": [
    "def space_check(board, position):\n",
    "    \n",
    "    pass"
   ]
  },
  {
   "cell_type": "markdown",
   "metadata": {},
   "source": [
    "**Шаг 7: Напишите функцию, которая проверяет, является ли игровое поле полностью заполненным, и возвращает значение boolean - True если полностью заполнено, иначе False.**"
   ]
  },
  {
   "cell_type": "code",
   "execution_count": null,
   "metadata": {
    "collapsed": true
   },
   "outputs": [],
   "source": [
    "def full_board_check(board):\n",
    "    \n",
    "    pass"
   ]
  },
  {
   "cell_type": "markdown",
   "metadata": {},
   "source": [
    "**Шаг 8: Напишите функцию, которая запрашивает у игрока следующую позицию (как число 1-9), и затем использует функцию с шага 6, чтобы проверить, является ли эта позиция пустой. Если да, то возвращает эту позицию для дальнейшего использования.**"
   ]
  },
  {
   "cell_type": "code",
   "execution_count": null,
   "metadata": {
    "collapsed": true
   },
   "outputs": [],
   "source": [
    "def player_choice(board):\n",
    "    \n",
    "    pass"
   ]
  },
  {
   "cell_type": "markdown",
   "metadata": {},
   "source": [
    "**Шаг 9: Напишите функцию, которая спрашивает игрока, хочет ли он сыграть снова, и возвращает True если игрок говорит \"Yes\" (\"да\").**"
   ]
  },
  {
   "cell_type": "code",
   "execution_count": null,
   "metadata": {
    "collapsed": true
   },
   "outputs": [],
   "source": [
    "def replay():\n",
    "    \n",
    "    pass"
   ]
  },
  {
   "cell_type": "markdown",
   "metadata": {},
   "source": [
    "**Шаг 10: Это сложная часть! Используйте циклы while и созданные Вами функции, чтобы запустить игру!**"
   ]
  },
  {
   "cell_type": "code",
   "execution_count": null,
   "metadata": {
    "collapsed": true
   },
   "outputs": [],
   "source": [
    "print('Добро пожаловать в игру Крестики-Нолики!')\n",
    "\n",
    "#while True:\n",
    "    # Настройка игры\n",
    "    #pass\n",
    "\n",
    "    #while game_on:\n",
    "        # Ход Игрока 1\n",
    "        \n",
    "        \n",
    "        # Ход Игрока 2\n",
    "            \n",
    "            #pass\n",
    "\n",
    "    #if not replay():\n",
    "        #break"
   ]
  },
  {
   "cell_type": "markdown",
   "metadata": {},
   "source": [
    "## Хорошая работа!"
   ]
  }
 ],
 "metadata": {
  "kernelspec": {
   "display_name": "Python 3",
   "language": "python",
   "name": "python3"
  },
  "language_info": {
   "codemirror_mode": {
    "name": "ipython",
    "version": 3
   },
   "file_extension": ".py",
   "mimetype": "text/x-python",
   "name": "python",
   "nbconvert_exporter": "python",
   "pygments_lexer": "ipython3",
   "version": "3.6.1"
  }
 },
 "nbformat": 4,
 "nbformat_minor": 2
}
