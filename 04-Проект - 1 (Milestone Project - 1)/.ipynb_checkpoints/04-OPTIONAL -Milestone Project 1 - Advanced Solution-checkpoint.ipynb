{
 "cells": [
  {
   "cell_type": "markdown",
   "metadata": {},
   "source": [
    "# Крестики-Нолики - продвинутое решение\n",
    "\n",
    "Это решение реализует такой же формат, что и предыдущее базовое решение, но здесь используются более продвинутые команды, которые мы изучили. Можете посмотреть, как это работает!"
   ]
  },
  {
   "cell_type": "code",
   "execution_count": 1,
   "metadata": {
    "collapsed": true
   },
   "outputs": [],
   "source": [
    "# Очистка экрана в iPython Notebook \n",
    "from IPython.display import clear_output\n",
    "import random\n",
    "\n",
    "# Глобальные переменные\n",
    "theBoard = [' '] * 10   # список из пробелов\n",
    "available = [str(num) for num in range(0,10)] # Генератор списков - List Comprehension\n",
    "players = [0,'X','O']   #  players[1] == 'X' и players[-1] == 'O'"
   ]
  },
  {
   "cell_type": "code",
   "execution_count": 2,
   "metadata": {},
   "outputs": [
    {
     "name": "stdout",
     "output_type": "stream",
     "text": [
      "Возможные   Крестики-Нолики\n",
      "  ходы\n",
      "\n",
      "  7|8|9         | | \n",
      "  -----        -----\n",
      "  4|5|6         | | \n",
      "  -----        -----\n",
      "  1|2|3         | | \n",
      "\n"
     ]
    }
   ],
   "source": [
    "def display_board(a,b):\n",
    "    print('Возможные   Крестики-Нолики\\n'+\n",
    "           '  ходы\\n\\n  '+\n",
    "          a[7]+'|'+a[8]+'|'+a[9]+'        '+b[7]+'|'+b[8]+'|'+b[9]+'\\n  '+\n",
    "          '-----        -----\\n  '+\n",
    "          a[4]+'|'+a[5]+'|'+a[6]+'        '+b[4]+'|'+b[5]+'|'+b[6]+'\\n  '+\n",
    "          '-----        -----\\n  '+\n",
    "          a[1]+'|'+a[2]+'|'+a[3]+'        '+b[1]+'|'+b[2]+'|'+b[3]+'\\n')\n",
    "display_board(available,theBoard)"
   ]
  },
  {
   "cell_type": "code",
   "execution_count": 3,
   "metadata": {},
   "outputs": [
    {
     "name": "stdout",
     "output_type": "stream",
     "text": [
      "Возможные   Крестики-Нолики\n",
      "  ходы\n",
      "\n",
      "  7|8|9         | | \n",
      "  -----        -----\n",
      "  4|5|6         | | \n",
      "  -----        -----\n",
      "  1|2|3         | | \n",
      "\n"
     ]
    }
   ],
   "source": [
    "def display_board(a,b):\n",
    "    print(f'Возможные   Крестики-Нолики\\n  ходы\\n\\n  {a[7]}|{a[8]}|{a[9]}        {b[7]}|{b[8]}|{b[9]}\\n  -----        -----\\n  {a[4]}|{a[5]}|{a[6]}        {b[4]}|{b[5]}|{b[6]}\\n  -----        -----\\n  {a[1]}|{a[2]}|{a[3]}        {b[1]}|{b[2]}|{b[3]}\\n')\n",
    "display_board(available,theBoard)\n"
   ]
  },
  {
   "cell_type": "code",
   "execution_count": 4,
   "metadata": {
    "collapsed": true
   },
   "outputs": [],
   "source": [
    "def place_marker(avail,board,marker,position):\n",
    "    board[position] = marker\n",
    "    avail[position] = ' '"
   ]
  },
  {
   "cell_type": "code",
   "execution_count": 5,
   "metadata": {
    "collapsed": true
   },
   "outputs": [],
   "source": [
    "def win_check(board,mark):\n",
    "\n",
    "    return ((board[7] ==  board[8] ==  board[9] == mark) or # горизонталь сверху\n",
    "    (board[4] ==  board[5] ==  board[6] == mark) or # горизонталь в середине\n",
    "    (board[1] ==  board[2] ==  board[3] == mark) or # горизонталь снизу\n",
    "    (board[7] ==  board[4] ==  board[1] == mark) or # вертикаль слева\n",
    "    (board[8] ==  board[5] ==  board[2] == mark) or # вертикаль в середине\n",
    "    (board[9] ==  board[6] ==  board[3] == mark) or # вертикаль справа\n",
    "    (board[7] ==  board[5] ==  board[3] == mark) or # диагональ\n",
    "    (board[9] ==  board[5] ==  board[1] == mark)) # диагональ"
   ]
  },
  {
   "cell_type": "code",
   "execution_count": 6,
   "metadata": {
    "collapsed": true
   },
   "outputs": [],
   "source": [
    "def random_player():\n",
    "    return random.choice((-1, 1))\n",
    "    \n",
    "def space_check(board,position):\n",
    "    return board[position] == ' '\n",
    "\n",
    "def full_board_check(board):\n",
    "    return ' ' not in board[1:]"
   ]
  },
  {
   "cell_type": "code",
   "execution_count": 7,
   "metadata": {
    "collapsed": true
   },
   "outputs": [],
   "source": [
    "def player_choice(board,player):\n",
    "    position = 0\n",
    "    \n",
    "    while position not in [1,2,3,4,5,6,7,8,9] or not space_check(board, position):\n",
    "        try:\n",
    "            position = int(input('Игрок %s, выберите следующую клетку: (1-9) '%(player)))\n",
    "        except:\n",
    "            print(\"Извините, попробуйте снова.\")\n",
    "        \n",
    "    return position"
   ]
  },
  {
   "cell_type": "code",
   "execution_count": 8,
   "metadata": {
    "collapsed": true
   },
   "outputs": [],
   "source": [
    "def replay():\n",
    "    \n",
    "    return input('Вы хотите сыграть снова? Введите Yes или No: ').lower().startswith('y')"
   ]
  },
  {
   "cell_type": "code",
   "execution_count": null,
   "metadata": {},
   "outputs": [
    {
     "name": "stdout",
     "output_type": "stream",
     "text": [
      "Добро пожаловать в игру Крестики-Нолики!\n",
      "В этом раунде, первым ходит Игрок X!\n"
     ]
    }
   ],
   "source": [
    "while True:\n",
    "    clear_output()\n",
    "    print('Добро пожаловать в игру Крестики-Нолики!')\n",
    "    \n",
    "    toggle = random_player()\n",
    "    player = players[toggle]\n",
    "    print('В этом раунде, первым ходит Игрок %s!' %(player))\n",
    "    \n",
    "    game_on = True\n",
    "    input('Нажмите Enter для продолжения')\n",
    "    while game_on:\n",
    "        display_board(available,theBoard)\n",
    "        position = player_choice(theBoard,player)\n",
    "        place_marker(available,theBoard,player,position)\n",
    "\n",
    "        if win_check(theBoard, player):\n",
    "            display_board(available,theBoard)\n",
    "            print('Поздравляю! Игрок '+player+' выиграл!')\n",
    "            game_on = False\n",
    "        else:\n",
    "            if full_board_check(theBoard):\n",
    "                display_board(available,theBoard)\n",
    "                print('Ничья!')\n",
    "                break\n",
    "            else:\n",
    "                toggle *= -1\n",
    "                player = players[toggle]\n",
    "                clear_output()\n",
    "\n",
    "    # reset the board and available moves list\n",
    "    theBoard = [' '] * 10\n",
    "    available = [str(num) for num in range(0,10)]\n",
    "    \n",
    "    if not replay():\n",
    "        break"
   ]
  },
  {
   "cell_type": "code",
   "execution_count": null,
   "metadata": {
    "collapsed": true
   },
   "outputs": [],
   "source": []
  }
 ],
 "metadata": {
  "anaconda-cloud": {},
  "kernelspec": {
   "display_name": "Python 3",
   "language": "python",
   "name": "python3"
  },
  "language_info": {
   "codemirror_mode": {
    "name": "ipython",
    "version": 3
   },
   "file_extension": ".py",
   "mimetype": "text/x-python",
   "name": "python",
   "nbconvert_exporter": "python",
   "pygments_lexer": "ipython3",
   "version": "3.6.1"
  }
 },
 "nbformat": 4,
 "nbformat_minor": 1
}
