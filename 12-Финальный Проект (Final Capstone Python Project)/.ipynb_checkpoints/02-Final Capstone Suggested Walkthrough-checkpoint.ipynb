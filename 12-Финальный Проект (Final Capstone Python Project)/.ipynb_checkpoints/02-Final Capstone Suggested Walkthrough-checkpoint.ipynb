{
 "cells": [
  {
   "cell_type": "markdown",
   "metadata": {},
   "source": [
    "# Финальный проект - предлагаемый метод:\n",
    "\n",
    "В этом файле предлагается решение для одного из финальных проектов. Мы начинаем с реализации самых базовых требований, и затем создаём работающую базовую модель. Можете поменять это решение под свои нужды, и добавить функциональность, которой не хватает. Желаю удачи!\n",
    "\n",
    "\n",
    "## Управление банковскими счетами\n",
    "\n",
    "В списке вариантов для финального проекта, в разделе Работа с классами, есть программа Управление банковскими счетами. Цель в том, чтобы создать класс Account, который будет абстрактным классом для трёх других классов CheckingAccount, SavingsAccount и BusinessAccount. Управляйте дебетом и кредитом этих счетов по аналогии с банкоматом."
   ]
  },
  {
   "cell_type": "markdown",
   "metadata": {},
   "source": [
    "### Рамки проекта\n",
    "Чтобы реализовать этот проект, давайте подумаем, что должно происходить.\n",
    "1. У нас будет три типа банковских счетов - текущий счёт (Checking), сберегательный счёт (Savings), коммерческий счёт (Business)\n",
    "2. Каждый счёт позволяет пополнения и снятия, и должен хранить баланс счёта"
   ]
  },
  {
   "cell_type": "markdown",
   "metadata": {},
   "source": [
    "### Пожелания\n",
    "Мы также можем рассмотреть дополнительные возможности, например:\n",
    "* добавить ежемесячную плату за ведение счета\n",
    "* сделать ежемесячную плату нулевой, если сумма балансов счетов выше заданного значения\n",
    "* каждый счёт может иметь различные свойства, уникальные для каждого счёта:\n",
    " * Текущий счёт (Checking) позволяет неограниченные транзакции, и может позволять работу с печатными чеками\n",
    " * Сберегательный счёт (Savings) ограничивает количество снятий за период, и может добавлять проценты по счёту\n",
    " * Коммерческий счёт может взымать комиссии за транзакции\n",
    "* автоматически переводить \"сдачу\" от покупок по дебетовой карте с текущего счёта на сберегательный, <br>где \"сдача\" это центы, которых не хватает, чтобы дебет равнялся ближайшему целому значению в долларах\n",
    "* разрешить автоматическое пополнение сберегательного счёта, с защитой от овердрафта текущего счёта\n",
    "\n",
    "### Давайте начнём!"
   ]
  },
  {
   "cell_type": "markdown",
   "metadata": {},
   "source": [
    "#### Шаг 1: Создать абстрактный класс Account с атрибутами, общими для всех типов счетов.\n",
    "Обратите внимание, что мы никогда не создаем экземпляры абстрактных классов. Они просто предоставляют базовый класс с атрибутами и методами, которые наследуются производными классами."
   ]
  },
  {
   "cell_type": "code",
   "execution_count": 15,
   "metadata": {
    "collapsed": true
   },
   "outputs": [],
   "source": [
    "class Account:\n",
    "    # Определяем метод-конструктор __init__ с атрибутами, общими для всех типов счетов:\n",
    "    def __init__(self,acct_nbr,opening_deposit):\n",
    "        self.acct_nbr = acct_nbr\n",
    "        self.balance = opening_deposit\n",
    "    \n",
    "    # Определяем метод __str__, возвращающий читаемую строку для любой команды print() \n",
    "    def __str__(self):\n",
    "        return f'${self.balance:.2f}'\n",
    "    \n",
    "    # Определяем универсальный метод для обработки пополнений счета\n",
    "    def deposit(self,dep_amt):\n",
    "        self.balance += dep_amt\n",
    "\n",
    "    # Определяем универсальный метод для обработки снятия средств со счета\n",
    "    def withdraw(self,wd_amt):\n",
    "        if self.balance >= wd_amt:\n",
    "            self.balance -= wd_amt\n",
    "        else:\n",
    "            return 'Недостаточно средств'"
   ]
  },
  {
   "cell_type": "markdown",
   "metadata": {},
   "source": [
    "#### Шаг 2: Создаем класс Checking Account, который является наследником класса Account, и добавляет специфику текущих счетов."
   ]
  },
  {
   "cell_type": "code",
   "execution_count": 16,
   "metadata": {
    "collapsed": true
   },
   "outputs": [],
   "source": [
    "class Checking(Account):\n",
    "    def __init__(self,acct_nbr,opening_deposit):\n",
    "        # Выполняем __init__ базового класса\n",
    "        super().__init__(acct_nbr,opening_deposit)\n",
    "\n",
    "    # Определяем метод __str__, который будет возвращать строку, специфичную для текущих счетов\n",
    "    def __str__(self):\n",
    "        return f'Checking Account #{self.acct_nbr}\\n  Balance: {Account.__str__(self)}'"
   ]
  },
  {
   "cell_type": "markdown",
   "metadata": {},
   "source": [
    "#### Шаг 3: Тестируем создание объекта Текущий Счёт - Checking Account"
   ]
  },
  {
   "cell_type": "code",
   "execution_count": 17,
   "metadata": {
    "collapsed": true
   },
   "outputs": [],
   "source": [
    "x = Checking(54321,654.33)"
   ]
  },
  {
   "cell_type": "code",
   "execution_count": 18,
   "metadata": {},
   "outputs": [
    {
     "name": "stdout",
     "output_type": "stream",
     "text": [
      "Checking Account #54321\n",
      "  Balance: $654.33\n"
     ]
    }
   ],
   "source": [
    "print(x)"
   ]
  },
  {
   "cell_type": "code",
   "execution_count": 19,
   "metadata": {},
   "outputs": [
    {
     "data": {
      "text/plain": [
       "'Недостаточно средств'"
      ]
     },
     "execution_count": 19,
     "metadata": {},
     "output_type": "execute_result"
    }
   ],
   "source": [
    "x.withdraw(1000)"
   ]
  },
  {
   "cell_type": "code",
   "execution_count": 20,
   "metadata": {
    "collapsed": true
   },
   "outputs": [],
   "source": [
    "x.withdraw(30)"
   ]
  },
  {
   "cell_type": "code",
   "execution_count": 21,
   "metadata": {},
   "outputs": [
    {
     "data": {
      "text/plain": [
       "624.33"
      ]
     },
     "execution_count": 21,
     "metadata": {},
     "output_type": "execute_result"
    }
   ],
   "source": [
    "x.balance"
   ]
  },
  {
   "cell_type": "markdown",
   "metadata": {},
   "source": [
    "#### Шаг 4: Аналогично, создаём классы Savings и Business account"
   ]
  },
  {
   "cell_type": "code",
   "execution_count": 22,
   "metadata": {
    "collapsed": true
   },
   "outputs": [],
   "source": [
    "class Savings(Account):\n",
    "    def __init__(self,acct_nbr,opening_deposit):\n",
    "        # Выполняем __init__ базового класса\n",
    "        super().__init__(acct_nbr,opening_deposit)\n",
    "\n",
    "    # Определяем метод __str__, который будет возвращать строку, специфичную для сберегательных счетов\n",
    "    def __str__(self):\n",
    "        return f'Savings Account #{self.acct_nbr}\\n  Balance: {Account.__str__(self)}'\n",
    "\n",
    "\n",
    "class Business(Account):\n",
    "    def __init__(self,acct_nbr,opening_deposit):\n",
    "        # Выполняем __init__ базового класса\n",
    "        super().__init__(acct_nbr,opening_deposit)\n",
    "\n",
    "    # Определяем метод __str__, который будет возвращать строку, специфичную для коммерческих счетов\n",
    "    def __str__(self):\n",
    "        return f'Business Account #{self.acct_nbr}\\n  Balance: {Account.__str__(self)}'"
   ]
  },
  {
   "cell_type": "markdown",
   "metadata": {},
   "source": [
    "**К этому моменту** мы реализовали минимальные требования этого задания. У нас есть три класса для разных типов банковских счетов. Каждый из них позволяет выполнять пополения и снятия, отображать баланс счёта, поскольку все они наследуются от абстрактного базового класса Account.\n",
    "\n",
    "А теперь интересная часть - давайте добавим дополнительные возможности!"
   ]
  },
  {
   "cell_type": "markdown",
   "metadata": {},
   "source": [
    "#### Шаг 5: создаем класс Customer\n",
    "\n",
    "На этом этапе мы создадим класс Customer. который будет хранить имя клиента, PIN, и любое количество различных объектов Account."
   ]
  },
  {
   "cell_type": "code",
   "execution_count": 23,
   "metadata": {
    "collapsed": true
   },
   "outputs": [],
   "source": [
    "class Customer:\n",
    "    def __init__(self, name, PIN):\n",
    "        self.name = name\n",
    "        self.PIN = PIN\n",
    "        \n",
    "        # Создаем словарь счетов, для каждого типа счёта создаем список счетов\n",
    "        self.accts = {'C':[],'S':[],'B':[]}\n",
    "        \n",
    "    def __str__(self):\n",
    "        return self.name\n",
    "        \n",
    "    def open_checking(self,acct_nbr,opening_deposit):\n",
    "        self.accts['C'].append(Checking(acct_nbr,opening_deposit))\n",
    "    \n",
    "    def open_savings(self,acct_nbr,opening_deposit):\n",
    "        self.accts['S'].append(Savings(acct_nbr,opening_deposit))\n",
    "        \n",
    "    def open_business(self,acct_nbr,opening_deposit):\n",
    "        self.accts['B'].append(Business(acct_nbr,opening_deposit))\n",
    "    \n",
    "    # вместо того, чтобы считать промежуточные итоги для балансов,\n",
    "    # напишем метод, который вычисляет общие итоги при необходимости\n",
    "    def get_total_deposits(self):\n",
    "        total = 0\n",
    "        for acct in self.accts['C']:\n",
    "            print(acct)\n",
    "            total += acct.balance\n",
    "        for acct in self.accts['S']:\n",
    "            print(acct)\n",
    "            total += acct.balance\n",
    "        for acct in self.accts['B']:\n",
    "            print(acct)\n",
    "            total += acct.balance\n",
    "        print(f'Combined Deposits: ${total}')\n",
    "        "
   ]
  },
  {
   "cell_type": "markdown",
   "metadata": {},
   "source": [
    "#### Шаг 6: Тестирование - создаём клиентов, добавляем счета, проверяем балансы"
   ]
  },
  {
   "cell_type": "code",
   "execution_count": 24,
   "metadata": {
    "collapsed": true
   },
   "outputs": [],
   "source": [
    "bob = Customer('Bob',1)"
   ]
  },
  {
   "cell_type": "code",
   "execution_count": 25,
   "metadata": {
    "collapsed": true
   },
   "outputs": [],
   "source": [
    "bob.open_checking(321,555.55)"
   ]
  },
  {
   "cell_type": "code",
   "execution_count": 26,
   "metadata": {},
   "outputs": [
    {
     "name": "stdout",
     "output_type": "stream",
     "text": [
      "Checking Account #321\n",
      "  Balance: $555.55\n",
      "Combined Deposits: $555.55\n"
     ]
    }
   ],
   "source": [
    "bob.get_total_deposits()"
   ]
  },
  {
   "cell_type": "code",
   "execution_count": 27,
   "metadata": {
    "collapsed": true
   },
   "outputs": [],
   "source": [
    "bob.open_savings(564,444.66)"
   ]
  },
  {
   "cell_type": "code",
   "execution_count": 28,
   "metadata": {},
   "outputs": [
    {
     "name": "stdout",
     "output_type": "stream",
     "text": [
      "Checking Account #321\n",
      "  Balance: $555.55\n",
      "Savings Account #564\n",
      "  Balance: $444.66\n",
      "Combined Deposits: $1000.21\n"
     ]
    }
   ],
   "source": [
    "bob.get_total_deposits()"
   ]
  },
  {
   "cell_type": "code",
   "execution_count": 29,
   "metadata": {
    "collapsed": true
   },
   "outputs": [],
   "source": [
    "nancy = Customer('Nancy',2)"
   ]
  },
  {
   "cell_type": "code",
   "execution_count": 30,
   "metadata": {
    "collapsed": true
   },
   "outputs": [],
   "source": [
    "nancy.open_business(2018,8900)"
   ]
  },
  {
   "cell_type": "code",
   "execution_count": 31,
   "metadata": {},
   "outputs": [
    {
     "name": "stdout",
     "output_type": "stream",
     "text": [
      "Business Account #2018\n",
      "  Balance: $8900.00\n",
      "Combined Deposits: $8900\n"
     ]
    }
   ],
   "source": [
    "nancy.get_total_deposits()"
   ]
  },
  {
   "cell_type": "markdown",
   "metadata": {},
   "source": [
    "**Подождите!** Почему для Nancy значение \"combined deposits\" не показывает дробную часть? <br>Это можно легко поправить в определении класса (копируем исходный код выше, и меняем последнюю строчку кода):"
   ]
  },
  {
   "cell_type": "code",
   "execution_count": 32,
   "metadata": {
    "collapsed": true
   },
   "outputs": [],
   "source": [
    "class Customer:\n",
    "    def __init__(self, name, PIN):\n",
    "        self.name = name\n",
    "        self.PIN = PIN\n",
    "        self.accts = {'C':[],'S':[],'B':[]}\n",
    "\n",
    "    def __str__(self):\n",
    "        return self.name\n",
    "        \n",
    "    def open_checking(self,acct_nbr,opening_deposit):\n",
    "        self.accts['C'].append(Checking(acct_nbr,opening_deposit))\n",
    "    \n",
    "    def open_savings(self,acct_nbr,opening_deposit):\n",
    "        self.accts['S'].append(Savings(acct_nbr,opening_deposit))\n",
    "        \n",
    "    def open_business(self,acct_nbr,opening_deposit):\n",
    "        self.accts['B'].append(Business(acct_nbr,opening_deposit))\n",
    "        \n",
    "    def get_total_deposits(self):\n",
    "        total = 0\n",
    "        for acct in self.accts['C']:\n",
    "            print(acct)\n",
    "            total += acct.balance\n",
    "        for acct in self.accts['S']:\n",
    "            print(acct)\n",
    "            total += acct.balance\n",
    "        for acct in self.accts['B']:\n",
    "            print(acct)\n",
    "            total += acct.balance\n",
    "        print(f'Combined Deposits: ${total:.2f}') # added precision formatting here"
   ]
  },
  {
   "cell_type": "markdown",
   "metadata": {},
   "source": [
    "**Кажется поправили, да?**"
   ]
  },
  {
   "cell_type": "code",
   "execution_count": 33,
   "metadata": {},
   "outputs": [
    {
     "name": "stdout",
     "output_type": "stream",
     "text": [
      "Business Account #2018\n",
      "  Balance: $8900.00\n",
      "Combined Deposits: $8900\n"
     ]
    }
   ],
   "source": [
    "nancy.get_total_deposits()"
   ]
  },
  {
   "cell_type": "markdown",
   "metadata": {},
   "source": [
    "**А вот и нет!** Изменения, сделанные в определении класса, *не влияют* на объекты, созданные в тот момент, когда определение было другое.<br>Чтобы поправить счёт Nancy, нам нужно создать её объект заново."
   ]
  },
  {
   "cell_type": "code",
   "execution_count": 34,
   "metadata": {},
   "outputs": [
    {
     "name": "stdout",
     "output_type": "stream",
     "text": [
      "Business Account #2018\n",
      "  Balance: $8900.00\n",
      "Combined Deposits: $8900.00\n"
     ]
    }
   ],
   "source": [
    "nancy = Customer('Nancy',2)\n",
    "nancy.open_business(2018,8900)\n",
    "nancy.get_total_deposits()"
   ]
  },
  {
   "cell_type": "markdown",
   "metadata": {},
   "source": [
    "#### Вот почему тестирование так важно!"
   ]
  },
  {
   "cell_type": "markdown",
   "metadata": {},
   "source": [
    "#### Шаг 7: Теперь напишем функции для пополнений (dep - deposits) и снятий (wd - withdrawals).\n",
    "\n",
    "Не забываем добавлять описание docstring, чтобы объяснить, что ожидается на входе функции!"
   ]
  },
  {
   "cell_type": "code",
   "execution_count": 35,
   "metadata": {
    "collapsed": true
   },
   "outputs": [],
   "source": [
    "def make_dep(cust,acct_type,acct_num,dep_amt):\n",
    "    \"\"\"\n",
    "    make_dep(cust, acct_type, acct_num, dep_amt)\n",
    "    cust      = variable name (Customer record/ID)\n",
    "    acct_type = string 'C' 'S' or 'B'\n",
    "    acct_num  = integer\n",
    "    dep_amt   = integer\n",
    "    \"\"\"\n",
    "    for acct in cust.accts[acct_type]:\n",
    "        if acct.acct_nbr == acct_num:\n",
    "            acct.deposit(dep_amt)"
   ]
  },
  {
   "cell_type": "code",
   "execution_count": 36,
   "metadata": {
    "collapsed": true
   },
   "outputs": [],
   "source": [
    "make_dep(nancy,'B',2018,67.45)"
   ]
  },
  {
   "cell_type": "code",
   "execution_count": 37,
   "metadata": {},
   "outputs": [
    {
     "name": "stdout",
     "output_type": "stream",
     "text": [
      "Business Account #2018\n",
      "  Balance: $8967.45\n",
      "Combined Deposits: $8967.45\n"
     ]
    }
   ],
   "source": [
    "nancy.get_total_deposits()"
   ]
  },
  {
   "cell_type": "code",
   "execution_count": 38,
   "metadata": {
    "collapsed": true
   },
   "outputs": [],
   "source": [
    "def make_wd(cust,acct_type,acct_num,wd_amt):\n",
    "    \"\"\"\n",
    "    make_dep(cust, acct_type, acct_num, wd_amt)\n",
    "    cust      = variable name (Customer record/ID)\n",
    "    acct_type = string 'C' 'S' or 'B'\n",
    "    acct_num  = integer\n",
    "    wd_amt    = integer\n",
    "    \"\"\"\n",
    "    for acct in cust.accts[acct_type]:\n",
    "        if acct.acct_nbr == acct_num:\n",
    "            acct.withdraw(wd_amt)"
   ]
  },
  {
   "cell_type": "code",
   "execution_count": 39,
   "metadata": {
    "collapsed": true
   },
   "outputs": [],
   "source": [
    "make_wd(nancy,'B',2018,1000000)"
   ]
  },
  {
   "cell_type": "code",
   "execution_count": 40,
   "metadata": {},
   "outputs": [
    {
     "name": "stdout",
     "output_type": "stream",
     "text": [
      "Business Account #2018\n",
      "  Balance: $8967.45\n",
      "Combined Deposits: $8967.45\n"
     ]
    }
   ],
   "source": [
    "nancy.get_total_deposits()"
   ]
  },
  {
   "cell_type": "markdown",
   "metadata": {},
   "source": [
    "**Что случилось??**  Кажется мы успешно выполнили снятие, однако ничего не поменялось!<br>Это потому что в самом начале, в классе Account мы *вернули* строку 'Недостаточно средств', а не напечатали её. Если мы поменяем это в классе Account, то мы также должны будем пересоздать производные классы, а также пересоздать объет Nancy. При этом класс Customer можно *не* пересоздавать. Смотрите:"
   ]
  },
  {
   "cell_type": "code",
   "execution_count": 41,
   "metadata": {
    "collapsed": true
   },
   "outputs": [],
   "source": [
    "class Account:\n",
    "    def __init__(self,acct_nbr,opening_deposit):\n",
    "        self.acct_nbr = acct_nbr\n",
    "        self.balance = opening_deposit\n",
    "        \n",
    "    def __str__(self):\n",
    "        return f'${self.balance:.2f}'\n",
    "    \n",
    "    def deposit(self,dep_amt):\n",
    "        self.balance += dep_amt\n",
    "        \n",
    "    def withdraw(self,wd_amt):\n",
    "        if self.balance >= wd_amt:\n",
    "            self.balance -= wd_amt\n",
    "        else:\n",
    "            print('Недостаточно средств')  # поменяли \"return\" на \"print\""
   ]
  },
  {
   "cell_type": "code",
   "execution_count": 45,
   "metadata": {
    "collapsed": true
   },
   "outputs": [],
   "source": [
    "class Checking(Account):\n",
    "    def __init__(self,acct_nbr,opening_deposit):\n",
    "        super().__init__(acct_nbr,opening_deposit)\n",
    "    \n",
    "    def __str__(self):\n",
    "        return f'Checking Account #{self.acct_nbr}\\n  Balance: {Account.__str__(self)}'\n",
    "\n",
    "    \n",
    "class Savings(Account):\n",
    "    def __init__(self,acct_nbr,opening_deposit):\n",
    "        super().__init__(acct_nbr,opening_deposit)\n",
    "\n",
    "    def __str__(self):\n",
    "        return f'Savings Account #{self.acct_nbr}\\n  Balance: {Account.__str__(self)}'\n",
    "\n",
    "\n",
    "class Business(Account):\n",
    "    def __init__(self,acct_nbr,opening_deposit):\n",
    "        super().__init__(acct_nbr,opening_deposit)\n",
    "\n",
    "    def __str__(self):\n",
    "        return f'Business Account #{self.acct_nbr}\\n  Balance: {Account.__str__(self)}'"
   ]
  },
  {
   "cell_type": "code",
   "execution_count": 46,
   "metadata": {},
   "outputs": [
    {
     "name": "stdout",
     "output_type": "stream",
     "text": [
      "Business Account #2018\n",
      "  Balance: $8900.00\n",
      "Combined Deposits: $8900.00\n"
     ]
    }
   ],
   "source": [
    "nancy = Customer('Nancy',2)\n",
    "nancy.open_business(2018,8900)\n",
    "nancy.get_total_deposits()"
   ]
  },
  {
   "cell_type": "code",
   "execution_count": 47,
   "metadata": {},
   "outputs": [
    {
     "name": "stdout",
     "output_type": "stream",
     "text": [
      "Недостаточно средств\n"
     ]
    }
   ],
   "source": [
    "make_wd(nancy,'B',2018,1000000)"
   ]
  },
  {
   "cell_type": "code",
   "execution_count": 33,
   "metadata": {},
   "outputs": [
    {
     "name": "stdout",
     "output_type": "stream",
     "text": [
      "Business Account #2018\n",
      "  Balance: $8900.00\n",
      "Combined Deposits: $8900.00\n"
     ]
    }
   ],
   "source": [
    "nancy.get_total_deposits()"
   ]
  },
  {
   "cell_type": "markdown",
   "metadata": {},
   "source": [
    "## Хорошая работа!"
   ]
  }
 ],
 "metadata": {
  "kernelspec": {
   "display_name": "Python 3",
   "language": "python",
   "name": "python3"
  },
  "language_info": {
   "codemirror_mode": {
    "name": "ipython",
    "version": 3
   },
   "file_extension": ".py",
   "mimetype": "text/x-python",
   "name": "python",
   "nbconvert_exporter": "python",
   "pygments_lexer": "ipython3",
   "version": "3.6.1"
  }
 },
 "nbformat": 4,
 "nbformat_minor": 2
}
