{
 "cells": [
  {
   "cell_type": "markdown",
   "metadata": {},
   "source": [
    "# Измерение времени выполнения кода\n",
    "Иногда важно понять, сколько времени выполнялся Ваш код, или хотя бы узнать, какие строки кода замедляют выполнение всего проекта. В Python есть встроенный модуль timeit для этой цели. \n",
    "\n",
    "Этот модуль предоставляет простой способ измерения времени для небольших фрагментов кода Python. В нём есть как интерфейс командной строки, так и интерфейс запуска методов. С помощью него можно избежать различных ошибок при измерении времени выполнения. \n",
    "\n",
    "Давайте изучим timeit!"
   ]
  },
  {
   "cell_type": "code",
   "execution_count": 1,
   "metadata": {
    "collapsed": true
   },
   "outputs": [],
   "source": [
    "import timeit"
   ]
  },
  {
   "cell_type": "markdown",
   "metadata": {},
   "source": [
    "Используем timeit для измерения времени выполнения различных способов создания строки '0-1-2-3-.....-99'\n",
    "\n",
    "Мы будем передавать два параметра: строка кода, которую мы хотим протестировать, в виде строки string, и сколько раз мы хотим выполнять эту строку кода. Мы сделаем 10,000 запусков, чтобы получить достаточно заметные замеры времени и сравнивать различные методы."
   ]
  },
  {
   "cell_type": "code",
   "execution_count": 2,
   "metadata": {},
   "outputs": [
    {
     "data": {
      "text/plain": [
       "0.21865416520477374"
      ]
     },
     "execution_count": 2,
     "metadata": {},
     "output_type": "execute_result"
    }
   ],
   "source": [
    "# For loop\n",
    "timeit.timeit('\"-\".join(str(n) for n in range(100))', number=10000)"
   ]
  },
  {
   "cell_type": "code",
   "execution_count": 3,
   "metadata": {},
   "outputs": [
    {
     "data": {
      "text/plain": [
       "0.19484614421698643"
      ]
     },
     "execution_count": 3,
     "metadata": {},
     "output_type": "execute_result"
    }
   ],
   "source": [
    "# List comprehension\n",
    "timeit.timeit('\"-\".join([str(n) for n in range(100)])', number=10000)"
   ]
  },
  {
   "cell_type": "code",
   "execution_count": 4,
   "metadata": {},
   "outputs": [
    {
     "data": {
      "text/plain": [
       "0.15291817337139246"
      ]
     },
     "execution_count": 4,
     "metadata": {},
     "output_type": "execute_result"
    }
   ],
   "source": [
    "# Map()\n",
    "timeit.timeit('\"-\".join(map(str, range(100)))', number=10000)"
   ]
  },
  {
   "cell_type": "markdown",
   "metadata": {},
   "source": [
    "Отлично! Мы видим заметный выигрыш по времени для функции map()! Будем иметь это ввиду.\n",
    "\n",
    "Теперь давайте рассмотрим магическую функцию iPython под названием **%timeit**<br>\n",
    "*Замечание: этот метод работает только в jupyter notebooks!*\n",
    "\n",
    "%timeit в iPython выполняет те же строки кода указанное количество раз (циклов), и покажет лучшее время выполнения.\n",
    "\n",
    "Повторим указанные выше тесты с помощью магии iPython!"
   ]
  },
  {
   "cell_type": "code",
   "execution_count": 5,
   "metadata": {},
   "outputs": [
    {
     "name": "stdout",
     "output_type": "stream",
     "text": [
      "20.4 µs ± 269 ns per loop (mean ± std. dev. of 7 runs, 10000 loops each)\n"
     ]
    }
   ],
   "source": [
    "%timeit \"-\".join(str(n) for n in range(100))"
   ]
  },
  {
   "cell_type": "code",
   "execution_count": 6,
   "metadata": {},
   "outputs": [
    {
     "name": "stdout",
     "output_type": "stream",
     "text": [
      "18.1 µs ± 56.2 ns per loop (mean ± std. dev. of 7 runs, 100000 loops each)\n"
     ]
    }
   ],
   "source": [
    "%timeit \"-\".join([str(n) for n in range(100)])"
   ]
  },
  {
   "cell_type": "code",
   "execution_count": 7,
   "metadata": {},
   "outputs": [
    {
     "name": "stdout",
     "output_type": "stream",
     "text": [
      "14.4 µs ± 64.1 ns per loop (mean ± std. dev. of 7 runs, 100000 loops each)\n"
     ]
    }
   ],
   "source": [
    "%timeit \"-\".join(map(str, range(100)))"
   ]
  },
  {
   "cell_type": "markdown",
   "metadata": {},
   "source": [
    "Отлично! Мы пришли к тем же выводам. Также важно заметить, что iPython ограничивает количество *реального времени*, которое он потратит за процедуру timeit. Например, если выполнение 100000 циклов займёт 10 минут, то iPython автоматически уменьшит количество циклов до более разумного числа, например 100 или 1000.\n",
    "\n",
    "Прекрасно! Теперь Вы можете измерять время выполнения Вашего кода, как в iPython, так и в других средах. Более подробно можете почитать в документации вот здесь:\n",
    "https://docs.python.org/3/library/timeit.html"
   ]
  }
 ],
 "metadata": {
  "kernelspec": {
   "display_name": "Python 3",
   "language": "python",
   "name": "python3"
  },
  "language_info": {
   "codemirror_mode": {
    "name": "ipython",
    "version": 3
   },
   "file_extension": ".py",
   "mimetype": "text/x-python",
   "name": "python",
   "nbconvert_exporter": "python",
   "pygments_lexer": "ipython3",
   "version": "3.6.1"
  }
 },
 "nbformat": 4,
 "nbformat_minor": 1
}
