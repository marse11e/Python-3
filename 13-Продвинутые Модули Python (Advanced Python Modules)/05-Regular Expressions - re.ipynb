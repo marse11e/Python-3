{
 "cells": [
  {
   "cell_type": "markdown",
   "metadata": {},
   "source": [
    "# Регулярные выражения\n",
    "\n",
    "Регулярные выражения - это шаблоны соответствия текста, описанные формальным синтаксисом. Часто можно услышать в беседе, что регулярные выражения называют 'regex' или 'regexp'. Регулярные выражения могут содержать различные правила, например поиск повторений, соответствие текста и многое другое. По мере того, как Вы продвигаетесь в использовании Python, Вы увидите, что многие задачи парсинга решаются с помощью регулярных выражений (также это частый вопрос на собеседованиях!).\n",
    "\n",
    "\n",
    "Если Вы знакомы с Perl, то заметите, что синтаксис для регулярных выражений в Python выглядит очень похоже. В этой лекции мы будем использовать модуль <code>re</code> в Python.\n",
    "\n",
    "\n",
    "Начнём!"
   ]
  },
  {
   "cell_type": "markdown",
   "metadata": {},
   "source": [
    "## Поиск шаблонов в тексте\n",
    "\n",
    "Один из наиболее частых сценариев использования модуля re - это поиск шаблонов в тексте. Рассмотрим пример использования метода search модуля re, чтобы найти некоторый текст:"
   ]
  },
  {
   "cell_type": "code",
   "execution_count": 2,
   "metadata": {},
   "outputs": [
    {
     "name": "stdout",
     "output_type": "stream",
     "text": [
      "Ищем \"term1\" внутри следующей строки:\n",
      " \"В этом тексте есть термин term1, но в нём нет второго термина.\"\n",
      "\n",
      "Соответствие найдено. \n",
      "\n",
      "Ищем \"term2\" внутри следующей строки:\n",
      " \"В этом тексте есть термин term1, но в нём нет второго термина.\"\n",
      "\n",
      "Соответствие не найдено.\n",
      "\n"
     ]
    }
   ],
   "source": [
    "import re\n",
    "\n",
    "# Список шаблонов для поиска\n",
    "patterns = ['Термин1', 'Термин2']\n",
    "\n",
    "# Текст для анализа\n",
    "text = 'В этом тексте есть термин term1, но в нём нет второго термина.'\n",
    "\n",
    "for pattern in patterns:\n",
    "    print('Ищем \"%s\" внутри следующей строки:\\n \"%s\"\\n' %(pattern,text))\n",
    "    \n",
    "    #Check for match\n",
    "    if re.search(pattern,text):\n",
    "        print('Соответствие найдено. \\n')\n",
    "    else:\n",
    "        print('Соответствие не найдено.\\n')"
   ]
  },
  {
   "cell_type": "markdown",
   "metadata": {},
   "source": [
    "Итак, мы увидели, что <code>re.search()</code> берёт шаблон, сканирует текст, и возвращает объект **Match**. Если шаблон не найден, то возвращается **None**. Чтобы лучше увидеть этот объект match, посмотрите на следующий код:"
   ]
  },
  {
   "cell_type": "code",
   "execution_count": 2,
   "metadata": {},
   "outputs": [
    {
     "data": {
      "text/plain": [
       "_sre.SRE_Match"
      ]
     },
     "execution_count": 2,
     "metadata": {},
     "output_type": "execute_result"
    }
   ],
   "source": [
    "# Список шаблонов для поиска\n",
    "pattern = 'term1'\n",
    "\n",
    "# Текст для анализа\n",
    "text = 'В этом тексте есть термин term1, но в нём нет второго термина.'\n",
    "\n",
    "match = re.search(pattern,text)\n",
    "\n",
    "type(match)"
   ]
  },
  {
   "cell_type": "markdown",
   "metadata": {},
   "source": [
    "Этот объект **Match**, возвращаемый методом search() - это больше, чем просто Boolean или None. Этот объект содержит информацию о соответствии текста и шаблона, включая изначальную входную строку, использованное регулярное выражение, и местоположение найденной части. Рассмотрим методы объекта match:"
   ]
  },
  {
   "cell_type": "code",
   "execution_count": 3,
   "metadata": {},
   "outputs": [
    {
     "data": {
      "text/plain": [
       "22"
      ]
     },
     "execution_count": 3,
     "metadata": {},
     "output_type": "execute_result"
    }
   ],
   "source": [
    "# показать начало соответствия\n",
    "match.start()"
   ]
  },
  {
   "cell_type": "code",
   "execution_count": 4,
   "metadata": {},
   "outputs": [
    {
     "data": {
      "text/plain": [
       "27"
      ]
     },
     "execution_count": 4,
     "metadata": {},
     "output_type": "execute_result"
    }
   ],
   "source": [
    "# показать окончание\n",
    "match.end()"
   ]
  },
  {
   "cell_type": "markdown",
   "metadata": {},
   "source": [
    "## Разбиение с помощью регулярных выражений\n",
    "\n",
    "Теперь посмотрим, как можно с помощью регулярных выражений выполнять разбиение. Это выглядит похоже на то, как мы использовали метод split() для строк."
   ]
  },
  {
   "cell_type": "code",
   "execution_count": 3,
   "metadata": {},
   "outputs": [
    {
     "data": {
      "text/plain": [
       "['Найдём домен для следующего адреса электронной почты: hello', 'gmail.com']"
      ]
     },
     "execution_count": 3,
     "metadata": {},
     "output_type": "execute_result"
    }
   ],
   "source": [
    "# Term to split on\n",
    "split_term = '@'\n",
    "\n",
    "phrase = 'Найдём домен для следующего адреса электронной почты: hello@gmail.com'\n",
    "\n",
    "# Split the phrase\n",
    "re.split(split_term,phrase)"
   ]
  },
  {
   "cell_type": "markdown",
   "metadata": {},
   "source": [
    "Обратите внимание, что <code>re.split()</code> возвращает список, в котором отсутствует термин, по которому выполняется разбиение. Термины в списке - это отдельные части строки, которую разбили на части. Напишите пару примеров сами, чтобы убедиться, что Вы понимаете то, что здесь происходит!\n",
    "\n",
    "## Найти все случаи нахождения шаблона\n",
    "\n",
    "Для поиска всех соответствий шаблона в строке, можно использовать метод <code>re.findall()</code>. Например:"
   ]
  },
  {
   "cell_type": "code",
   "execution_count": 5,
   "metadata": {},
   "outputs": [
    {
     "data": {
      "text/plain": [
       "['match', 'match']"
      ]
     },
     "execution_count": 5,
     "metadata": {},
     "output_type": "execute_result"
    }
   ],
   "source": [
    "# Получить список всех соответствий\n",
    "re.findall('match','в этой фразе есть слово match в середине, и слово match в конце строки')"
   ]
  },
  {
   "cell_type": "markdown",
   "metadata": {},
   "source": [
    "## re - синтаксис для шаблонов\n",
    "\n",
    "Это будет основная часть лекции по использованию re в Python. Регулярные выражения поддерживают огромный набор различных шаблонов, кроме простого поиска вхождения одной строки. \n",
    "\n",
    "Мы также можем использовать *метасимволы*, чтобы найти специальные типы шаблонов. \n",
    "\n",
    "Поскольку мы будем тестировать различные формы синтаксиса re, давайте создадим функцию, которая будет показывать результаты для указанного на входе регулярного выражения, и фразы для анализа:"
   ]
  },
  {
   "cell_type": "code",
   "execution_count": 6,
   "metadata": {
    "collapsed": true
   },
   "outputs": [],
   "source": [
    "def multi_re_find(patterns,phrase):\n",
    "    '''\n",
    "    Принимает на вход список шаблонов regex\n",
    "    Выводит на экран список всех соответствий\n",
    "    '''\n",
    "    for pattern in patterns:\n",
    "        print('Выполняем поиск фразы, используя следующую проверку re: %r' %(pattern))\n",
    "        print(re.findall(pattern,phrase))\n",
    "        print('\\n')"
   ]
  },
  {
   "cell_type": "markdown",
   "metadata": {},
   "source": [
    "### Синтаксис повторений\n",
    "\n",
    "Есть пять способов указать повторения в шаблоне:\n",
    "\n",
    "   1. Шаблон, после него мета-символ <code>*</code> - значит шаблон повторяется ноль или более раз. \n",
    "   2. Заменим <code>*</code> на <code>+</code>, тогда шаблон должен присутствовать по крайней мере один раз. \n",
    "   3. Символ <code>?</code> означает, что шаблон может присутствовать ноль или один раз. \n",
    "   4. Для конкретного количества повторений шаблона, используйте <code>{m}</code> после шаблона, где **m** это количество раз, сколько раз шаблон должен повторяться. \n",
    "   5. Используйте <code>{m,n}</code> чтобы сказать, что **m** это минимальное количество повторений шаблона, а **n** максимальное. Если не указываем **n**, то <code>{m,}</code> означает, что шаблон должен встретиться минимум **m** раз, без ограничения максимума.\n",
    "    \n",
    "Теперь давайте рассмотрим примеры для каждого из этих способов, используя нашу собственную функцию multi_re_find:"
   ]
  },
  {
   "cell_type": "code",
   "execution_count": 7,
   "metadata": {},
   "outputs": [
    {
     "name": "stdout",
     "output_type": "stream",
     "text": [
      "Выполняем поиск фразы, используя следующую проверку re: 'sd*'\n",
      "['sd', 'sd', 's', 's', 'sddd', 'sddd', 'sddd', 'sd', 's', 's', 's', 's', 's', 's', 'sdddd']\n",
      "\n",
      "\n",
      "Выполняем поиск фразы, используя следующую проверку re: 'sd+'\n",
      "['sd', 'sd', 'sddd', 'sddd', 'sddd', 'sd', 'sdddd']\n",
      "\n",
      "\n",
      "Выполняем поиск фразы, используя следующую проверку re: 'sd?'\n",
      "['sd', 'sd', 's', 's', 'sd', 'sd', 'sd', 'sd', 's', 's', 's', 's', 's', 's', 'sd']\n",
      "\n",
      "\n",
      "Выполняем поиск фразы, используя следующую проверку re: 'sd{3}'\n",
      "['sddd', 'sddd', 'sddd', 'sddd']\n",
      "\n",
      "\n",
      "Выполняем поиск фразы, используя следующую проверку re: 'sd{2,3}'\n",
      "['sddd', 'sddd', 'sddd', 'sddd']\n",
      "\n",
      "\n"
     ]
    }
   ],
   "source": [
    "test_phrase = 'sdsd..sssddd...sdddsddd...dsds...dsssss...sdddd'\n",
    "\n",
    "test_patterns = [ 'sd*',     # s, затем ноль или несколько d\n",
    "                'sd+',          # s, затем одна или несколько d\n",
    "                'sd?',          # s, затем ноль или одна d\n",
    "                'sd{3}',        # s, затем три d\n",
    "                'sd{2,3}',      # s, затем от двух до трех d\n",
    "                ]\n",
    "\n",
    "multi_re_find(test_patterns,test_phrase)"
   ]
  },
  {
   "cell_type": "markdown",
   "metadata": {},
   "source": [
    "## Наборы символов\n",
    "\n",
    "Наборы символов используются, когда Вы хотите найти некоторые из указанных символов в определенной точке входной строки. Для наборов символов используются квадратные скобки. Например: набор символов <code>[ab]</code> выполняет  поиск или a, или b.\n",
    "Рассмотрим несколько примеров:"
   ]
  },
  {
   "cell_type": "code",
   "execution_count": 9,
   "metadata": {},
   "outputs": [
    {
     "name": "stdout",
     "output_type": "stream",
     "text": [
      "Выполняем поиск фразы, используя следующую проверку re: '[sd]'\n",
      "['s', 'd', 's', 'd', 's', 's', 's', 'd', 'd', 'd', 's', 'd', 'd', 'd', 's', 'd', 'd', 'd', 'd', 's', 'd', 's', 'd', 's', 's', 's', 's', 's', 's', 'd', 'd', 'd', 'd']\n",
      "\n",
      "\n",
      "Выполняем поиск фразы, используя следующую проверку re: 's[sd]+'\n",
      "['sdsd', 'sssddd', 'sdddsddd', 'sds', 'sssss', 'sdddd']\n",
      "\n",
      "\n"
     ]
    }
   ],
   "source": [
    "test_phrase = 'sdsd..sssddd...sdddsddd...dsds...dsssss...sdddd'\n",
    "\n",
    "test_patterns = ['[sd]',    # или s, или d\n",
    "                's[sd]+']   # s, затем одна или больше буква либо s, либо d\n",
    "\n",
    "multi_re_find(test_patterns,test_phrase)"
   ]
  },
  {
   "cell_type": "markdown",
   "metadata": {},
   "source": [
    "Первый шаблон <code>[sd]</code> возвращает любое совпадение с s или d. Второй шаблон <code>s[sd]+</code> находит любые строки, которые начинаются с s, и продолжаются символами s или d до тех пор, пока не встретится другой символ."
   ]
  },
  {
   "cell_type": "markdown",
   "metadata": {},
   "source": [
    "## Исключение\n",
    "\n",
    "Мы можем использовать <code>^</code>, чтобы исключить какие-либо термины. Для этого можно включить их в квадратные скобки. Например: <code>[^...]</code> будет соответствовать любому одному символу, который *не* содержится к скобках. Рассмотрим несколько примеров:"
   ]
  },
  {
   "cell_type": "code",
   "execution_count": 11,
   "metadata": {
    "collapsed": true
   },
   "outputs": [],
   "source": [
    "test_phrase = 'Это строка! Но в ней есть символы пунктуации. Как мы можем убрать их?'"
   ]
  },
  {
   "cell_type": "markdown",
   "metadata": {},
   "source": [
    "Мы можем использовать <code>[^!.? ]</code> для проверки того, что символы не равны !, ., ?, или пробелу. Добавим <code>+</code> чтобы проверить, что совпадение выполняется хотя бы один раз. По сути, мы ищем отдельные слова."
   ]
  },
  {
   "cell_type": "code",
   "execution_count": 12,
   "metadata": {},
   "outputs": [
    {
     "data": {
      "text/plain": [
       "['Это',\n",
       " 'строка',\n",
       " 'Но',\n",
       " 'в',\n",
       " 'ней',\n",
       " 'есть',\n",
       " 'символы',\n",
       " 'пунктуации',\n",
       " 'Как',\n",
       " 'мы',\n",
       " 'можем',\n",
       " 'убрать',\n",
       " 'их']"
      ]
     },
     "execution_count": 12,
     "metadata": {},
     "output_type": "execute_result"
    }
   ],
   "source": [
    "re.findall('[^!.? ]+',test_phrase)"
   ]
  },
  {
   "cell_type": "markdown",
   "metadata": {},
   "source": [
    "## Диапазоны символов\n",
    "\n",
    "При увеличении количества символов, которые должны (или не должны) встретиться в строке, работа с большим количеством символов становится неудобной. Более компактный формат - это диапазоны символов, все символы от одного до другого символа. Формат следующий: <code>[start-end]</code>.\n",
    "\n",
    "Чаще всего это поиск набора букв в алфавите. Например, <code>[a-f]</code> вернет соответствие любому символу для букв от a до f. \n",
    "\n",
    "Рассмотрим несколько примеров:"
   ]
  },
  {
   "cell_type": "code",
   "execution_count": 13,
   "metadata": {},
   "outputs": [
    {
     "name": "stdout",
     "output_type": "stream",
     "text": [
      "Выполняем поиск фразы, используя следующую проверку re: '[a-z]+'\n",
      "['his', 'is', 'an', 'example', 'sentence', 'ets', 'see', 'if', 'we', 'can', 'find', 'some', 'letters']\n",
      "\n",
      "\n",
      "Выполняем поиск фразы, используя следующую проверку re: '[A-Z]+'\n",
      "['T', 'L']\n",
      "\n",
      "\n",
      "Выполняем поиск фразы, используя следующую проверку re: '[a-zA-Z]+'\n",
      "['This', 'is', 'an', 'example', 'sentence', 'Lets', 'see', 'if', 'we', 'can', 'find', 'some', 'letters']\n",
      "\n",
      "\n",
      "Выполняем поиск фразы, используя следующую проверку re: '[A-Z][a-z]+'\n",
      "['This', 'Lets']\n",
      "\n",
      "\n"
     ]
    }
   ],
   "source": [
    "\n",
    "test_phrase = 'This is an example sentence. Lets see if we can find some letters.'\n",
    "\n",
    "test_patterns=['[a-z]+',      # последовательности букв в нижнем регистре\n",
    "               '[A-Z]+',      # последовательности букв в верхнем регистре\n",
    "               '[a-zA-Z]+',   # последовательности букв в нижнем или верхнем регистре\n",
    "               '[A-Z][a-z]+'] # одна буквы в верхнем регистре, затем буквы в нижнем регистре\n",
    "                \n",
    "multi_re_find(test_patterns,test_phrase)"
   ]
  },
  {
   "cell_type": "markdown",
   "metadata": {},
   "source": [
    "## Экранирующие символы (Escape Codes)\n",
    "\n",
    "Вы можете использовать специальные экранирующие символы, чтобы найти в Ваших данных такие шаблоны, как цифры, не-цифры, пробелы и т.д. Например:\n",
    "\n",
    "<table border=\"1\" class=\"docutils\">\n",
    "<colgroup>\n",
    "<col width=\"14%\" />\n",
    "<col width=\"86%\" />\n",
    "</colgroup>\n",
    "<thead valign=\"bottom\">\n",
    "<tr class=\"row-odd\"><th class=\"head\">Code</th>\n",
    "<th class=\"head\">Meaning</th>\n",
    "</tr>\n",
    "</thead>\n",
    "<tbody valign=\"top\">\n",
    "<tr class=\"row-even\"><td><tt class=\"docutils literal\"><span class=\"pre\">\\d</span></tt></td>\n",
    "<td>цифра</td>\n",
    "</tr>\n",
    "<tr class=\"row-odd\"><td><tt class=\"docutils literal\"><span class=\"pre\">\\D</span></tt></td>\n",
    "<td>не-цифра</td>\n",
    "</tr>\n",
    "<tr class=\"row-even\"><td><tt class=\"docutils literal\"><span class=\"pre\">\\s</span></tt></td>\n",
    "<td>пробельный символ (табуляция, пробел, новая строка и т.д.)</td>\n",
    "</tr>\n",
    "<tr class=\"row-odd\"><td><tt class=\"docutils literal\"><span class=\"pre\">\\S</span></tt></td>\n",
    "<td>не-пробельный символ</td>\n",
    "</tr>\n",
    "<tr class=\"row-even\"><td><tt class=\"docutils literal\"><span class=\"pre\">\\w</span></tt></td>\n",
    "<td>альфа-числовой символ</td>\n",
    "</tr>\n",
    "<tr class=\"row-odd\"><td><tt class=\"docutils literal\"><span class=\"pre\">\\W</span></tt></td>\n",
    "<td>не-альфа-числовой символ</td>\n",
    "</tr>\n",
    "</tbody>\n",
    "</table>\n",
    "\n",
    "Экранирующие коды начинаются с обратного слэша <code>\\</code>. К сожалению, сам обратный слэш приходится экранировать в обычных строках Python, и это приводит к тому, что строки становятся сложными для чтения. Чтобы избежать этого, можно использовать обычные строки, добавляя к значению префикс <code>r</code>.\n",
    "\n",
    "Что касается меня, я думаю что использование <code>r</code> для экранирования обратного слэша - это одна из тех вещей, которые делают сложным чтение кода для тех, кто не знаком с regex в Python. Надеюсь, что после рассмотрения примеров ниже этот синтаксис станет ясным."
   ]
  },
  {
   "cell_type": "code",
   "execution_count": 13,
   "metadata": {},
   "outputs": [
    {
     "name": "stdout",
     "output_type": "stream",
     "text": [
      "Searching the phrase using the re check: '\\\\d+'\n",
      "['1233']\n",
      "\n",
      "\n",
      "Searching the phrase using the re check: '\\\\D+'\n",
      "['This is a string with some numbers ', ' and a symbol #hashtag']\n",
      "\n",
      "\n",
      "Searching the phrase using the re check: '\\\\s+'\n",
      "[' ', ' ', ' ', ' ', ' ', ' ', ' ', ' ', ' ', ' ', ' ']\n",
      "\n",
      "\n",
      "Searching the phrase using the re check: '\\\\S+'\n",
      "['This', 'is', 'a', 'string', 'with', 'some', 'numbers', '1233', 'and', 'a', 'symbol', '#hashtag']\n",
      "\n",
      "\n",
      "Searching the phrase using the re check: '\\\\w+'\n",
      "['This', 'is', 'a', 'string', 'with', 'some', 'numbers', '1233', 'and', 'a', 'symbol', 'hashtag']\n",
      "\n",
      "\n",
      "Searching the phrase using the re check: '\\\\W+'\n",
      "[' ', ' ', ' ', ' ', ' ', ' ', ' ', ' ', ' ', ' ', ' #']\n",
      "\n",
      "\n"
     ]
    }
   ],
   "source": [
    "test_phrase = 'This is a string with some numbers 1233 and a symbol #hashtag'\n",
    "\n",
    "test_patterns=[ r'\\d+', # последовательность цифр\n",
    "                r'\\D+', # последовательность не-цифр\n",
    "                r'\\s+', # последовательность пробельных символов\n",
    "                r'\\S+', # последовательность не-пробельных символов\n",
    "                r'\\w+', # альфа-цифровые символы\n",
    "                r'\\W+', # не-альфа-цифровые символы\n",
    "                ]\n",
    "\n",
    "multi_re_find(test_patterns,test_phrase)"
   ]
  },
  {
   "cell_type": "markdown",
   "metadata": {},
   "source": [
    "## Резюме\n",
    "\n",
    "Теперь Вы понимаете, как использовать модуль регулярных выражений в Python. Есть ещё много различных специальных символов, но было бы неразумно разбирать все возможные варианты. Если Вам понадобится найти конкретный шаблон, то можете найти его в [документации](https://docs.python.org/3/library/re.html#regular-expression-syntax).\n",
    "\n",
    "Также можете посмотреть следующую полезную [статью](http://www.tutorialspoint.com/python/python_reg_expressions.htm) на английском языке.\n",
    "\n",
    "Отличная работа!\n"
   ]
  },
  {
   "cell_type": "code",
   "execution_count": null,
   "metadata": {
    "collapsed": true
   },
   "outputs": [],
   "source": []
  }
 ],
 "metadata": {
  "kernelspec": {
   "display_name": "Python 3",
   "language": "python",
   "name": "python3"
  },
  "language_info": {
   "codemirror_mode": {
    "name": "ipython",
    "version": 3
   },
   "file_extension": ".py",
   "mimetype": "text/x-python",
   "name": "python",
   "nbconvert_exporter": "python",
   "pygments_lexer": "ipython3",
   "version": "3.6.1"
  }
 },
 "nbformat": 4,
 "nbformat_minor": 1
}
