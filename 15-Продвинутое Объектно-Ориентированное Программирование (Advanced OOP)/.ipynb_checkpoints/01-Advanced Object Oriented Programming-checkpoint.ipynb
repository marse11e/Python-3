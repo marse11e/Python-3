{
 "cells": [
  {
   "cell_type": "markdown",
   "metadata": {
    "collapsed": true
   },
   "source": [
    "# Объектно-ориентированное программирование - дополнительные материалы\n",
    "\n",
    "\n",
    "В секции про объектно-ориентированное программирование (ООП) мы изучили:\n",
    "\n",
    "* Ключевое слово *class* для определения классов объектов\n",
    "* Создание атрибутов класса\n",
    "* Создание методов класса\n",
    "* Наследование - когда производные классы наследуют атрибуты и методы базового класса\n",
    "* Полиморфизм - когда разные объекты класса используют один и тот же метод, который можно вызвать из одной и той же точки кода\n",
    "* Специальные методы для классов, такие как `__init__`, `__str__`, `__len__` and `__del__`\n",
    "\n",
    "В этой лекции мы рассмотрим более подробно следующие темы\n",
    "* Множественное наследование\n",
    "* Ключевое слово `self` \n",
    "* Порядок разрешения методов (Method Resolution Order - MRO)\n",
    "* Встроенная функция `super()`"
   ]
  },
  {
   "cell_type": "markdown",
   "metadata": {},
   "source": [
    "## Наследование - повторение\n",
    "\n",
    "Вспомним наследование - один или несколько классов могут наследовать атрибуты и методы от базового класса. Это уменьшает дублирование кода, и означает, что изменения в базовом классе автоматически транслируются в производные классы. Давайте это вспомним:"
   ]
  },
  {
   "cell_type": "code",
   "execution_count": 1,
   "metadata": {},
   "outputs": [
    {
     "name": "stdout",
     "output_type": "stream",
     "text": [
      "Fido says Woof!\n",
      "Isis says Meow!\n"
     ]
    }
   ],
   "source": [
    "class Animal:\n",
    "    def __init__(self, name):    # Конструктор класса\n",
    "        self.name = name\n",
    "\n",
    "    def speak(self):              # Абстрактный метод\n",
    "        raise NotImplementedError(\"Subclass must implement abstract method\")\n",
    "\n",
    "\n",
    "class Dog(Animal):\n",
    "    def speak(self):\n",
    "        return self.name+' says Woof!'\n",
    "    \n",
    "class Cat(Animal):\n",
    "    def speak(self):\n",
    "        return self.name+' says Meow!'\n",
    "    \n",
    "fido = Dog('Fido')\n",
    "isis = Cat('Isis')\n",
    "\n",
    "print(fido.speak())\n",
    "print(isis.speak())"
   ]
  },
  {
   "cell_type": "markdown",
   "metadata": {},
   "source": [
    "В этом примере, производные классы могут не иметь своих собственных методов `__init__`, потому что метод `__init__` базового класса вызывается автоматически. Однако, если Вы определите `__init__` в производном классе, то он переопределит метод базового класса:"
   ]
  },
  {
   "cell_type": "code",
   "execution_count": 2,
   "metadata": {
    "collapsed": true
   },
   "outputs": [],
   "source": [
    "class Animal:\n",
    "    def __init__(self,name,legs):\n",
    "        self.name = name\n",
    "        self.legs = legs\n",
    "\n",
    "class Bear(Animal):\n",
    "    def __init__(self,name,legs=4,hibernate='yes'):\n",
    "        self.name = name\n",
    "        self.legs = legs\n",
    "        self.hibernate = hibernate\n"
   ]
  },
  {
   "cell_type": "markdown",
   "metadata": {},
   "source": [
    "Это неэффективно - зачем выполнять наследование от Animal, если мы не можем использовать его конструктор? Ответ - это использовать метод Animal `__init__` внутри нашего собственного `__init__`."
   ]
  },
  {
   "cell_type": "code",
   "execution_count": 3,
   "metadata": {},
   "outputs": [
    {
     "name": "stdout",
     "output_type": "stream",
     "text": [
      "Yogi\n",
      "4\n",
      "yes\n"
     ]
    }
   ],
   "source": [
    "class Animal:\n",
    "    def __init__(self,name,legs):\n",
    "        self.name = name\n",
    "        self.legs = legs\n",
    "\n",
    "class Bear(Animal):\n",
    "    def __init__(self,name,legs=4,hibernate='yes'):\n",
    "        Animal.__init__(self,name,legs)\n",
    "        self.hibernate = hibernate\n",
    "        \n",
    "yogi = Bear('Yogi')\n",
    "print(yogi.name)\n",
    "print(yogi.legs)\n",
    "print(yogi.hibernate)"
   ]
  },
  {
   "cell_type": "markdown",
   "metadata": {},
   "source": [
    "## Множественное наследование\n",
    "\n",
    "Иногда имеет смысл создать производный класс, который наследует свойства двух и более базовых классов. В Python это можно сделать с помощью множественного наследования."
   ]
  },
  {
   "cell_type": "code",
   "execution_count": 4,
   "metadata": {
    "collapsed": true
   },
   "outputs": [],
   "source": [
    "class Car:\n",
    "    def __init__(self,wheels=4):\n",
    "        self.wheels = wheels\n",
    "        # мы говорим что все машины, вне зависимости от мотора, имеют по умолчанию 4 колеса.\n",
    "\n",
    "class Gasoline(Car):\n",
    "    def __init__(self,engine='Gasoline',tank_cap=20):\n",
    "        Car.__init__(self)\n",
    "        self.engine = engine\n",
    "        self.tank_cap = tank_cap # емкость бензобака, в галлонах\n",
    "        self.tank = 0\n",
    "        \n",
    "    def refuel(self):\n",
    "        self.tank = self.tank_cap\n",
    "        \n",
    "    \n",
    "class Electric(Car):\n",
    "    def __init__(self,engine='Electric',kWh_cap=60):\n",
    "        Car.__init__(self)\n",
    "        self.engine = engine\n",
    "        self.kWh_cap = kWh_cap # емкость батареи, в киловатт-часах\n",
    "        self.kWh = 0\n",
    "    \n",
    "    def recharge(self):\n",
    "        self.kWh = self.kWh_cap"
   ]
  },
  {
   "cell_type": "markdown",
   "metadata": {},
   "source": [
    "Что произойдёт, если у нас есть объект, который имеет свойства обоих классов - Gasolines и Electrics? Мы можем создать производный класс, который наследуется от обоих классов!"
   ]
  },
  {
   "cell_type": "code",
   "execution_count": 5,
   "metadata": {},
   "outputs": [
    {
     "name": "stdout",
     "output_type": "stream",
     "text": [
      "0\n",
      "0\n"
     ]
    }
   ],
   "source": [
    "class Hybrid(Gasoline, Electric):\n",
    "    def __init__(self,engine='Hybrid',tank_cap=11,kWh_cap=5):\n",
    "        Gasoline.__init__(self,engine,tank_cap)\n",
    "        Electric.__init__(self,engine,kWh_cap)\n",
    "        \n",
    "        \n",
    "prius = Hybrid()\n",
    "print(prius.tank)\n",
    "print(prius.kWh)"
   ]
  },
  {
   "cell_type": "code",
   "execution_count": 6,
   "metadata": {},
   "outputs": [
    {
     "name": "stdout",
     "output_type": "stream",
     "text": [
      "5\n"
     ]
    }
   ],
   "source": [
    "prius.recharge()\n",
    "print(prius.kWh)"
   ]
  },
  {
   "cell_type": "markdown",
   "metadata": {},
   "source": [
    "## Почему мы используем `self`?\n",
    "\n",
    "Мы видели слово \"self\" почти в каждом примере. Зачем это? Ответ такой: Python использует слово `self`, чтобы найти набор атрибутов и методов, применимых для объекта. Когда мы пишем:\n",
    "\n",
    "    prius.recharge()\n",
    "\n",
    "то на самом деле происходит следующее. Python сначала ищет класс, к которому принадлежит `prius` (Hybrid), и затем передает `prius` в метод `Hybrid.recharge()`.\n",
    "\n",
    "Это то же самое, что выполнить следующее:\n",
    "\n",
    "    Hybrid.recharge(prius)\n",
    "    \n",
    "но короче, и более интуитивно понятно!"
   ]
  },
  {
   "cell_type": "markdown",
   "metadata": {},
   "source": [
    "## Порядок разрешения методов (Method Resolution Order - MRO)\n",
    "Дело становится сложнее, когда у Вас есть несколько базовых классов и уровней наследования. Тогда применяется порядок разрешения методов - формальный алгоритм, который использует Python для запуска методов объекта.\n",
    "\n",
    "Для иллюстрации рассмотрим такой пример. Каждый из классов B и C наследуется от класса A. Класс D наследуется от B и C. Какой из классов будет \"первым в очереди\", когда для D вызывается метод?<br>Рассмотрим следующее:"
   ]
  },
  {
   "cell_type": "code",
   "execution_count": 7,
   "metadata": {
    "collapsed": true
   },
   "outputs": [],
   "source": [
    "class A:\n",
    "    num = 4\n",
    "    \n",
    "class B(A):\n",
    "    pass\n",
    "\n",
    "class C(A):\n",
    "    num = 5\n",
    "    \n",
    "class D(B,C):\n",
    "    pass"
   ]
  },
  {
   "cell_type": "markdown",
   "metadata": {},
   "source": [
    "Схематично, связи выглядят вот так:\n",
    "\n",
    "\n",
    "         A\n",
    "       num=4\n",
    "      /     \\\n",
    "     /       \\\n",
    "     B       C\n",
    "    pass   num=5\n",
    "     \\       /\n",
    "      \\     /\n",
    "         D\n",
    "        pass\n",
    "\n",
    "Здесь `num` это атрибут класса, который принадлежит всем четырём классам. Что произойдёт, если мы вызовем `D.num`?"
   ]
  },
  {
   "cell_type": "code",
   "execution_count": 8,
   "metadata": {},
   "outputs": [
    {
     "data": {
      "text/plain": [
       "5"
      ]
     },
     "execution_count": 8,
     "metadata": {},
     "output_type": "execute_result"
    }
   ],
   "source": [
    "D.num"
   ]
  },
  {
   "cell_type": "markdown",
   "metadata": {},
   "source": [
    "Можно подумать, что `D.num` пойдет от `B` к `A`, и вернёт **4**. Однако, вместо этого, Python использует первый метод в цепочке, который *определяет* num. Порядок рассмотрения `[D, B, C, A, object]`, где *object* это базовый класс Python.\n",
    "\n",
    "В нашем примере ближайший класс, который определил или переопределил ранее определённый `num`, это `C`."
   ]
  },
  {
   "cell_type": "markdown",
   "metadata": {},
   "source": [
    "## `super()`\n",
    "\n",
    "Встроенная в Python функция `super()` предоставляет способ вызова базовых классов, используя порядок разрешения методов.\n",
    "\n",
    "В простой форме для одиночного наследования, `super()` можно использовать вместо названия базового класса:"
   ]
  },
  {
   "cell_type": "code",
   "execution_count": 9,
   "metadata": {
    "collapsed": true
   },
   "outputs": [],
   "source": [
    "class MyBaseClass:\n",
    "    def __init__(self,x,y):\n",
    "        self.x = x\n",
    "        self.y = y\n",
    "    \n",
    "class MyDerivedClass(MyBaseClass):\n",
    "    def __init__(self,x,y,z):\n",
    "        super().__init__(x,y)\n",
    "        self.z = z\n",
    "    "
   ]
  },
  {
   "cell_type": "markdown",
   "metadata": {},
   "source": [
    "Обратите внимание, что мы не передаём `self` в `super().__init__()`, поскольку `super()` заботится об этом автоматически.\n",
    "\n",
    "В более динамичной форме, с множественным наследованием - как в приведенной выше диаграмме в виде ромба, `super()` можно использовать для управления определениями методов:"
   ]
  },
  {
   "cell_type": "code",
   "execution_count": 10,
   "metadata": {
    "collapsed": true
   },
   "outputs": [],
   "source": [
    "class A:\n",
    "    def truth(self):\n",
    "        return 'All numbers are even'\n",
    "    \n",
    "class B(A):\n",
    "    pass\n",
    "\n",
    "class C(A):\n",
    "    def truth(self):\n",
    "        return 'Some numbers are even'\n",
    "    \n"
   ]
  },
  {
   "cell_type": "code",
   "execution_count": 11,
   "metadata": {},
   "outputs": [
    {
     "data": {
      "text/plain": [
       "'All numbers are even'"
      ]
     },
     "execution_count": 11,
     "metadata": {},
     "output_type": "execute_result"
    }
   ],
   "source": [
    "class D(B,C):\n",
    "    def truth(self,num):\n",
    "        if num%2 == 0:\n",
    "            return A.truth(self)\n",
    "        else:\n",
    "            return super().truth()\n",
    "            \n",
    "d = D()\n",
    "d.truth(6)"
   ]
  },
  {
   "cell_type": "code",
   "execution_count": 12,
   "metadata": {},
   "outputs": [
    {
     "data": {
      "text/plain": [
       "'Some numbers are even'"
      ]
     },
     "execution_count": 12,
     "metadata": {},
     "output_type": "execute_result"
    }
   ],
   "source": [
    "d.truth(5)"
   ]
  },
  {
   "cell_type": "markdown",
   "metadata": {},
   "source": [
    "В примере выше, если мы передаём чётное число в `d.truth()`, то мы используем версию  `.truth()` внутри `A`. Иначе, мы следуем порядку разрешения методов, и используем более общую версию."
   ]
  },
  {
   "cell_type": "markdown",
   "metadata": {},
   "source": [
    "Дополнительную информацию о `super()` можно посмотреть вот здесь: https://docs.python.org/3/library/functions.html#super<br>  и здесь: https://rhettinger.wordpress.com/2011/05/26/super-considered-super/"
   ]
  },
  {
   "cell_type": "markdown",
   "metadata": {},
   "source": [
    "Отлично! Теперь у вас есть более глубокое понимание объектно-ориентированного программирования!"
   ]
  }
 ],
 "metadata": {
  "kernelspec": {
   "display_name": "Python 3",
   "language": "python",
   "name": "python3"
  },
  "language_info": {
   "codemirror_mode": {
    "name": "ipython",
    "version": 3
   },
   "file_extension": ".py",
   "mimetype": "text/x-python",
   "name": "python",
   "nbconvert_exporter": "python",
   "pygments_lexer": "ipython3",
   "version": "3.6.1"
  }
 },
 "nbformat": 4,
 "nbformat_minor": 1
}
