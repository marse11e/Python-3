{
 "cells": [
  {
   "cell_type": "markdown",
   "metadata": {
    "slideshow": {
     "slide_type": "slide"
    }
   },
   "source": [
    "# События виджетов\n",
    "\n",
    "В этой лекции мы обсудим события виджетов, такие как нажатие кнопок!"
   ]
  },
  {
   "cell_type": "markdown",
   "metadata": {},
   "source": [
    "## Специальные события"
   ]
  },
  {
   "cell_type": "markdown",
   "metadata": {},
   "source": [
    "`Button` не используется для представления типа данных. Вместо этого, виджет button используется для работы с нажатиями мыши. Метод `on_click` виджета `Button` можно использовать для регистрации функции, которая будет запускаться при нажатии кнопки. Описание docstring для `on_click` можно посмотреть ниже."
   ]
  },
  {
   "cell_type": "code",
   "execution_count": null,
   "metadata": {
    "collapsed": true
   },
   "outputs": [],
   "source": [
    "import ipywidgets as widgets\n",
    "\n",
    "print(widgets.Button.on_click.__doc__)"
   ]
  },
  {
   "cell_type": "markdown",
   "metadata": {
    "slideshow": {
     "slide_type": "slide"
    }
   },
   "source": [
    "### Пример #1 - on_click"
   ]
  },
  {
   "cell_type": "markdown",
   "metadata": {},
   "source": [
    "Поскольку нажатия кнопок это информация stateless, они передаются из фронт-энда в бэк-энд с помощью специальных сообщений. С помощью метода `on_click`, кнопка button отображает сообщение при её нажатии, как показано ниже."
   ]
  },
  {
   "cell_type": "code",
   "execution_count": null,
   "metadata": {
    "collapsed": true
   },
   "outputs": [],
   "source": [
    "from IPython.display import display\n",
    "button = widgets.Button(description=\"Click Me!\")\n",
    "display(button)\n",
    "\n",
    "def on_button_clicked(b):\n",
    "    print(\"Button clicked.\")\n",
    "\n",
    "button.on_click(on_button_clicked)"
   ]
  },
  {
   "cell_type": "markdown",
   "metadata": {
    "slideshow": {
     "slide_type": "slide"
    }
   },
   "source": [
    "### Пример #2 - on_submit"
   ]
  },
  {
   "cell_type": "markdown",
   "metadata": {},
   "source": [
    "Виджет `Text` также имеет специальное событие `on_submit`. Событие `on_submit` происходит, когда пользователь нажимает клавишу <kbd>enter</kbd>."
   ]
  },
  {
   "cell_type": "code",
   "execution_count": null,
   "metadata": {
    "collapsed": true
   },
   "outputs": [],
   "source": [
    "text = widgets.Text()\n",
    "display(text)\n",
    "\n",
    "def handle_submit(sender):\n",
    "    print(text.value)\n",
    "\n",
    "text.on_submit(handle_submit)"
   ]
  },
  {
   "cell_type": "markdown",
   "metadata": {
    "slideshow": {
     "slide_type": "slide"
    }
   },
   "source": [
    "## События Traitlet\n",
    "Свойства виджетов являются IPython traitlets, и traitlet'ы могут содержать события. Чтобы реагировать на изменения, можно использовать метод `observe` для регистрации обратного вызова. Описание docstring для `observe` приведено ниже."
   ]
  },
  {
   "cell_type": "code",
   "execution_count": null,
   "metadata": {
    "collapsed": true
   },
   "outputs": [],
   "source": [
    "print(widgets.Widget.observe.__doc__)"
   ]
  },
  {
   "cell_type": "markdown",
   "metadata": {
    "slideshow": {
     "slide_type": "slide"
    }
   },
   "source": [
    "### Signatures\n",
    "Как указано в docstring, регистрируемый обратный вызов должен иметь вид `handler(change)`, где `change` это словарь, содержащий информацию об изменении.\n",
    "\n",
    "Ниже приведён пример использования этого метода, в котором отображается значение `IntSlider` при его изменении.\n"
   ]
  },
  {
   "cell_type": "code",
   "execution_count": null,
   "metadata": {
    "collapsed": true
   },
   "outputs": [],
   "source": [
    "int_range = widgets.IntSlider()\n",
    "display(int_range)\n",
    "\n",
    "def on_value_change(change):\n",
    "    print(change['new'])\n",
    "\n",
    "int_range.observe(on_value_change, names='value')"
   ]
  },
  {
   "cell_type": "markdown",
   "metadata": {},
   "source": [
    "# Связь между виджетами\n",
    "Зачастую Вам может понадобиться связать атрибуты виджетов вместе. Синхронизацию атрибутов можно сделать проще, чем просто использование событий traitlets."
   ]
  },
  {
   "cell_type": "markdown",
   "metadata": {},
   "source": [
    "## Связь атрибутов traitlets в ядре kernel¶\n",
    "\n",
    "Первый способ это использование функций `link` и `dlink` из модуля `traitlets`. Это работает, только если Вы взаимодействуете с работающим ядром kernel.\n"
   ]
  },
  {
   "cell_type": "code",
   "execution_count": null,
   "metadata": {
    "collapsed": true
   },
   "outputs": [],
   "source": [
    "import traitlets"
   ]
  },
  {
   "cell_type": "code",
   "execution_count": null,
   "metadata": {
    "collapsed": true
   },
   "outputs": [],
   "source": [
    "# Create Caption\n",
    "caption = widgets.Label(value = 'The values of slider1 and slider2 are synchronized')\n",
    "\n",
    "# Create IntSliders\n",
    "slider1 = widgets.IntSlider(description='Slider 1')\n",
    "slider2 =  widgets.IntSlider(description='Slider 2')\n",
    "\n",
    "# Use trailets to link\n",
    "l = traitlets.link((slider1, 'value'), (slider2, 'value'))\n",
    "\n",
    "# Display!\n",
    "display(caption, slider1, slider2)"
   ]
  },
  {
   "cell_type": "code",
   "execution_count": null,
   "metadata": {
    "collapsed": true
   },
   "outputs": [],
   "source": [
    "# Create Caption\n",
    "caption = widgets.Label(value='Changes in source values are reflected in target1')\n",
    "\n",
    "# Create Sliders\n",
    "source = widgets.IntSlider(description='Source')\n",
    "target1 = widgets.IntSlider(description='Target 1')\n",
    "\n",
    "# Use dlink\n",
    "dl = traitlets.dlink((source, 'value'), (target1, 'value'))\n",
    "display(caption, source, target1)"
   ]
  },
  {
   "cell_type": "markdown",
   "metadata": {},
   "source": [
    "Функции `traitlets.link` и `traitlets.dlink` возвращают объект `Link` или `DLink`. Связь можно убрать с помощью метода `unlink`."
   ]
  },
  {
   "cell_type": "code",
   "execution_count": null,
   "metadata": {
    "collapsed": true
   },
   "outputs": [],
   "source": [
    "# Можно получить ошибку в зависимости от порядка выполнения ячеек!\n",
    "l.unlink()\n",
    "dl.unlink()"
   ]
  },
  {
   "cell_type": "markdown",
   "metadata": {},
   "source": [
    "### Регистрация обратных вызовов для отслеживания изменений в ядре kernel\n",
    "\n",
    "Поскольку атрибуты виджетов на стороне Python являются traitlet'ами, Вы можете регистрировать обработчики для событий изменения, когда модель получает изменения из фронт-энда.\n",
    "\n",
    "Обработчик (handler), который передаётся для наблюдения за событием, будет вызван с одним параметром change. Объект change содержит по крайней мере ключ `type` и ключ `name`, которые соответствуют типу нотификации и имени атрибута, который был причиной нотификации.\n",
    "\n",
    "Также, в зависимости от значения `type`, могут передаваться дополнительные ключи. В случае если тип равен `change`, у нас ещё будут следующие ключи:\n",
    "* `owner` : экземпляр HasTraits\n",
    "* `old` : старое значение изменяемого атрибута trait \n",
    "* `new` : новое значение изменяемого атрибута trait\n",
    "* `name` : название изменяемого атрибута trait.\n"
   ]
  },
  {
   "cell_type": "code",
   "execution_count": null,
   "metadata": {
    "collapsed": true
   },
   "outputs": [],
   "source": [
    "caption = widgets.Label(value='The values of range1 and range2 are synchronized')\n",
    "slider = widgets.IntSlider(min=-5, max=5, value=1, description='Slider')\n",
    "\n",
    "def handle_slider_change(change):\n",
    "    caption.value = 'The slider value is ' + (\n",
    "        'negative' if change.new < 0 else 'nonnegative'\n",
    "    )\n",
    "\n",
    "slider.observe(handle_slider_change, names='value')\n",
    "\n",
    "display(caption, slider)"
   ]
  },
  {
   "cell_type": "markdown",
   "metadata": {},
   "source": [
    "## Связь атрибутов виджетов со стороны клиента\n",
    "\n",
    "При синхронизации атрибутов traitlet'ов, Вы можете столкнуться с задержкой по времени, связанной с временем доступа к серверной части. Вы также можете связать атрибуты виджетов напрямую в браузере, используя виджеты link, либо в одном направлении, либо в двух направлениях.\n",
    "\n",
    "Ссылки Javascript остаются неизменными при помещении виджетов внутри веб-страниц html без ядра kernel."
   ]
  },
  {
   "cell_type": "code",
   "execution_count": null,
   "metadata": {
    "collapsed": true
   },
   "outputs": [],
   "source": [
    "# NO LAG VERSION\n",
    "caption = widgets.Label(value = 'The values of range1 and range2 are synchronized')\n",
    "\n",
    "range1 = widgets.IntSlider(description='Range 1')\n",
    "range2 = widgets.IntSlider(description='Range 2')\n",
    "\n",
    "l = widgets.jslink((range1, 'value'), (range2, 'value'))\n",
    "display(caption, range1, range2)"
   ]
  },
  {
   "cell_type": "code",
   "execution_count": null,
   "metadata": {
    "collapsed": true
   },
   "outputs": [],
   "source": [
    "# NO LAG VERSION\n",
    "caption = widgets.Label(value = 'Changes in source_range values are reflected in target_range')\n",
    "\n",
    "source_range = widgets.IntSlider(description='Source range')\n",
    "target_range = widgets.IntSlider(description='Target range')\n",
    "\n",
    "dl = widgets.jsdlink((source_range, 'value'), (target_range, 'value'))\n",
    "display(caption, source_range, target_range)"
   ]
  },
  {
   "cell_type": "markdown",
   "metadata": {},
   "source": [
    "Функция `widgets.jslink` возвращает виджет `Link`. Эта связь может быть удалена с помощью метода `unlink`."
   ]
  },
  {
   "cell_type": "code",
   "execution_count": null,
   "metadata": {
    "collapsed": true
   },
   "outputs": [],
   "source": [
    "l.unlink()\n",
    "dl.unlink()"
   ]
  },
  {
   "cell_type": "markdown",
   "metadata": {},
   "source": [
    "### Различие между связыванием в ядре kernel и связыванием на клиенте\n",
    "\n",
    "Связывание в ядре kernel означает связывание с помощью python. Если два слайдера связаны в ядре kernel, то при изменении одного слайдера браузер отправляет сообщение ядру kernel (в данном случае python) с обновлением слайдера, и затем виджет link widget в ядре kernel передаёт это изменение в другой слайдер в ядре kernel, и далее объект другого слайдера отправляет сообщение браузеру обновить представление этого другого слайдера в браузере. Если ядро kernel не выполняется (например, на статичной web-странице), то элементы не будут связаны.\n",
    "\n",
    "Связывание с помощью jslink (то есть, на стороне браузера) означает создание ссылки в Javascript. Когда один слайдер меняется, работающий в браузере Javascript меняет значение другого слайдера в браузере, без необходимости общаться с ядром kernel. Если слайдеры связаны с объектами kernel, то каждый из слайдеров обновить свои объекты на стороне ядра kernel независимо друг от друга.\n",
    "\n",
    "Чтобы увидеть разницу между двумя этими типами связывания, можете посмотреть [документацию ipywidgets](http://ipywidgets.readthedocs.io/en/latest/examples/Widget%20Events.html) и попробовать слайдеры рядом с нижней частью страницы. Те слайдеры, которые связаны в ядре kernel с помощью `link` и `dlink` больше не связаны, а те, что связаны в браузере с помощью `jslink` и `jsdlink`, всё еще связаны.\n"
   ]
  },
  {
   "cell_type": "markdown",
   "metadata": {},
   "source": [
    "## Постоянные обновления\n",
    "\n",
    "Некоторые виджеты с помощью атрибута `continuous_update` предоставляют возможность постоянно обновлять значения, либо обновлять значения только когда пользователь отправляет значение (например, нажимая Enter или переходя на другой элемент). В примере ниже, элементы “Delayed” передают свои значения только после того, как пользователь завершил перемещение слайдера или ввод текста в текстовом поле. Элементы “Continuous” постоянно передают свои значения при их изменении. Чтобы увидеть разницу, попробуйте ввести число из двух цифр в каждом из текстовых полей, или переместить каждый из слайдеров.\n"
   ]
  },
  {
   "cell_type": "code",
   "execution_count": null,
   "metadata": {
    "collapsed": true
   },
   "outputs": [],
   "source": [
    "import traitlets\n",
    "a = widgets.IntSlider(description=\"Delayed\", continuous_update=False)\n",
    "b = widgets.IntText(description=\"Delayed\", continuous_update=False)\n",
    "c = widgets.IntSlider(description=\"Continuous\", continuous_update=True)\n",
    "d = widgets.IntText(description=\"Continuous\", continuous_update=True)\n",
    "\n",
    "traitlets.link((a, 'value'), (b, 'value'))\n",
    "traitlets.link((a, 'value'), (c, 'value'))\n",
    "traitlets.link((a, 'value'), (d, 'value'))\n",
    "widgets.VBox([a,b,c,d])"
   ]
  },
  {
   "cell_type": "markdown",
   "metadata": {},
   "source": [
    "Элементы Слайдер, `Text` и `Textarea` по умолчанию имеют значение `continuous_update=True`. Элементы `IntText` и другие текстовые поля для ввода целых и дробных чисел имеют значение `continuous_update=False` (поскольку в большинстве случаев Вы вводите всё число перед тем, как нажать enter или перейти на другой элемент)."
   ]
  },
  {
   "cell_type": "markdown",
   "metadata": {},
   "source": [
    "# Резюме\n",
    "Теперь Вы знаете, как работать с событиями виджетов!"
   ]
  }
 ],
 "metadata": {
  "cell_tags": [
   [
    "<None>",
    null
   ]
  ],
  "kernelspec": {
   "display_name": "Python 3",
   "language": "python",
   "name": "python3"
  },
  "language_info": {
   "codemirror_mode": {
    "name": "ipython",
    "version": 3
   },
   "file_extension": ".py",
   "mimetype": "text/x-python",
   "name": "python",
   "nbconvert_exporter": "python",
   "pygments_lexer": "ipython3",
   "version": "3.6.1"
  }
 },
 "nbformat": 4,
 "nbformat_minor": 1
}
