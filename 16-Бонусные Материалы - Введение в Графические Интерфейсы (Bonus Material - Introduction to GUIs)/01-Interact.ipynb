{
 "cells": [
  {
   "cell_type": "markdown",
   "metadata": {},
   "source": [
    "# Функция Interact\n",
    "\n",
    "В этой лекции мы начнём изучать создание графического интерфейса в виде приборных панелей (dashboard) с помощью виджетов iPython!"
   ]
  },
  {
   "cell_type": "markdown",
   "metadata": {},
   "source": [
    "Функция `interact` (`ipywidgets.interact`) автоматически создает элементы пользовательского интерфейса для интерактивной работы с кодом и данными. Это простой способ начать работу с виджетами IPython."
   ]
  },
  {
   "cell_type": "code",
   "execution_count": 2,
   "metadata": {
    "collapsed": true
   },
   "outputs": [],
   "source": [
    "# Начнём с команд import\n",
    "\n",
    "from ipywidgets import interact, interactive, fixed\n",
    "import ipywidgets as widgets"
   ]
  },
  {
   "cell_type": "markdown",
   "metadata": {},
   "source": [
    "<div class=\"alert alert-success\">\n",
    "Пожалуйста обратите внимание! Виджеты в этом notebook не будут отображаться в NbViewer или GitHub. Чтобы увидеть виджеты и работать с ними, Вам следует скачать этот блокнот и запустить его в Jupyter Notebook.\n",
    "\n",
    "</div>"
   ]
  },
  {
   "cell_type": "markdown",
   "metadata": {},
   "source": [
    "## Базовый `interact`"
   ]
  },
  {
   "cell_type": "markdown",
   "metadata": {},
   "source": [
    "На самом базовом уровне `interact` автоматически создаёт элементы пользовательского интерфейса для параметров функций, и затем, когда Вы интерактивно работаете с этими элементами, запускает функцию с этими параметрами. Чтобы использовать `interact`, нужно указать функцию, с которой Вы хотите работать. Вот пример функции, которая отображает с помощью print свой единственный аргумент `x`."
   ]
  },
  {
   "cell_type": "code",
   "execution_count": 4,
   "metadata": {
    "collapsed": true
   },
   "outputs": [],
   "source": [
    "# очень простая функция\n",
    "def f(x):\n",
    "    return x"
   ]
  },
  {
   "cell_type": "markdown",
   "metadata": {},
   "source": [
    "Если эту функцию передать в качестве первого параметра в функцию `interact`, а также указать числовой именованный параметр (`x=10`), то будет создан слайдер (бегунок), привязанный к параметру функции. Обратите внимание, что точка с запятой здесь нужна, чтобы предотвратить отображение ячейки **out**."
   ]
  },
  {
   "cell_type": "code",
   "execution_count": 4,
   "metadata": {},
   "outputs": [
    {
     "data": {
      "application/vnd.jupyter.widget-view+json": {
       "model_id": "643734bdd42a4313a7d1de98b3f30047"
      }
     },
     "metadata": {},
     "output_type": "display_data"
    }
   ],
   "source": [
    "# Generate a slider to interact with\n",
    "interact(f, x=10,);"
   ]
  },
  {
   "cell_type": "markdown",
   "metadata": {},
   "source": [
    "Когда Вы перемещаете слайдер, вызывается функция, которая отображает текущее значение `x`.\n",
    "\n",
    "Если Вы передадите `True` или `False`, то функция `interact` создаст чек-бокс:"
   ]
  },
  {
   "cell_type": "code",
   "execution_count": 5,
   "metadata": {
    "scrolled": true
   },
   "outputs": [
    {
     "data": {
      "application/vnd.jupyter.widget-view+json": {
       "model_id": "82a025e347df452a9d1e7359e887472b"
      }
     },
     "metadata": {},
     "output_type": "display_data"
    }
   ],
   "source": [
    "# Значения Boolean создают чек-боксы\n",
    "interact(f, x=True);"
   ]
  },
  {
   "cell_type": "markdown",
   "metadata": {},
   "source": [
    "Если передать строку, то `interact` создаст текстовую область."
   ]
  },
  {
   "cell_type": "code",
   "execution_count": 6,
   "metadata": {},
   "outputs": [
    {
     "data": {
      "application/vnd.jupyter.widget-view+json": {
       "model_id": "3d43c879107f48f884164e7ac4b6eea5"
      }
     },
     "metadata": {},
     "output_type": "display_data"
    }
   ],
   "source": [
    "# Строки создают текстовую область\n",
    "interact(f, x='Hi there!');"
   ]
  },
  {
   "cell_type": "markdown",
   "metadata": {},
   "source": [
    "`interact` также можно использовать в качестве декоратора. Это позволяет Вам определить функцию и сразу взаимодействовать с ней. Как показано в этом примере, `interact` также работает с функциями, имеющими несколько параметров."
   ]
  },
  {
   "cell_type": "code",
   "execution_count": 7,
   "metadata": {},
   "outputs": [
    {
     "data": {
      "application/vnd.jupyter.widget-view+json": {
       "model_id": "b96644a610cd4602b4ad9e7f31617c1c"
      }
     },
     "metadata": {},
     "output_type": "display_data"
    }
   ],
   "source": [
    "# Используем декоратор!\n",
    "@interact(x=True, y=1.0)\n",
    "def g(x, y):\n",
    "    return (x, y)"
   ]
  },
  {
   "cell_type": "markdown",
   "metadata": {},
   "source": [
    "## Фиксируем параметры с помощью `fixed`"
   ]
  },
  {
   "cell_type": "markdown",
   "metadata": {},
   "source": [
    "Иногда Вы можете захотеть исследовать функцию с помощью `interact`, но при этом зафиксировать один или несколько параметров, указав им определенные значения. Это можно сделать, обернув эти значения с помощью функции `fixed`."
   ]
  },
  {
   "cell_type": "code",
   "execution_count": 9,
   "metadata": {
    "collapsed": true
   },
   "outputs": [],
   "source": [
    "# Ещё одна простая функция\n",
    "def h(p, q):\n",
    "    return (p, q)"
   ]
  },
  {
   "cell_type": "markdown",
   "metadata": {},
   "source": [
    "Когда мы вызываем `interact`, мы передаём `fixed(20)` для q, чтобы зафиксировать этот параметр в значение `20`."
   ]
  },
  {
   "cell_type": "code",
   "execution_count": 10,
   "metadata": {},
   "outputs": [
    {
     "data": {
      "application/vnd.jupyter.widget-view+json": {
       "model_id": "961094d38f614775a976d988dfce8d2e"
      }
     },
     "metadata": {},
     "output_type": "display_data"
    }
   ],
   "source": [
    "interact(h, p=5, q=fixed(20));"
   ]
  },
  {
   "cell_type": "markdown",
   "metadata": {},
   "source": [
    "Обратите внимание, что слайдер был создан только для `p`, поскольку значение `q` зафиксировано."
   ]
  },
  {
   "cell_type": "markdown",
   "metadata": {},
   "source": [
    "## Аббревиатуры виджетов"
   ]
  },
  {
   "cell_type": "markdown",
   "metadata": {},
   "source": [
    "Когда Вы передаёте числовой именованный аргумент `10` (`x=10`) в функцию `interact`, то эта функция генерит числовой слайдер с диапазоном `[-10,+3\\times10]`. В этом случае, `10` это *аббревиатура* для виджета slider:\n",
    "\n",
    "```python\n",
    "IntSlider(min=-10,max=30,step=1,value=10)\n",
    "```\n",
    "\n",
    "На самом деле мы можем получить такой же результат, если передадим этот `IntSlider` в качестве именованного параметра для `x`:"
   ]
  },
  {
   "cell_type": "code",
   "execution_count": 11,
   "metadata": {},
   "outputs": [
    {
     "data": {
      "application/vnd.jupyter.widget-view+json": {
       "model_id": "ca32fa072ae9443ba434f7bbbbfd763a"
      }
     },
     "metadata": {},
     "output_type": "display_data"
    }
   ],
   "source": [
    "# Can call the IntSlider to get more specific\n",
    "interact(f, x=widgets.IntSlider(min=-10,max=30,step=1,value=10));"
   ]
  },
  {
   "cell_type": "markdown",
   "metadata": {},
   "source": [
    "Этот пример показывает, как `interact` обрабатывает свои именованные параметры:\n",
    "\n",
    "1. Если именованный параметр это инстанс `Widget` с атрибутом `value`, то используется этот виджет. Можно использовать любой виджет с атрибутом `value`, даже свои собственные.\n",
    "2. В других случаях, значение рассматривается как *аббревиатура виджета*, которая преобразуется в виджет перед его использованием.\n",
    "\n",
    "В таблице ниже приведены различные аббревиатуры виджетов:\n",
    "\n",
    "<table class=\"table table-condensed table-bordered\">\n",
    "  <tr><td><strong>Именованный параметр</strong></td><td><strong>Виджет</strong></td></tr>  \n",
    "  <tr><td>`True` или `False`</td><td>Checkbox</td></tr>  \n",
    "  <tr><td>`'Hi there'`</td><td>Text</td></tr>\n",
    "  <tr><td>`value` или `(min,max)` или `(min,max,step)`, если передаются числа integer</td><td>IntSlider</td></tr>\n",
    "  <tr><td>`value` или `(min,max)` или `(min,max,step)`, если передаются числа float</td><td>FloatSlider</td></tr>\n",
    "  <tr><td>`['orange','apple']` или `{'one':1,'two':2}`</td><td>Dropdown</td></tr>\n",
    "</table>"
   ]
  },
  {
   "cell_type": "markdown",
   "metadata": {},
   "source": [
    "Обратите внимание, что выпадающий список (dropdown) используется для списка или словаря (которые содержат конкретный список значений), а слайдер используется для кортежей (которые содержат диапазон).\n",
    "\n",
    "Вы уже видели, как работают виджеты с чек-боксом и текстовой областью. Здесь мы также рассмотрим различные аббревиатуры для слайдеров и выпадающих списков.\n",
    "\n",
    "Если передаётся кортеж из двух чисел `(min,max)`, то создается числовой слайдер с указанными минимальным и максимальным значениями (включительно). В этом случае используется шаг по умолчанию, равный `1`."
   ]
  },
  {
   "cell_type": "code",
   "execution_count": 5,
   "metadata": {},
   "outputs": [
    {
     "data": {
      "application/vnd.jupyter.widget-view+json": {
       "model_id": "08177f896ffb4209b101961a9fcf48f7"
      }
     },
     "metadata": {},
     "output_type": "display_data"
    }
   ],
   "source": [
    "# Min,Max слайдер для кортежа\n",
    "interact(f, x=(0,4));"
   ]
  },
  {
   "cell_type": "markdown",
   "metadata": {},
   "source": [
    "Если передаём три числа `(min,max,step)`, то третье число это размер шага."
   ]
  },
  {
   "cell_type": "code",
   "execution_count": 6,
   "metadata": {},
   "outputs": [
    {
     "data": {
      "application/vnd.jupyter.widget-view+json": {
       "model_id": "6b9770be74114416a9e4754302348e77"
      }
     },
     "metadata": {},
     "output_type": "display_data"
    }
   ],
   "source": [
    "# (min, max, step)\n",
    "interact(f, x=(0,8,2));"
   ]
  },
  {
   "cell_type": "markdown",
   "metadata": {},
   "source": [
    "Если элементы в кортеже дробные (float), то создаётся слайдер со значениями float. В примере ниже минимум `0.0`, максимум `10.0`, и размер шага `0.1` (по умолчанию)."
   ]
  },
  {
   "cell_type": "code",
   "execution_count": 7,
   "metadata": {},
   "outputs": [
    {
     "data": {
      "application/vnd.jupyter.widget-view+json": {
       "model_id": "78911cc16d884624b4162971bf6ea50a"
      }
     },
     "metadata": {},
     "output_type": "display_data"
    }
   ],
   "source": [
    "interact(f, x=(0.0,10.0));"
   ]
  },
  {
   "cell_type": "markdown",
   "metadata": {},
   "source": [
    "Аналогично сказанному ранее, размер шага можно поменять, указав третий элемент кортежа."
   ]
  },
  {
   "cell_type": "code",
   "execution_count": 8,
   "metadata": {},
   "outputs": [
    {
     "data": {
      "application/vnd.jupyter.widget-view+json": {
       "model_id": "816262d749af477dad15013d9a54543b"
      }
     },
     "metadata": {},
     "output_type": "display_data"
    }
   ],
   "source": [
    "interact(f, x=(0.0,10.0,0.01));"
   ]
  },
  {
   "cell_type": "markdown",
   "metadata": {},
   "source": [
    "Для обоих слайдеров - для целых чисел и для дробных чисел - Вы можете указать начальное значение, передав его в виде значения по умолчанию для параметра изучаемой функции Python. В примере ниже мы указываем начальное значение для слайдера, равное `5.5`."
   ]
  },
  {
   "cell_type": "code",
   "execution_count": 9,
   "metadata": {},
   "outputs": [
    {
     "data": {
      "application/vnd.jupyter.widget-view+json": {
       "model_id": "9317adb3b25f43dd884d0190dbabb0bf"
      }
     },
     "metadata": {},
     "output_type": "display_data"
    }
   ],
   "source": [
    "@interact(x=(0.0,20.0,0.5))\n",
    "def h(x=5.5):\n",
    "    return x"
   ]
  },
  {
   "cell_type": "markdown",
   "metadata": {},
   "source": [
    "Выпадающие меню создаются с помощью списков строк. В этом случае, строки используются для отображения в графическом интерфейсе выпадающего меню, а также эти строки передаются в изучаемую функцию Python."
   ]
  },
  {
   "cell_type": "code",
   "execution_count": 10,
   "metadata": {},
   "outputs": [
    {
     "data": {
      "application/vnd.jupyter.widget-view+json": {
       "model_id": "9754e9798f054341ba64bce696dc674e"
      }
     },
     "metadata": {},
     "output_type": "display_data"
    }
   ],
   "source": [
    "interact(f, x=['apples','oranges']);"
   ]
  },
  {
   "cell_type": "markdown",
   "metadata": {},
   "source": [
    "Если Вы хотите создать выпадающий список, который передает в функцию Python не-строки, то это можно сделать с помощью словаря. Ключи словаря будут использоваться как имена в выпадающем меню, а значения словаря будут передаваться в изучаемую функцию Python."
   ]
  },
  {
   "cell_type": "code",
   "execution_count": 11,
   "metadata": {},
   "outputs": [
    {
     "data": {
      "application/vnd.jupyter.widget-view+json": {
       "model_id": "6dfdc182d2084ca796b2b2fc3cf7cb35"
      }
     },
     "metadata": {},
     "output_type": "display_data"
    }
   ],
   "source": [
    "interact(f, x={'one': 10, 'two': 20});"
   ]
  },
  {
   "cell_type": "markdown",
   "metadata": {},
   "source": [
    "## Использование аннотаций функций в `interact`"
   ]
  },
  {
   "cell_type": "markdown",
   "metadata": {},
   "source": [
    "Вы также можете описывать аббревиатуры виджетов, используя [аннотации функций](https://docs.python.org/3/tutorial/controlflow.html#function-annotations).\n",
    "\n",
    "Давайте определим функцию с аббревиатурой виджета чек-бокс для параметра `x`."
   ]
  },
  {
   "cell_type": "code",
   "execution_count": 12,
   "metadata": {
    "collapsed": true
   },
   "outputs": [],
   "source": [
    "def f(x:True):  # Python 3 only\n",
    "    return x"
   ]
  },
  {
   "cell_type": "markdown",
   "metadata": {},
   "source": [
    "Далее, поскольку аббревиатура виджета уже определена, мы можем просто вызвать `interact` с одним аргументом."
   ]
  },
  {
   "cell_type": "code",
   "execution_count": 13,
   "metadata": {},
   "outputs": [
    {
     "data": {
      "application/vnd.jupyter.widget-view+json": {
       "model_id": "6b7544604ec44d2783b6edd2293da2d0"
      }
     },
     "metadata": {},
     "output_type": "display_data"
    }
   ],
   "source": [
    "interact(f);"
   ]
  },
  {
   "cell_type": "markdown",
   "metadata": {},
   "source": [
    "## interactive"
   ]
  },
  {
   "cell_type": "markdown",
   "metadata": {},
   "source": [
    "В дополнение к `interact`, IPython предоставляет ещё одну функцию, `interactive`, которая может пригодиться, когда Вы повторно используете уже созданные виджеты, или хотите получить доступ к данным, которые привязаны к элементам пользовательского интерфейса.\n",
    "\n",
    "Обратите внимание, что в отличие от `interact`, возвращаемое функцией значение не будет автоматически отображаться на экран. Но Вы можете отобразить значение внутри функции, используя `IPython.display.display`.\n",
    "\n",
    "Ниже приведена функция, которая возвращает сумму двух параметров, и отображает эту сумму. Команду display можно убрать, если Вы не хотите отображать результат функции."
   ]
  },
  {
   "cell_type": "code",
   "execution_count": 15,
   "metadata": {
    "collapsed": true
   },
   "outputs": [],
   "source": [
    "from IPython.display import display\n",
    "\n",
    "def f(a, b):\n",
    "    display(a + b)\n",
    "    return a+b"
   ]
  },
  {
   "cell_type": "markdown",
   "metadata": {},
   "source": [
    "В отличие от `interact`, `interactive` возвращает инстанс `Widget`, а не отображает его сразу."
   ]
  },
  {
   "cell_type": "code",
   "execution_count": 16,
   "metadata": {
    "collapsed": true
   },
   "outputs": [],
   "source": [
    "w = interactive(f, a=10, b=20)"
   ]
  },
  {
   "cell_type": "markdown",
   "metadata": {},
   "source": [
    "Виджет это `interactive` - подкласс класса `VBox`, который является контейнером для других виджетов."
   ]
  },
  {
   "cell_type": "code",
   "execution_count": 17,
   "metadata": {},
   "outputs": [
    {
     "data": {
      "text/plain": [
       "ipywidgets.widgets.interaction.interactive"
      ]
     },
     "execution_count": 17,
     "metadata": {},
     "output_type": "execute_result"
    }
   ],
   "source": [
    "type(w)"
   ]
  },
  {
   "cell_type": "markdown",
   "metadata": {},
   "source": [
    "Дочерними элементами `interactive` являются два слайдера с целыми числами, а также виджет output, созданные указанной выше аббревиатурой виджетов."
   ]
  },
  {
   "cell_type": "code",
   "execution_count": 18,
   "metadata": {},
   "outputs": [
    {
     "data": {
      "text/plain": [
       "(<ipywidgets.widgets.widget_int.IntSlider at 0x54c9668>,\n",
       " <ipywidgets.widgets.widget_int.IntSlider at 0x54e67b8>,\n",
       " <ipywidgets.widgets.widget_output.Output at 0x54c96a0>)"
      ]
     },
     "execution_count": 18,
     "metadata": {},
     "output_type": "execute_result"
    }
   ],
   "source": [
    "w.children"
   ]
  },
  {
   "cell_type": "markdown",
   "metadata": {},
   "source": [
    "Чтобы теперь отобразить эти виджеты, можно использовать функцию IPython `display`."
   ]
  },
  {
   "cell_type": "code",
   "execution_count": 19,
   "metadata": {},
   "outputs": [
    {
     "data": {
      "application/vnd.jupyter.widget-view+json": {
       "model_id": "03676986bee2468fa97daa3e81ee1289"
      }
     },
     "metadata": {},
     "output_type": "display_data"
    }
   ],
   "source": [
    "display(w)"
   ]
  },
  {
   "cell_type": "markdown",
   "metadata": {},
   "source": [
    "И в этот момент элементы пользовательского интерфейса работают так же, как и для `interact`. Вы меняете значения в интерфейсе, и вызывается функция. При этом экземпляр виджета, который вернул `interactive`, также даёт Вам доступ к текущим именованным параметрам и возвращаемому значению изучаемой функции Python.\n",
    "\n",
    "Ниже приведены текущие значения именованных параметров. Если Вы снова выполните эту ячейку после изменения значений на слайдерах, то значения будут другими."
   ]
  },
  {
   "cell_type": "code",
   "execution_count": 27,
   "metadata": {},
   "outputs": [
    {
     "data": {
      "text/plain": [
       "{'a': 10, 'b': 20}"
      ]
     },
     "execution_count": 27,
     "metadata": {},
     "output_type": "execute_result"
    }
   ],
   "source": [
    "w.kwargs"
   ]
  },
  {
   "cell_type": "markdown",
   "metadata": {},
   "source": [
    "А вот текущее возвращаемое значение функции."
   ]
  },
  {
   "cell_type": "code",
   "execution_count": 28,
   "metadata": {},
   "outputs": [
    {
     "data": {
      "text/plain": [
       "30"
      ]
     },
     "execution_count": 28,
     "metadata": {},
     "output_type": "execute_result"
    }
   ],
   "source": [
    "w.result"
   ]
  },
  {
   "cell_type": "markdown",
   "metadata": {},
   "source": [
    "# Резюме\n",
    "\n",
    "Теперь у Вас есть базовое понимание, как использовать Interact в Jupyter Notebooks!"
   ]
  }
 ],
 "metadata": {
  "kernelspec": {
   "display_name": "Python 3",
   "language": "python",
   "name": "python3"
  },
  "language_info": {
   "codemirror_mode": {
    "name": "ipython",
    "version": 3
   },
   "file_extension": ".py",
   "mimetype": "text/x-python",
   "name": "python",
   "nbconvert_exporter": "python",
   "pygments_lexer": "ipython3",
   "version": "3.6.1"
  }
 },
 "nbformat": 4,
 "nbformat_minor": 1
}
