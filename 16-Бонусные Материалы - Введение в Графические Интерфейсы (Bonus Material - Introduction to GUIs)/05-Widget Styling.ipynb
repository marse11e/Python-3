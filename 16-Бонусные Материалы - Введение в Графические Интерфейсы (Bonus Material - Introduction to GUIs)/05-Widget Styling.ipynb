{
 "cells": [
  {
   "cell_type": "markdown",
   "metadata": {},
   "source": [
    "# Стилизация виджетов\n",
    "\n",
    "В этой лекции мы изучим различные варианты стилизации виджетов!"
   ]
  },
  {
   "cell_type": "markdown",
   "metadata": {},
   "source": [
    "## `style` vs. `layout`\n",
    "\n",
    "Есть два способа поменять внешний вид виджетов в браузере. Первый способ - с помощью атрибута `layout`, который предоставляет свойства CSS для элементов DOM верхнего уровня, относящихся к виджету и отвечающие за его расположение, таких как поля (margins) и позиционирование (positioning). Второй способ - это атрибут `style`, который содержит такие атрибуты как цвет кнопки или размер шрифта. Атрибут `layout` является общим для всех виджетов и их контейнеров, а `style` содержит настройки, специфичные для каждого типа виджета.\n",
    "\n",
    "Чтобы полностью понять тот функционал, который предоставляется в атрибуте `layout`, потребуется знать основы веб-разработки, включая HTML и CSS. Этот раздел предоставляет краткий обзор того, что можно сделать с помощью `layout`. Полный список инструментов доступен в отдельной лекции **Стилизация виджетов с помощью Layout - дополнительные материалы**.\n",
    "\n",
    "Если Вы хотите узнать больше о веб-разработке, в том числе о HTML и CSS, то можете посмотреть [Полный Курс Веб-Разработчика 2.0](https://www.udemy.com/course/the-complete-web-developer-course-2-russian/?referralCode=B0B9403E263E02A982F1) - это курс на Udemy на русском языке. По этой [ссылке](https://www.udemy.com/course/the-complete-web-developer-course-2-russian/?referralCode=B0B9403E263E02A982F1) Вы можете записаться на этот курс со скидкой 95%.\n",
    "\n",
    "Элементы стиля являются более интуитивными, поскольку относятся напрямую к каждому типу виджета. Ниже приведены полезные примеры по использованию атрибута `style`.\n"
   ]
  },
  {
   "cell_type": "markdown",
   "metadata": {},
   "source": [
    "## Атрибут `layout`\n",
    "Интерактивные виджеты Jupyter имеют атрибут `layout`, который предоставляет доступ к набору свойств CSS, отвечающих за расположение виджета. Эти свойства соответствуют значениям свойств CSS с таким же названием (нижние подчёркивания заменяются на тире), и применяются к элементам DOM верхнего уровня для соответствующего виджета.\n",
    "\n",
    "#### Размеры\n",
    "* `height`\n",
    "* `width`\n",
    "* `max_height`\n",
    "* `max_width`\n",
    "* `min_height`\n",
    "* `min_width`\n",
    "\n",
    "#### Отображение\n",
    "* `visibility`\n",
    "* `display`\n",
    "* `overflow`\n",
    "* `overflow_x`\n",
    "* `overflow_y`\n",
    "\n",
    "#### Модель прямоугольника\n",
    "* `border`\n",
    "* `margin`\n",
    "* `padding`\n",
    "\n",
    "#### Позиционирование\n",
    "* `top`\n",
    "* `left`\n",
    "* `bottom`\n",
    "* `right`\n",
    "\n",
    "#### Flexbox\n",
    "* `order`\n",
    "* `flex_flow`\n",
    "* `align_items`\n",
    "* `flex`\n",
    "* `align_self`\n",
    "* `align_content`\n",
    "* `justify_content`"
   ]
  },
  {
   "cell_type": "markdown",
   "metadata": {},
   "source": [
    "## Пример `layout`\n",
    "\n",
    "Мы уже видели, как выглядит слайдер без каких-либо изменений его расположения с помощью layout:"
   ]
  },
  {
   "cell_type": "code",
   "execution_count": 1,
   "metadata": {},
   "outputs": [
    {
     "data": {
      "application/vnd.jupyter.widget-view+json": {
       "model_id": "9e99825f91f14b60bbe44ef86cd32c46"
      }
     },
     "metadata": {},
     "output_type": "display_data"
    }
   ],
   "source": [
    "import ipywidgets as widgets\n",
    "from IPython.display import display\n",
    "\n",
    "w = widgets.IntSlider()\n",
    "display(w)"
   ]
  },
  {
   "cell_type": "markdown",
   "metadata": {},
   "source": [
    "Теперь представим, что мы хотим поменять два свойства этого виджета: `margin` и `height`. Мы хотим расположить слайдер по центру в области вывода результатов, и увеличить его высоту. Это можно сделать, добавив атрибуты `layout` для **w**"
   ]
  },
  {
   "cell_type": "code",
   "execution_count": 2,
   "metadata": {
    "collapsed": true
   },
   "outputs": [],
   "source": [
    "w.layout.margin = 'auto'\n",
    "w.layout.height = '75px'"
   ]
  },
  {
   "cell_type": "markdown",
   "metadata": {},
   "source": [
    "Обратите внимание, что слайдер поменял своё положение на странице сразу же!\n",
    "\n",
    "\n",
    "Настройки расположения можно передавать с одного виджета на другой виджет того же типа. Давайте сначала создадим новый IntSlider:"
   ]
  },
  {
   "cell_type": "code",
   "execution_count": null,
   "metadata": {
    "collapsed": true
   },
   "outputs": [],
   "source": [
    "x = widgets.IntSlider(value=15,description='New slider')\n",
    "display(x)"
   ]
  },
  {
   "cell_type": "markdown",
   "metadata": {},
   "source": [
    "И далее присвоим настройки layout, которые имеет слайдер **w**,  для слайдера **x**:"
   ]
  },
  {
   "cell_type": "code",
   "execution_count": null,
   "metadata": {
    "collapsed": true
   },
   "outputs": [],
   "source": [
    "x.layout = w.layout"
   ]
  },
  {
   "cell_type": "markdown",
   "metadata": {},
   "source": [
    "Вот так! Чтобы посмотреть полный набор инструкций по использованию `layout`, посмотрите лекцию **Стилизация виджетов с помощью Layout - дополнительные материалы** notebook."
   ]
  },
  {
   "cell_type": "markdown",
   "metadata": {},
   "source": [
    "## Предопределённые стили\n",
    "\n",
    "Прежде чем изучать атрибут`style`, надо сказать, что многие виджеты предоставляют набор предопределённых стилей, которые можно передать в качестве параметров при создании виджета.\n",
    "\n",
    "Например, виджет `Button` имеет атрибут `button_style`, который может принимать 5 различных значений:\n",
    "\n",
    "* `'primary'`\n",
    "* `'success'`\n",
    "* `'info'`\n",
    "* `'warning'`\n",
    "* `'danger'`\n",
    "\n",
    "(кроме пустого значения по умолчанию `''`)."
   ]
  },
  {
   "cell_type": "code",
   "execution_count": null,
   "metadata": {
    "collapsed": true
   },
   "outputs": [],
   "source": [
    "import ipywidgets as widgets\n",
    "\n",
    "widgets.Button(description='Ordinary Button', button_style='')"
   ]
  },
  {
   "cell_type": "code",
   "execution_count": null,
   "metadata": {
    "collapsed": true
   },
   "outputs": [],
   "source": [
    "widgets.Button(description='Danger Button', button_style='danger')"
   ]
  },
  {
   "cell_type": "markdown",
   "metadata": {},
   "source": [
    "## Атрибут `style`"
   ]
  },
  {
   "cell_type": "markdown",
   "metadata": {},
   "source": [
    "Атрибут `style` предоставляет доступ к атрибутам виджета, отвечающим за стилизацию.\n",
    "\n",
    "При этом свойства атрибута `style` различны для разных типов виджетов."
   ]
  },
  {
   "cell_type": "code",
   "execution_count": null,
   "metadata": {
    "collapsed": true
   },
   "outputs": [],
   "source": [
    "b1 = widgets.Button(description='Custom color')\n",
    "b1.style.button_color = 'lightgreen'\n",
    "b1"
   ]
  },
  {
   "cell_type": "markdown",
   "metadata": {},
   "source": [
    "Вы можете получить список атрибутов стиля для конкретного виджета, используя свойство `keys`."
   ]
  },
  {
   "cell_type": "code",
   "execution_count": null,
   "metadata": {
    "collapsed": true
   },
   "outputs": [],
   "source": [
    "b1.style.keys"
   ]
  },
  {
   "cell_type": "markdown",
   "metadata": {},
   "source": [
    "Также можно использовать `widgets.Button().style.keys`."
   ]
  },
  {
   "cell_type": "markdown",
   "metadata": {},
   "source": [
    "Как и для атрибута `layout`, стили виджета можно переносить на другие виджеты."
   ]
  },
  {
   "cell_type": "code",
   "execution_count": null,
   "metadata": {
    "collapsed": true
   },
   "outputs": [],
   "source": [
    "b2 = widgets.Button()\n",
    "b2.style = b1.style\n",
    "b2"
   ]
  },
  {
   "cell_type": "markdown",
   "metadata": {},
   "source": [
    "Обратите внимание, что в **b2** были скопированы только атрибуты стиля, а не все параметры: Например, `description` не был скопирован."
   ]
  },
  {
   "cell_type": "markdown",
   "metadata": {},
   "source": [
    "Атрибуты стилизации виджетов различаются для разных типов виджетов."
   ]
  },
  {
   "cell_type": "code",
   "execution_count": null,
   "metadata": {
    "collapsed": true
   },
   "outputs": [],
   "source": [
    "s1 = widgets.IntSlider(description='Blue handle')\n",
    "s1.style.handle_color = 'lightblue'\n",
    "s1"
   ]
  },
  {
   "cell_type": "markdown",
   "metadata": {},
   "source": [
    "## Общие элементы стиля\n",
    "\n",
    "Есть общие черты стиля, которые характерны для более общих виджетов:\n",
    "\n",
    "#### Button\n",
    "\n",
    "- `button_color`\n",
    "- `font_weight`\n",
    "\n",
    "#### IntSlider, FloatSlider, IntRangeSlider, FloatRangeSlider\n",
    "\n",
    "- `description_width`\n",
    "- `handle_color`\n",
    "\n",
    "#### IntProgress, FloatProgress\n",
    "\n",
    "- `bar_color`\n",
    "- `description_width`\n",
    "\n",
    "Большинство других виджетов, такие как `ToggleButton`, `Checkbox`, `Dropdown`, `RadioButtons`, `Select` и `Text` имеют только изменяемое свойство `description_width`."
   ]
  },
  {
   "cell_type": "markdown",
   "metadata": {},
   "source": [
    "# Резюме\n",
    "\n",
    "Теперь Вы знакомы со стилизацией виджетов!"
   ]
  }
 ],
 "metadata": {
  "cell_tags": [
   [
    "<None>",
    null
   ]
  ],
  "kernelspec": {
   "display_name": "Python 3",
   "language": "python",
   "name": "python3"
  },
  "language_info": {
   "codemirror_mode": {
    "name": "ipython",
    "version": 3
   },
   "file_extension": ".py",
   "mimetype": "text/x-python",
   "name": "python",
   "nbconvert_exporter": "python",
   "pygments_lexer": "ipython3",
   "version": "3.6.1"
  }
 },
 "nbformat": 4,
 "nbformat_minor": 1
}
