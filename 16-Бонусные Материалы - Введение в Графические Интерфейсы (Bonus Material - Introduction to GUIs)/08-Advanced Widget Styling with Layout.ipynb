{
 "cells": [
  {
   "cell_type": "markdown",
   "metadata": {},
   "source": [
    "# Стилизация виджетов с помощью Layout - дополнительные материалы\n",
    "\n",
    "Эта лекция является расширением лекции **Стилизация виджетов**. В ней описываются различные варианты изменений для HTML и CSS, которые можно сделать с помощью атрибута `layout`."
   ]
  },
  {
   "cell_type": "markdown",
   "metadata": {},
   "source": [
    "## Атрибут `layout`\n",
    "Интерактивные виджеты Jupyter содержат атрибут `layout`, который предоставляет доступ к свойствам CSS, влияющим на расположение виджетов.\n",
    "\n",
    "### Доступные свойства CSS\n",
    "<div class=\"alert alert-info\" style=\"margin: 20px\">Указанные ниже свойства соответствуют значениям свойств CSS с таким же названием (нижние подчёркивания заменяются на тире), и применяются в элементам DOM верхнего уровня для соответствующего виджета.</div>\n",
    "\n",
    "#### Размеры\n",
    "* `height`\n",
    "* `width`\n",
    "* `max_height`\n",
    "* `max_width`\n",
    "* `min_height`\n",
    "* `min_width`\n",
    "\n",
    "#### Отображение\n",
    "* `visibility`\n",
    "* `display`\n",
    "* `overflow`\n",
    "* `overflow_x`\n",
    "* `overflow_y`\n",
    "\n",
    "#### Модель прямоугольника\n",
    "* `border`\n",
    "* `margin`\n",
    "* `padding`\n",
    "\n",
    "#### Позиционирование\n",
    "* `top`\n",
    "* `left`\n",
    "* `bottom`\n",
    "* `right`\n",
    "\n",
    "#### Flexbox\n",
    "* `order`\n",
    "* `flex_flow`\n",
    "* `align_items`\n",
    "* `flex`\n",
    "* `align_self`\n",
    "* `align_content`\n",
    "* `justify_content`\n",
    "\n",
    "### Сокращения для свойств CSS\n",
    "\n",
    "Вы могли заметить, что отдельные свойства CSS, такие как `margin-[top/right/bottom/left]`, кажется что отсутствуют. То же самое относится к `padding-[top/right/bottom/left]` и т.д.\n",
    "\n",
    "На самом деле Вы можете атомарно указать поля `[top/right/bottom/left]` с помощью только атрибута `margin`, передавая строку `'100px 150px 100px 80px'` для полей `top`, `right`, `bottom` и `left`, присваивая им соответственно значения `100`, `150`, `100` и `80` пикселей.\n",
    "\n",
    "Аналогично, атрибут `flex` может хранить значения для `flex-grow`, `flex-shrink` и `flex-basis`. Атрибут `border` это свойство для `border-width`, `border-style (требуется)`, и `border-color`."
   ]
  },
  {
   "cell_type": "code",
   "execution_count": 19,
   "metadata": {
    "collapsed": true
   },
   "outputs": [],
   "source": [
    "import ipywidgets as widgets\n",
    "from IPython.display import display"
   ]
  },
  {
   "cell_type": "markdown",
   "metadata": {},
   "source": [
    "# Резюме\n",
    "\n",
    "Теперь у Вас есть понимание того, как стилизуются виджеты!"
   ]
  }
 ],
 "metadata": {
  "cell_tags": [
   [
    "<None>",
    null
   ]
  ],
  "kernelspec": {
   "display_name": "Python 3",
   "language": "python",
   "name": "python3"
  },
  "language_info": {
   "codemirror_mode": {
    "name": "ipython",
    "version": 3
   },
   "file_extension": ".py",
   "mimetype": "text/x-python",
   "name": "python",
   "nbconvert_exporter": "python",
   "pygments_lexer": "ipython3",
   "version": "3.6.1"
  }
 },
 "nbformat": 4,
 "nbformat_minor": 1
}
