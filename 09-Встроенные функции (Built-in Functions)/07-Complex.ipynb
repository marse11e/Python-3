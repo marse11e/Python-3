{
 "cells": [
  {
   "cell_type": "markdown",
   "metadata": {},
   "source": [
    "# complex()\n",
    "\n",
    "complex() возвращает комплексное число real + imag*1j (вещественная и мнимая часть). \n",
    "\n",
    "Если первый параметр это строка, то она будет интерпретирована как комплексное число, и функция должна быть вызвана без второго параметра. Второй параметр не может быть строкой. Любой из параметров может быть числом (в том числе комплексным). Если imag не указано, то по умолчанию оно равно нулю, и конструктор создает число, похожее на int или float. Если оба параметра не указаны, то функция возвращает 0j.\n",
    "\n",
    "Если Вы занимаетесь математикой или инженерными науками, для которых нужны комплексные числа - например динамика, управляющие системы, сопротивление цепи, то этот инструментарий в Python будет Вам полезен.\n",
    "\n",
    "Рассмотрим несколько примеров:"
   ]
  },
  {
   "cell_type": "code",
   "execution_count": 1,
   "metadata": {},
   "outputs": [
    {
     "data": {
      "text/plain": [
       "(2+3j)"
      ]
     },
     "execution_count": 1,
     "metadata": {},
     "output_type": "execute_result"
    }
   ],
   "source": [
    "# Create 2+3j\n",
    "complex(2,3)"
   ]
  },
  {
   "cell_type": "code",
   "execution_count": 2,
   "metadata": {},
   "outputs": [
    {
     "data": {
      "text/plain": [
       "(10+1j)"
      ]
     },
     "execution_count": 2,
     "metadata": {},
     "output_type": "execute_result"
    }
   ],
   "source": [
    "complex(10,1)"
   ]
  },
  {
   "cell_type": "markdown",
   "metadata": {},
   "source": [
    "Мы также можем передавать строки:"
   ]
  },
  {
   "cell_type": "code",
   "execution_count": 3,
   "metadata": {},
   "outputs": [
    {
     "data": {
      "text/plain": [
       "(12+2j)"
      ]
     },
     "execution_count": 3,
     "metadata": {},
     "output_type": "execute_result"
    }
   ],
   "source": [
    "complex('12+2j')"
   ]
  },
  {
   "cell_type": "markdown",
   "metadata": {},
   "source": [
    "Вот и всё, что касается этой функции. Имейте её ввиду, когда Вам понадобится работа с комплексными числами в Python!"
   ]
  }
 ],
 "metadata": {
  "kernelspec": {
   "display_name": "Python 3",
   "language": "python",
   "name": "python3"
  },
  "language_info": {
   "codemirror_mode": {
    "name": "ipython",
    "version": 3
   },
   "file_extension": ".py",
   "mimetype": "text/x-python",
   "name": "python",
   "nbconvert_exporter": "python",
   "pygments_lexer": "ipython3",
   "version": "3.6.1"
  }
 },
 "nbformat": 4,
 "nbformat_minor": 1
}
