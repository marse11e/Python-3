{
 "cells": [
  {
   "cell_type": "markdown",
   "metadata": {},
   "source": [
    "# map()\n",
    "\n",
    "map() - это встроенная функция Python, которая принимает на вход два или более параметра: функцию, и один или несколько итерируемых объектов, в следующем виде:\n",
    "\n",
    "    map(function, iterable, ...)\n",
    "    \n",
    "map() возвращает *iterator* - специальный объект, который постепенно возвращает результат по мере необходимости. Мы узнаем больше об итераторах и генераторах в будущих лекциях. Сейчас, поскольку наши примеры маленькие по объёму данных, мы сконвертируем map() в список, чтобы увидеть все результаты сразу.\n",
    "\n",
    "Когда мы изучали генераторы списков (list comprehensions), мы создали небольшое выражение для конвертации градусов Цельсия в градусы Фаренгейта. Давайте сделаем здесь то же самое, но используя map:"
   ]
  },
  {
   "cell_type": "code",
   "execution_count": 1,
   "metadata": {
    "collapsed": true
   },
   "outputs": [],
   "source": [
    "def fahrenheit(celsius):\n",
    "    return (9/5)*celsius + 32\n",
    "    \n",
    "temps = [0, 22.5, 40, 100]"
   ]
  },
  {
   "cell_type": "markdown",
   "metadata": {},
   "source": [
    "Теперь давайте посмотрим на map() в действии:"
   ]
  },
  {
   "cell_type": "code",
   "execution_count": 2,
   "metadata": {},
   "outputs": [
    {
     "data": {
      "text/plain": [
       "[32.0, 72.5, 104.0, 212.0]"
      ]
     },
     "execution_count": 2,
     "metadata": {},
     "output_type": "execute_result"
    }
   ],
   "source": [
    "F_temps = map(fahrenheit, temps)\n",
    "\n",
    "#Show\n",
    "list(F_temps)"
   ]
  },
  {
   "cell_type": "markdown",
   "metadata": {},
   "source": [
    "В приведённом выше примере map() применяет функцию fahrenheit для каждого элемента в temps. При этом мы не обязаны заранее создавать наши функции; вместо этого мы можем использовать лямбда-выражения:"
   ]
  },
  {
   "cell_type": "code",
   "execution_count": 3,
   "metadata": {},
   "outputs": [
    {
     "data": {
      "text/plain": [
       "[32.0, 72.5, 104.0, 212.0]"
      ]
     },
     "execution_count": 3,
     "metadata": {},
     "output_type": "execute_result"
    }
   ],
   "source": [
    "list(map(lambda x: (9/5)*x + 32, temps))"
   ]
  },
  {
   "cell_type": "markdown",
   "metadata": {},
   "source": [
    "Отлично! Мы получили тот же самый результат! Использование map с выражениями лямбда очень распространено, поскольку основная цель функции map() - это избежать усилий на ручное создание циклов."
   ]
  },
  {
   "cell_type": "markdown",
   "metadata": {},
   "source": [
    "### map() с несколькими итераторами\n",
    "map() может работать с более чем одним итератором. Итераторы должны быть одной и той же длины - в случае, если это не так, то map() остановится, как только самый короткий из итераторов дойдёт до конца.\n",
    "\n",
    "\n",
    "Например, если наша функция складывает два значения **x** и **y**, то мы можем передать список значений **x** и другой список значений **y** в функцию map(). Функция (или лямбда) будет запущена для нулевых элементов из каждого списка, затем для первых элементов из каждого списка, и так далее до n-ых элементов.\n",
    "\n",
    "Давайте посмотрим это в действии сначала для двух, а затем для трёх списков:"
   ]
  },
  {
   "cell_type": "code",
   "execution_count": 4,
   "metadata": {},
   "outputs": [
    {
     "data": {
      "text/plain": [
       "[6, 8, 10, 12]"
      ]
     },
     "execution_count": 4,
     "metadata": {},
     "output_type": "execute_result"
    }
   ],
   "source": [
    "a = [1,2,3,4]\n",
    "b = [5,6,7,8]\n",
    "c = [9,10,11,12]\n",
    "\n",
    "list(map(lambda x,y:x+y,a,b))"
   ]
  },
  {
   "cell_type": "code",
   "execution_count": 5,
   "metadata": {},
   "outputs": [
    {
     "data": {
      "text/plain": [
       "[15, 18, 21, 24]"
      ]
     },
     "execution_count": 5,
     "metadata": {},
     "output_type": "execute_result"
    }
   ],
   "source": [
    "# Now all three lists\n",
    "list(map(lambda x,y,z:x+y+z,a,b,c))"
   ]
  },
  {
   "cell_type": "markdown",
   "metadata": {},
   "source": [
    "В примере выше видно, что параметр **x** получает свои значения из списка **a**, параметр **y** получает значения из **b** и **z** из списка **c**. Попробуйте поэкспериментировать сами с каким-нибудь своим примером, чтобы убедиться, что Вы понимаете работу map с более чем одним итерируемым объектом.\n",
    "\n",
    "Отличная работа! Теперь Вы знаете основы работы с функцией map()."
   ]
  }
 ],
 "metadata": {
  "kernelspec": {
   "display_name": "Python 3",
   "language": "python",
   "name": "python3"
  },
  "language_info": {
   "codemirror_mode": {
    "name": "ipython",
    "version": 3
   },
   "file_extension": ".py",
   "mimetype": "text/x-python",
   "name": "python",
   "nbconvert_exporter": "python",
   "pygments_lexer": "ipython3",
   "version": "3.6.1"
  }
 },
 "nbformat": 4,
 "nbformat_minor": 1
}
