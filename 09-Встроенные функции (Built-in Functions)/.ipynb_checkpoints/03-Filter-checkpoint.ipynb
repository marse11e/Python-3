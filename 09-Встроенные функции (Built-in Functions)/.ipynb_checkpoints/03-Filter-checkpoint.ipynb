{
 "cells": [
  {
   "cell_type": "markdown",
   "metadata": {},
   "source": [
    "# filter\n",
    "\n",
    "Функция filter(function, list) предоставляет удобный способ отфильтровать элементы итерируемого объекта и оставить только те из них, для которых указанная в параметре функция возвращает True. \n",
    "\n",
    "В качестве первого параметра filter(function,list) принимает на вход функцию, которая возвращает значение Boolean  (True или False). Эта функция применяется к каждому элементу итерируемого объекта. Если функция возвращает True, то элемент добавляется в результат.\n",
    "\n",
    "Как и в случае с map(), filter() возвращает *итератор* - то есть, filter возвращает один результат за другим, по мере необходимости. Итераторы и генераторы будут изучены в одной из ближайших лекций. Здесь же, поскольку объёмы данных в наших примерах малы, мы можем преобразовать filter() в список и получить результаты сразу же.\n",
    "\n",
    "Рассмотрим несколько примеров:"
   ]
  },
  {
   "cell_type": "code",
   "execution_count": 1,
   "metadata": {
    "collapsed": true
   },
   "outputs": [],
   "source": [
    "# Сначала создадим функцию\n",
    "def even_check(num):\n",
    "    if num%2 ==0:\n",
    "        return True"
   ]
  },
  {
   "cell_type": "markdown",
   "metadata": {},
   "source": [
    "Теперь отфильтруем список чисел. Замечание: указание названия функции внутри filter без скобок может показаться странным, но помните, что функции также являются объектами."
   ]
  },
  {
   "cell_type": "code",
   "execution_count": 2,
   "metadata": {},
   "outputs": [
    {
     "data": {
      "text/plain": [
       "[0, 2, 4, 6, 8, 10, 12, 14, 16, 18]"
      ]
     },
     "execution_count": 2,
     "metadata": {},
     "output_type": "execute_result"
    }
   ],
   "source": [
    "lst =range(20)\n",
    "\n",
    "list(filter(even_check,lst))"
   ]
  },
  {
   "cell_type": "markdown",
   "metadata": {},
   "source": [
    "filter() чаще используется с функциями лямбда, поскольку обычно мы используем filter для разовой задачи, для которой не стоит создавать отдельную функцию. Давайте повторим предыдущий пример с помощью выражения лямбда:"
   ]
  },
  {
   "cell_type": "code",
   "execution_count": 3,
   "metadata": {},
   "outputs": [
    {
     "data": {
      "text/plain": [
       "[0, 2, 4, 6, 8, 10, 12, 14, 16, 18]"
      ]
     },
     "execution_count": 3,
     "metadata": {},
     "output_type": "execute_result"
    }
   ],
   "source": [
    "list(filter(lambda x: x%2==0,lst))"
   ]
  },
  {
   "cell_type": "markdown",
   "metadata": {},
   "source": [
    "Отлично! Теперь Вы знакомы с функцией filter(), и знаете, как применять её в Вашем коде!"
   ]
  }
 ],
 "metadata": {
  "kernelspec": {
   "display_name": "Python 3",
   "language": "python",
   "name": "python3"
  },
  "language_info": {
   "codemirror_mode": {
    "name": "ipython",
    "version": 3
   },
   "file_extension": ".py",
   "mimetype": "text/x-python",
   "name": "python",
   "nbconvert_exporter": "python",
   "pygments_lexer": "ipython3",
   "version": "3.6.1"
  }
 },
 "nbformat": 4,
 "nbformat_minor": 1
}
