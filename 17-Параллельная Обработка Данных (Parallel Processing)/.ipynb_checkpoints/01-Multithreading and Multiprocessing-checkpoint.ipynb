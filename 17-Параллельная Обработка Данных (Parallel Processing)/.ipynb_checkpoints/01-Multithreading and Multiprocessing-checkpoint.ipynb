{
 "cells": [
  {
   "cell_type": "markdown",
   "metadata": {},
   "source": [
    "# Многопоточность и Многопроцессорность\n",
    "\n",
    "Помните поговорку \"много рук делают работу легче\". Это верно в программировании так же, как и в любых других делах.\n",
    "\n",
    "Что, если Вы так напишете программу Python, чтобы она делала четыре вещи одновременно? Тогда та работа, которая выполняется за один час, могла бы выполниться (почти) в четыре раза быстрее.<font color=green>\\*</font>\n",
    "\n",
    "Это основная идея параллельных вычислений - возможность настроить и выполнять несколько задач одновременно.\n",
    "\n",
    "\n",
    "<br><font color=green>\\* *Мы говорим \"почти\", потому что ещё потребуется время на настройку четырёх процессоров, а также время на сбор информации от них.*</font>"
   ]
  },
  {
   "cell_type": "markdown",
   "metadata": {},
   "source": [
    "##  Потоки (Threading) vs. Процессы (Processing)\n",
    "\n",
    "Хорошая иллюстрация для потоков и процессов - это загрузка файла с изображением, и создание для него иконки.\n",
    "\n",
    "Первая часть, взаимодействие с внешним источником для загрузки файла, это отдельный поток. Как только файл получен, работа по его конвертации это процесс. По сути, время выполнения определяется двумя факторами: скорость ввода/вывода по сети, или I/O, и доступный процессор, CPU.\n",
    "\n",
    "#### I/O-интенсивные задачи ускоряются с помощью многопоточности:\n",
    "* чтение множества web-страниц\n",
    "* чтение и запись файлов\n",
    "* обмен данными между программами\n",
    "* сетевые взаимодействия\n",
    "\n",
    "\n",
    "#### CPU-интенсивные задачи ускоряются с помощью многопроцессорности:\n",
    "* вычисления\n",
    "* форматирование текста\n",
    "* изменение масштаба изображений\n",
    "* анализ данных"
   ]
  },
  {
   "cell_type": "markdown",
   "metadata": {},
   "source": [
    "## Пример на многопоточность: чтение множества web-страниц (Webscraping)\n",
    "\n",
    "Если взглянуть на историю, то навыки для настройки многопоточности были за пределами рамок этого курса, поскольку раньше требовалось хорошее знание Python's Global Interpreter Lock (GIL делает так, чтобы разные потоки не выполняли одновременно один и тот же код). Также требовалось создавать специальные классы, которые выполняют роль Поставщиков заданий (Producers) для разделения работы на части, классы для Потребителей заданий (Consumers, или \"workers\") для выполнения работы, и классов Queue (очередь) для хранения задач и обеспечения взаимодействия. И это было только начало.\n",
    "\n",
    "К счастью, мы уже изучили один полезный инструмент, который нам понадобится – функция `map()`. Когда мы применяем её, используя две стандартные библиотеки, *multiprocessing* и *multiprocessing.dummy*, то настройка параллельных процессов и потоков выполняется достаточно просто.\n"
   ]
  },
  {
   "cell_type": "markdown",
   "metadata": {},
   "source": [
    "Ниже приведён классический пример многопоточности, предоставленный [IBM](http://www.ibm.com/developerworks/aix/library/au-threadingpython/) и адаптированный [Chris Kiehl](http://chriskiehl.com/article/parallelism-in-one-line/), в котором Вы разделяете задачу чтения web-страниц между несколькими потоками:\n",
    "\n",
    "\n",
    "    import time \n",
    "    import threading \n",
    "    import Queue \n",
    "    import urllib2 \n",
    "\n",
    "    class Consumer(threading.Thread): \n",
    "      def __init__(self, queue): \n",
    "        threading.Thread.__init__(self)\n",
    "        self._queue = queue \n",
    "\n",
    "      def run(self):\n",
    "        while True: \n",
    "          content = self._queue.get() \n",
    "          if isinstance(content, str) and content == 'quit':\n",
    "            break\n",
    "          response = urllib2.urlopen(content)\n",
    "        print 'Thanks!'\n",
    "\n",
    "\n",
    "    def Producer():\n",
    "      urls = [\n",
    "        'http://www.python.org', 'http://www.yahoo.com'\n",
    "        'http://www.scala.org', 'http://www.google.com'\n",
    "        # etc.. \n",
    "      ]\n",
    "      queue = Queue.Queue()\n",
    "      worker_threads = build_worker_pool(queue, 4)\n",
    "      start_time = time.time()\n",
    "\n",
    "      # Add the urls to process\n",
    "      for url in urls: \n",
    "        queue.put(url)  \n",
    "      # Add the poison pill\n",
    "      for worker in worker_threads:\n",
    "        queue.put('quit')\n",
    "      for worker in worker_threads:\n",
    "        worker.join()\n",
    "\n",
    "      print 'Done! Time taken: {}'.format(time.time() - start_time)\n",
    "\n",
    "    def build_worker_pool(queue, size):\n",
    "      workers = []\n",
    "      for _ in range(size):\n",
    "        worker = Consumer(queue)\n",
    "        worker.start() \n",
    "        workers.append(worker)\n",
    "      return workers\n",
    "\n",
    "    if __name__ == '__main__':\n",
    "      Producer()"
   ]
  },
  {
   "cell_type": "markdown",
   "metadata": {},
   "source": [
    "С помощью многопоточной библиотеки, предоставляемой модулем *multiprocessing.dummy* и функцией `map()`, все это превращается в следующий код:\n",
    "\n",
    "    import urllib2\n",
    "    from multiprocessing.dummy import Pool as ThreadPool\n",
    "    \n",
    "    pool = ThreadPool(4) # choose a number of workers\n",
    "    \n",
    "    urls = [\n",
    "    'http://www.python.org', 'http://www.yahoo.com'\n",
    "    'http://www.scala.org', 'http://www.google.com'\n",
    "    # etc.. \n",
    "    ]\n",
    "    \n",
    "    results = pool.map(urllib2.urlopen, urls)\n",
    "    pool.close() \n",
    "    pool.join()\n",
    "    \n",
    "В примере выше, модуль *multiprocessing.dummy* предоставляет параллельные потоки (threads), а функция `map(urllib2.urlopen, urls)` назначает работу!"
   ]
  },
  {
   "cell_type": "markdown",
   "metadata": {},
   "source": [
    "## Пример на мультипроцессорность: Монте Карло\n",
    "\n",
    "Давайте напишем код для примера, чтобы увидеть, как различные части сочетаются между собой. Мы можем измерить время с помощью модуля *timeit*, чтобы понять выигрыш по производительности. Задача будет в том, чтобы применить Метод Монте Карло для оценки значения числа Pi."
   ]
  },
  {
   "cell_type": "markdown",
   "metadata": {},
   "source": [
    "### Метод Монте Карло и оценка числа Pi\n",
    "\n",
    "Если Вы нарисуете окружность радиуса 1 и заключите её в квадрат, то площадь этих двух фигур будет равна\n",
    "\n",
    "<table>\n",
    "    <caption>Area Formulas</caption>\n",
    "    <tr><td>circle</td><td>$$πr^2$$</td></tr>\n",
    "    <tr><td>square</td><td>$$4 r^2$$</td></tr>\n",
    "</table>\n",
    "\n",
    "\n",
    "Следовательно, отношение площади круга к площади квадрата равно $$\\frac{π}{4}$$\n",
    "\n",
    "Метод Монте Карло генерирует набор случайных точек внутри квадрата. Далее сравниваем количество точек, которые попали внутрь круга, и тех, которые не попали в него. И при большом количестве точек мы можем получить хорошую оценку для числа Pi. Вы можете посмотреть хорошую демонстрацию [здесь](https://academo.org/demos/estimating-pi-monte-carlo/) (Нажмите кнопку **Animate** на той странице).\n",
    "\n",
    "Для заданного количества точек *n*, у нас будет $$π = \\frac{4 \\cdot points\\ inside\\ circle}{total\\ points\\ n}$$\n",
    "\n",
    "Чтобы создать многопроцессорную программу, сначала мы создаём функцию для поиска Pi, которую мы передадим в `map()`:"
   ]
  },
  {
   "cell_type": "code",
   "execution_count": 1,
   "metadata": {
    "collapsed": true
   },
   "outputs": [],
   "source": [
    "from random import random  # perform this import outside the function\n",
    "\n",
    "def find_pi(n):\n",
    "    \"\"\"\n",
    "    Function to estimate the value of Pi\n",
    "    \"\"\"\n",
    "    inside=0\n",
    "\n",
    "    for i in range(0,n):\n",
    "        x=random()\n",
    "        y=random()\n",
    "        if (x*x+y*y)**(0.5)<=1:  # if i falls inside the circle\n",
    "            inside+=1\n",
    "\n",
    "    pi=4*inside/n\n",
    "    return pi"
   ]
  },
  {
   "cell_type": "markdown",
   "metadata": {},
   "source": [
    "Теперь проверим функцию `find_pi` для 5,000 точек:"
   ]
  },
  {
   "cell_type": "code",
   "execution_count": 2,
   "metadata": {},
   "outputs": [
    {
     "data": {
      "text/plain": [
       "3.1064"
      ]
     },
     "execution_count": 2,
     "metadata": {},
     "output_type": "execute_result"
    }
   ],
   "source": [
    "find_pi(5000)"
   ]
  },
  {
   "cell_type": "markdown",
   "metadata": {},
   "source": [
    "Выполнилось очень быстро, но результаты не очень точные!\n",
    "\n",
    "Далее мы напишем скрипт для создания набора процессов, и измерим время выполнения для различного количества этих процессов. Также у нас будет два параметра - *processes* и *total_iterations*. Внутри скрипта мы разобъём *total_iterations* на отдельные части, которые передадим каждому из процессов, создав список для каждого из процессов.<br>Например:\n",
    "\n",
    "    total_iterations = 1000\n",
    "    processes = 5\n",
    "    iterations = [total_iterations//processes]*processes\n",
    "    iterations\n",
    "    # Output: [200, 200, 200, 200, 200]\n",
    "    \n",
    "Этот список мы передадим в функцию `map()` вместе с `find_pi()`"
   ]
  },
  {
   "cell_type": "code",
   "execution_count": 3,
   "metadata": {},
   "outputs": [
    {
     "name": "stdout",
     "output_type": "stream",
     "text": [
      "Writing test.py\n"
     ]
    }
   ],
   "source": [
    "%%writefile test.py\n",
    "from random import random\n",
    "from multiprocessing import Pool\n",
    "import timeit\n",
    "\n",
    "def find_pi(n):\n",
    "    \"\"\"\n",
    "    Function to estimate the value of Pi\n",
    "    \"\"\"\n",
    "    inside=0\n",
    "\n",
    "    for i in range(0,n):\n",
    "        x=random()\n",
    "        y=random()\n",
    "        if (x*x+y*y)**(0.5)<=1:  # if i falls inside the circle\n",
    "            inside+=1\n",
    "\n",
    "    pi=4*inside/n\n",
    "    return pi\n",
    "\n",
    "if __name__ == '__main__':\n",
    "    N = 10**5  # total iterations\n",
    "    P = 5      # number of processes\n",
    "    \n",
    "    p = Pool(P)\n",
    "    print(timeit.timeit(lambda: print(f'{sum(p.map(find_pi, [N//P]*P))/P:0.7f}'), number=10))\n",
    "    p.close()\n",
    "    p.join()\n",
    "    print(f'{N} total iterations with {P} processes')"
   ]
  },
  {
   "cell_type": "code",
   "execution_count": 4,
   "metadata": {},
   "outputs": [
    {
     "name": "stdout",
     "output_type": "stream",
     "text": [
      "3.1466800\n",
      "3.1364400\n",
      "3.1470400\n",
      "3.1370400\n",
      "3.1256400\n",
      "3.1398400\n",
      "3.1395200\n",
      "3.1363600\n",
      "3.1437200\n",
      "3.1334400\n",
      "0.2370227286270967\n",
      "100000 total iterations with 5 processes\n"
     ]
    }
   ],
   "source": [
    "! python test.py"
   ]
  },
  {
   "cell_type": "markdown",
   "metadata": {},
   "source": [
    "Отлично! Этот тест занял меньше секунды на нашем компьютере.\n",
    "\n",
    "Теперь, когда мы знаем, что скрипт работает, давайте увеличим количество итераций, и сравним два различных пула процессов. Можете откинуться на списку кресла, это займёт некоторое время!"
   ]
  },
  {
   "cell_type": "code",
   "execution_count": 5,
   "metadata": {},
   "outputs": [
    {
     "name": "stdout",
     "output_type": "stream",
     "text": [
      "Overwriting test.py\n"
     ]
    }
   ],
   "source": [
    "%%writefile test.py\n",
    "from random import random\n",
    "from multiprocessing import Pool\n",
    "import timeit\n",
    "\n",
    "def find_pi(n):\n",
    "    \"\"\"\n",
    "    Function to estimate the value of Pi\n",
    "    \"\"\"\n",
    "    inside=0\n",
    "\n",
    "    for i in range(0,n):\n",
    "        x=random()\n",
    "        y=random()\n",
    "        if (x*x+y*y)**(0.5)<=1:  # if i falls inside the circle\n",
    "            inside+=1\n",
    "\n",
    "    pi=4*inside/n\n",
    "    return pi\n",
    "\n",
    "if __name__ == '__main__':\n",
    "    N = 10**7  # total iterations\n",
    "    \n",
    "    P = 1      # number of processes\n",
    "    p = Pool(P)\n",
    "    print(timeit.timeit(lambda: print(f'{sum(p.map(find_pi, [N//P]*P))/P:0.7f}'), number=10))\n",
    "    p.close()\n",
    "    p.join()\n",
    "    print(f'{N} total iterations with {P} processes')\n",
    "    \n",
    "    P = 5      # number of processes\n",
    "    p = Pool(P)\n",
    "    print(timeit.timeit(lambda: print(f'{sum(p.map(find_pi, [N//P]*P))/P:0.7f}'), number=10))\n",
    "    p.close()\n",
    "    p.join()\n",
    "    print(f'{N} total iterations with {P} processes')"
   ]
  },
  {
   "cell_type": "code",
   "execution_count": 6,
   "metadata": {},
   "outputs": [
    {
     "name": "stdout",
     "output_type": "stream",
     "text": [
      "3.1420964\n",
      "3.1417412\n",
      "3.1411108\n",
      "3.1408184\n",
      "3.1414204\n",
      "3.1417656\n",
      "3.1408324\n",
      "3.1418828\n",
      "3.1420492\n",
      "3.1412804\n",
      "36.03526345242264\n",
      "10000000 total iterations with 1 processes\n",
      "3.1424524\n",
      "3.1418376\n",
      "3.1415292\n",
      "3.1410344\n",
      "3.1422376\n",
      "3.1418736\n",
      "3.1420540\n",
      "3.1411452\n",
      "3.1421652\n",
      "3.1410672\n",
      "17.300921846344366\n",
      "10000000 total iterations with 5 processes\n",
      "\n"
     ]
    }
   ],
   "source": [
    "! python test.py"
   ]
  },
  {
   "cell_type": "markdown",
   "metadata": {},
   "source": [
    "Надеюсь Вы увидели, что с 5 процессами наш скрипт выполняется быстрее!"
   ]
  },
  {
   "cell_type": "markdown",
   "metadata": {},
   "source": [
    "## Больше это лучше... до определённого момента.\n",
    "\n",
    "По мере увеличения процессов, выигрыш по производительности с какого-то момента становится всё меньше и меньше, и выходит на плато. Дело в том, что в наборе задач будет одна или две задачи, которые занимают больше, чем среднее значение, и они не будут ускорены добавлением дополнительных ресурсов. Это лучше всего описано в [Законе Амдала](https://ru.wikipedia.org/wiki/%D0%97%D0%B0%D0%BA%D0%BE%D0%BD_%D0%90%D0%BC%D0%B4%D0%B0%D0%BB%D0%B0)."
   ]
  },
  {
   "cell_type": "markdown",
   "metadata": {},
   "source": [
    "## Продвинутый скрипт\n",
    "\n",
    "В примере ниже мы добавляем контекстный менеджер, чтобы сжать эти три строки\n",
    "\n",
    "    p = Pool(P)\n",
    "    ...\n",
    "    p.close()\n",
    "    p.join()\n",
    "    \n",
    "в одну строку:\n",
    "\n",
    "    with Pool(P) as p:\n",
    "    \n",
    "И мы будем принимать параметры командной строки, используя модуль *sys*.\n",
    "    "
   ]
  },
  {
   "cell_type": "code",
   "execution_count": 7,
   "metadata": {},
   "outputs": [
    {
     "name": "stdout",
     "output_type": "stream",
     "text": [
      "Writing test2.py\n"
     ]
    }
   ],
   "source": [
    "%%writefile test2.py\n",
    "from random import random\n",
    "from multiprocessing import Pool\n",
    "import timeit\n",
    "import sys\n",
    "\n",
    "N = int(sys.argv[1])  # these arguments are passed in from the command line\n",
    "P = int(sys.argv[2])\n",
    "\n",
    "def find_pi(n):\n",
    "    \"\"\"\n",
    "    Function to estimate the value of Pi\n",
    "    \"\"\"\n",
    "    inside=0\n",
    "\n",
    "    for i in range(0,n):\n",
    "        x=random()\n",
    "        y=random()\n",
    "        if (x*x+y*y)**(0.5)<=1:  # if i falls inside the circle\n",
    "            inside+=1\n",
    "\n",
    "    pi=4*inside/n\n",
    "    return pi\n",
    "\n",
    "if __name__ == '__main__':\n",
    "    \n",
    "    with Pool(P) as p:\n",
    "        print(timeit.timeit(lambda: print(f'{sum(p.map(find_pi, [N//P]*P))/P:0.5f}'), number=10))\n",
    "    print(f'{N} total iterations with {P} processes')"
   ]
  },
  {
   "cell_type": "code",
   "execution_count": 8,
   "metadata": {},
   "outputs": [
    {
     "name": "stdout",
     "output_type": "stream",
     "text": [
      "3.14121\n",
      "3.14145\n",
      "3.14178\n",
      "3.14194\n",
      "3.14109\n",
      "3.14201\n",
      "3.14243\n",
      "3.14150\n",
      "3.14203\n",
      "3.14116\n",
      "16.871822701405073\n",
      "10000000 total iterations with 500 processes\n"
     ]
    }
   ],
   "source": [
    "! python test2.py 10000000 500"
   ]
  },
  {
   "cell_type": "markdown",
   "metadata": {},
   "source": [
    "Отлично! Теперь у Вас должно сложиться понимание многопоточности и многопроцессорности!"
   ]
  }
 ],
 "metadata": {
  "kernelspec": {
   "display_name": "Python 3",
   "language": "python",
   "name": "python3"
  },
  "language_info": {
   "codemirror_mode": {
    "name": "ipython",
    "version": 3
   },
   "file_extension": ".py",
   "mimetype": "text/x-python",
   "name": "python",
   "nbconvert_exporter": "python",
   "pygments_lexer": "ipython3",
   "version": "3.6.1"
  }
 },
 "nbformat": 4,
 "nbformat_minor": 2
}
