{
 "cells": [
  {
   "cell_type": "markdown",
   "metadata": {},
   "source": [
    "# FAQ - Часто Задаваемые вопросы\n",
    "В этом блокноте будут публиковаться ответы на вопросы, часто задаваемые в курсе."
   ]
  },
  {
   "cell_type": "markdown",
   "metadata": {},
   "source": [
    "**Как можно увидеть подсказки? Например, DocStrings для функций?**\n",
    "\n",
    "Для этого нажмите Shift+Tab, когда курсор находится после объекта или функции, и тогда iPython покажет Docstring с дополнительной информацией."
   ]
  },
  {
   "cell_type": "markdown",
   "metadata": {},
   "source": [
    "**Как можно написать только начало метода или функции, первые несколько букв, и затем автоматически получить всё название? (Автозаполнение)**\n",
    "\n",
    "Для этой цели используйте клавишу tab. Работает для методов, объектов и функций. Если подходящих названий несколько, то будет предложено несколько вариантов."
   ]
  },
  {
   "cell_type": "code",
   "execution_count": null,
   "metadata": {
    "collapsed": true
   },
   "outputs": [],
   "source": []
  }
 ],
 "metadata": {
  "kernelspec": {
   "display_name": "Python 3",
   "language": "python",
   "name": "python3"
  },
  "language_info": {
   "codemirror_mode": {
    "name": "ipython",
    "version": 3
   },
   "file_extension": ".py",
   "mimetype": "text/x-python",
   "name": "python",
   "nbconvert_exporter": "python",
   "pygments_lexer": "ipython3",
   "version": "3.6.1"
  }
 },
 "nbformat": 4,
 "nbformat_minor": 1
}
