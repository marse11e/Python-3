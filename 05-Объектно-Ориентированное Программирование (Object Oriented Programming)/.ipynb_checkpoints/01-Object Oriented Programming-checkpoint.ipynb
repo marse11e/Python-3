{
 "cells": [
  {
   "cell_type": "markdown",
   "metadata": {
    "collapsed": true
   },
   "source": [
    "# Объектно-ориентированное программирование\n",
    "\n",
    "Объектно-ориентированное программирование (ООП) может быть сложным для тех, кто только начинает изучать Python.\n",
    "\n",
    "По этой теме есть очень, очень много пособий и материалов, так что не стесняйтесь поискать в Google другие материалы. Ссылки на некоторые полезные материалы приведены в конце этой лекции.\n",
    "\n",
    "В этой лекции мы будем продвигаться в освоении ООП в Python, постепенно изучая следующие темы:\n",
    "\n",
    "* Объекты\n",
    "* Использование ключевого слова *class*\n",
    "* Создание атрибутов класса\n",
    "* Создание методов в классе\n",
    "* Изучение наследования\n",
    "* Изучение полиморфизма\n",
    "* Изучение специальных методов для классов\n",
    "\n",
    "Начнём с того, что вспомним базовые объекты Python. Например:"
   ]
  },
  {
   "cell_type": "code",
   "execution_count": 1,
   "metadata": {
    "collapsed": true
   },
   "outputs": [],
   "source": [
    "lst = [1,2,3]"
   ]
  },
  {
   "cell_type": "markdown",
   "metadata": {},
   "source": [
    "Помните, как мы вызываем методы для списка?"
   ]
  },
  {
   "cell_type": "code",
   "execution_count": 2,
   "metadata": {},
   "outputs": [
    {
     "data": {
      "text/plain": [
       "1"
      ]
     },
     "execution_count": 2,
     "metadata": {},
     "output_type": "execute_result"
    }
   ],
   "source": [
    "lst.count(2)"
   ]
  },
  {
   "cell_type": "markdown",
   "metadata": {},
   "source": [
    "По сути, в этой лекции мы попробуем создать тип объекта, похожий на список. Мы уже изучали, как создавать функции. Давайте изучим объекты:\n",
    "\n",
    "## Объекты\n",
    "В Python, *любой элемент является объектом*. В одной из предыдущих лекций мы видели, что можно использовать type(), чтобы узнать тип объекта:"
   ]
  },
  {
   "cell_type": "code",
   "execution_count": 3,
   "metadata": {},
   "outputs": [
    {
     "name": "stdout",
     "output_type": "stream",
     "text": [
      "<class 'int'>\n",
      "<class 'list'>\n",
      "<class 'tuple'>\n",
      "<class 'dict'>\n"
     ]
    }
   ],
   "source": [
    "print(type(1))\n",
    "print(type([]))\n",
    "print(type(()))\n",
    "print(type({}))"
   ]
  },
  {
   "cell_type": "markdown",
   "metadata": {},
   "source": [
    "Мы знаем, что эти элементы являются объектами. Как мы можем создавать свои собственные типы объектов? Для этого как раз пригодится ключевое слово <code>class</code>.\n",
    "## class\n",
    "Объекты пользователя создаются с помощью ключевого слова <code>class</code>. Класс - это шаблон, описывающий будущий объект. Из классов мы создаем экземпляры (инстансы). Экземпляр - это конкретный объект, созданный на основе конкретного класса. Например, в примере выше мы создали объект <code>lst</code>, это экземпляр объекта list. \n",
    "\n",
    "Посмотрим, как мы можем использовать <code>class</code>:"
   ]
  },
  {
   "cell_type": "code",
   "execution_count": 1,
   "metadata": {},
   "outputs": [
    {
     "name": "stdout",
     "output_type": "stream",
     "text": [
      "<class '__main__.Sample'>\n"
     ]
    }
   ],
   "source": [
    "# Создаем новый тип объекта, под названием Sample\n",
    "class Sample:\n",
    "    pass\n",
    "\n",
    "# Экземпляр класса Sample\n",
    "x = Sample()\n",
    "\n",
    "print(type(x))"
   ]
  },
  {
   "cell_type": "markdown",
   "metadata": {},
   "source": [
    "Согласно принятым соглашениям об именовании, имена классов начинаются с заглавной буквы. Обратите внимание, что <code>x</code> теперь ссылается на экземпляр нашего нового класса Sample. \n",
    "\n",
    "Внутри класса у нас пока есть только слово pass. Но мы можем определить атрибуты и методы класса.\n",
    "\n",
    "**Атрибут** - это характеристика объекта.\n",
    "**Метод** - это операция, которую мы можем выполнять над объектом.\n",
    "\n",
    "Например, мы можем создать класс под названием Dog - собака. Атрибут собаки это например её порода или её имя, а метод например может быть метод .bark() - лаять.\n",
    "\n",
    "Рассмотрим атрибуты на примере.\n",
    "\n",
    "## Атрибуты\n",
    "Синтаксис создания атрибута следующий:\n",
    "    \n",
    "    self.attribute = something\n",
    "    \n",
    "Есть специальный метод, который называется так:\n",
    "\n",
    "    __init__()\n",
    "\n",
    "Это метод используется для инициализации атрибутов объекта. Например:"
   ]
  },
  {
   "cell_type": "code",
   "execution_count": 5,
   "metadata": {
    "collapsed": true
   },
   "outputs": [],
   "source": [
    "class Dog:\n",
    "    def __init__(self,breed):\n",
    "        self.breed = breed\n",
    "        \n",
    "sam = Dog(breed='Lab')\n",
    "frank = Dog(breed='Huskie')"
   ]
  },
  {
   "cell_type": "markdown",
   "metadata": {},
   "source": [
    "Разберёмся, что здесь происходит. Специальный метод\n",
    "\n",
    "    __init__() \n",
    "вызывается автоматически, сразу после создания объекта:\n",
    "\n",
    "    def __init__(self, breed):\n",
    "Каждый атрибут в определении класса начинается со ссылки на экземпляр объекта. По соглашению об именовании, он называется self. Далее, breed это параметр. Значение передается при инициализации класса.\n",
    "\n",
    "     self.breed = breed"
   ]
  },
  {
   "cell_type": "markdown",
   "metadata": {},
   "source": [
    "Итак, мы создали два инстанса класса Dog. У нас два разных типа породы - breed. Мы можем получить значения атрибутов вот так:"
   ]
  },
  {
   "cell_type": "code",
   "execution_count": 6,
   "metadata": {},
   "outputs": [
    {
     "data": {
      "text/plain": [
       "'Lab'"
      ]
     },
     "execution_count": 6,
     "metadata": {},
     "output_type": "execute_result"
    }
   ],
   "source": [
    "sam.breed"
   ]
  },
  {
   "cell_type": "code",
   "execution_count": 7,
   "metadata": {},
   "outputs": [
    {
     "data": {
      "text/plain": [
       "'Huskie'"
      ]
     },
     "execution_count": 7,
     "metadata": {},
     "output_type": "execute_result"
    }
   ],
   "source": [
    "frank.breed"
   ]
  },
  {
   "cell_type": "markdown",
   "metadata": {},
   "source": [
    "Обратите внимание, что здесь нет скобок после breed; это потому, что атрибуты не принимают на вход никаких параметров.\n",
    "\n",
    "В Python также есть *атрибуты класса (class object attributes)*. Эти атрибуты одни и те же для всех экземпляров класса. Например, мы могли бы создать атрибут *species* (вид) для класса Dog. Собаки, вне зависимости от породы, имени и других атрибутов, всегда являются млекопитающими (mammal). Мы можем указать это следующим образом:"
   ]
  },
  {
   "cell_type": "code",
   "execution_count": 8,
   "metadata": {
    "collapsed": true
   },
   "outputs": [],
   "source": [
    "class Dog:\n",
    "    \n",
    "    # Class Object Attribute\n",
    "    species = 'mammal'\n",
    "    \n",
    "    def __init__(self,breed,name):\n",
    "        self.breed = breed\n",
    "        self.name = name"
   ]
  },
  {
   "cell_type": "code",
   "execution_count": 9,
   "metadata": {
    "collapsed": true
   },
   "outputs": [],
   "source": [
    "sam = Dog('Lab','Sam')"
   ]
  },
  {
   "cell_type": "code",
   "execution_count": 10,
   "metadata": {},
   "outputs": [
    {
     "data": {
      "text/plain": [
       "'Sam'"
      ]
     },
     "execution_count": 10,
     "metadata": {},
     "output_type": "execute_result"
    }
   ],
   "source": [
    "sam.name"
   ]
  },
  {
   "cell_type": "markdown",
   "metadata": {},
   "source": [
    "Обратите внимание, что атрибуты класса объекта определяются вне методов класса. По соглашению, мы помещаем их в начале, перед методом init."
   ]
  },
  {
   "cell_type": "code",
   "execution_count": 11,
   "metadata": {},
   "outputs": [
    {
     "data": {
      "text/plain": [
       "'mammal'"
      ]
     },
     "execution_count": 11,
     "metadata": {},
     "output_type": "execute_result"
    }
   ],
   "source": [
    "sam.species"
   ]
  },
  {
   "cell_type": "markdown",
   "metadata": {},
   "source": [
    "## Методы\n",
    "\n",
    "Методы - это функции, определённые внутри класса. Они используются для выполнения операций с атрибутами объектов. Методы это ключевая концепция парадигмы OOP. Они нужны для разделения обязанностей в программировании, особенно для больших приложений.\n",
    "\n",
    "Методы можно представить себе как функции, которые работают с объектом, ссылаясь на этот объект с помощью аргумента *self*.\n",
    "\n",
    "Давайте рассмотрим пример создания класса Circle - круг:"
   ]
  },
  {
   "cell_type": "code",
   "execution_count": 1,
   "metadata": {},
   "outputs": [
    {
     "name": "stdout",
     "output_type": "stream",
     "text": [
      "Радиус:  1\n",
      "Площадь:  3.14\n",
      "Длина окружности:  6.28\n"
     ]
    }
   ],
   "source": [
    "class Circle:\n",
    "    pi = 3.14\n",
    "\n",
    "    # Circle инициализируется, используя радиус (по умолчанию 1)\n",
    "    def __init__(self, radius=1):\n",
    "        self.radius = radius \n",
    "        self.area = radius * radius * Circle.pi\n",
    "\n",
    "    # Метод для указания радиуса\n",
    "    def setRadius(self, new_radius):\n",
    "        self.radius = new_radius\n",
    "        self.area = new_radius * new_radius * self.pi\n",
    "\n",
    "    # Метод для определения длины окружности\n",
    "    def getCircumference(self):\n",
    "        return self.radius * self.pi * 2\n",
    "\n",
    "\n",
    "c = Circle()\n",
    "\n",
    "print('Радиус: ',c.radius)\n",
    "print('Площадь: ',c.area)\n",
    "print('Длина окружности: ',c.getCircumference())"
   ]
  },
  {
   "cell_type": "markdown",
   "metadata": {},
   "source": [
    "В методе \\__init__ выше, чтобы вычислить атрибут area, мы вызываем Circle.pi. Поскольку в объекте ещё нет своего атрибута .pi, мы вызываем атрибут класса объекта id.<br>\n",
    "Однако в методе setRadius мы уже работаем с существующим объектом класса Circle, в котором есть свой атрибут pi. Так что здесь мы можем использовать или Circle.pi, или self.pi.<br><br>\n",
    "Теперь давайте поменяем радиус и посмотрим, как это повлияет на наш объект Circle:"
   ]
  },
  {
   "cell_type": "code",
   "execution_count": 3,
   "metadata": {},
   "outputs": [
    {
     "name": "stdout",
     "output_type": "stream",
     "text": [
      "Радиус:  2\n",
      "Площадь:  12.56\n",
      "Длина окружности:  12.56\n"
     ]
    }
   ],
   "source": [
    "c.setRadius(2)\n",
    "\n",
    "print('Радиус: ',c.radius)\n",
    "print('Площадь: ',c.area)\n",
    "print('Длина окружности: ',c.getCircumference())"
   ]
  },
  {
   "cell_type": "markdown",
   "metadata": {},
   "source": [
    "Отлично! Обратите внимание, как мы использовали нотацию self., чтобы сослаться на атрибуты класса внутри методов. Изучите код выше, и попробуйте создать свой собственный метод.\n",
    "\n",
    "## Наследование (Inheritance)\n",
    "\n",
    "Наследование - это способ создавать новые классы на основе уже существующих классов. Новые классы называются производными (derived) классами, а те классы, на основе которых они создаются, называются базовыми классами. Важные преимущества наследования - это переиспользование существующего кода, а также уменьшение сложности программ. Производные (дочерние) классы переопределяют и/или расширяют функциональность базовых (родительских) классов.\n",
    "\n",
    "В качестве примера давайте возьмём класс Dog и создадим наследование от класса Animal:"
   ]
  },
  {
   "cell_type": "code",
   "execution_count": 14,
   "metadata": {
    "collapsed": true
   },
   "outputs": [],
   "source": [
    "class Animal:\n",
    "    def __init__(self):\n",
    "        print(\"Animal created\")\n",
    "\n",
    "    def whoAmI(self):\n",
    "        print(\"Animal\")\n",
    "\n",
    "    def eat(self):\n",
    "        print(\"Eating\")\n",
    "\n",
    "\n",
    "class Dog(Animal):\n",
    "    def __init__(self):\n",
    "        Animal.__init__(self)\n",
    "        print(\"Dog created\")\n",
    "\n",
    "    def whoAmI(self):\n",
    "        print(\"Dog\")\n",
    "\n",
    "    def bark(self):\n",
    "        print(\"Woof!\")"
   ]
  },
  {
   "cell_type": "code",
   "execution_count": 15,
   "metadata": {},
   "outputs": [
    {
     "name": "stdout",
     "output_type": "stream",
     "text": [
      "Animal created\n",
      "Dog created\n"
     ]
    }
   ],
   "source": [
    "d = Dog()"
   ]
  },
  {
   "cell_type": "code",
   "execution_count": 16,
   "metadata": {},
   "outputs": [
    {
     "name": "stdout",
     "output_type": "stream",
     "text": [
      "Dog\n"
     ]
    }
   ],
   "source": [
    "d.whoAmI()"
   ]
  },
  {
   "cell_type": "code",
   "execution_count": 17,
   "metadata": {},
   "outputs": [
    {
     "name": "stdout",
     "output_type": "stream",
     "text": [
      "Eating\n"
     ]
    }
   ],
   "source": [
    "d.eat()"
   ]
  },
  {
   "cell_type": "code",
   "execution_count": 18,
   "metadata": {},
   "outputs": [
    {
     "name": "stdout",
     "output_type": "stream",
     "text": [
      "Woof!\n"
     ]
    }
   ],
   "source": [
    "d.bark()"
   ]
  },
  {
   "cell_type": "markdown",
   "metadata": {},
   "source": [
    "В этом примере у нас есть два класса: Animal и Dog. Animal является базовым классом, а Dog производным классом. \n",
    "\n",
    "Производный класс наследует функциональность базового класса \n",
    "\n",
    "* это показано с помощью метода eat(). \n",
    "\n",
    "Производный класс меняет поведение базового класса.\n",
    "\n",
    "* показано с помощью метода whoAmI(). \n",
    "\n",
    "И наконец, производный класс расширяет функциональность базового класса, добавляя новый метод bark()."
   ]
  },
  {
   "cell_type": "markdown",
   "metadata": {},
   "source": [
    "## Полиморфизм (Polymorphism)\n",
    "\n",
    "Мы знаем, что функции могут принимать различные параметры, и что методы принадлежат объектам, над которыми они работают. В Python, *полиморфизм* - это когда различные объекты класса могут иметь одно и то же название метода, и эти методы можно вызывать из одной и той же точки кода для различных объектов. Это проще всего объяснить на примере:"
   ]
  },
  {
   "cell_type": "code",
   "execution_count": 19,
   "metadata": {},
   "outputs": [
    {
     "name": "stdout",
     "output_type": "stream",
     "text": [
      "Niko says Woof!\n",
      "Felix says Meow!\n"
     ]
    }
   ],
   "source": [
    "class Dog:\n",
    "    def __init__(self, name):\n",
    "        self.name = name\n",
    "\n",
    "    def speak(self):\n",
    "        return self.name+' says Woof!'\n",
    "    \n",
    "class Cat:\n",
    "    def __init__(self, name):\n",
    "        self.name = name\n",
    "\n",
    "    def speak(self):\n",
    "        return self.name+' says Meow!' \n",
    "    \n",
    "niko = Dog('Niko')\n",
    "felix = Cat('Felix')\n",
    "\n",
    "print(niko.speak())\n",
    "print(felix.speak())"
   ]
  },
  {
   "cell_type": "markdown",
   "metadata": {},
   "source": [
    "Здесь у нас есть классы Dog и Cat, и каждый из них имеет метод `.speak()`. При вызове, метод для каждого объекта `.speak()` возвращает результат, специфичный для этого объекта.\n",
    "\n",
    "Есть разные способы продемонстрировать полиморфизм. Прежде всего, с помощью цикла for:"
   ]
  },
  {
   "cell_type": "code",
   "execution_count": 20,
   "metadata": {},
   "outputs": [
    {
     "name": "stdout",
     "output_type": "stream",
     "text": [
      "Niko says Woof!\n",
      "Felix says Meow!\n"
     ]
    }
   ],
   "source": [
    "for pet in [niko,felix]:\n",
    "    print(pet.speak())"
   ]
  },
  {
   "cell_type": "markdown",
   "metadata": {},
   "source": [
    "Другой способ - с помощью функций:"
   ]
  },
  {
   "cell_type": "code",
   "execution_count": 21,
   "metadata": {},
   "outputs": [
    {
     "name": "stdout",
     "output_type": "stream",
     "text": [
      "Niko says Woof!\n",
      "Felix says Meow!\n"
     ]
    }
   ],
   "source": [
    "def pet_speak(pet):\n",
    "    print(pet.speak())\n",
    "\n",
    "pet_speak(niko)\n",
    "pet_speak(felix)"
   ]
  },
  {
   "cell_type": "markdown",
   "metadata": {
    "slideshow": {
     "slide_type": "slide"
    }
   },
   "source": [
    "В обоих случаях мы смогли передавать разные типы объектов, и мы получили результаты, разные для каждого типа объекта, используя один или тот же механизм вызова.\n",
    "\n",
    "Более общей практикой является использование абстрактных классов и наследования. Абстрактный класс - это такой класс, для которого никогда не создаются экземпляры. Например, у нас никогда не будет объекта Animal, только объекты Dog и Cat, хотя оба эти класса наследуются от Animal:"
   ]
  },
  {
   "cell_type": "code",
   "execution_count": 22,
   "metadata": {},
   "outputs": [
    {
     "name": "stdout",
     "output_type": "stream",
     "text": [
      "Fido says Woof!\n",
      "Isis says Meow!\n"
     ]
    }
   ],
   "source": [
    "class Animal:\n",
    "    def __init__(self, name):    # конструктор класса\n",
    "        self.name = name\n",
    "\n",
    "    def speak(self):              # абстрактный метод\n",
    "        raise NotImplementedError(\"Subclass must implement abstract method\")\n",
    "\n",
    "\n",
    "class Dog(Animal):\n",
    "    \n",
    "    def speak(self):\n",
    "        return self.name+' says Woof!'\n",
    "    \n",
    "class Cat(Animal):\n",
    "\n",
    "    def speak(self):\n",
    "        return self.name+' says Meow!'\n",
    "    \n",
    "fido = Dog('Fido')\n",
    "isis = Cat('Isis')\n",
    "\n",
    "print(fido.speak())\n",
    "print(isis.speak())"
   ]
  },
  {
   "cell_type": "markdown",
   "metadata": {},
   "source": [
    "Примеры полиморфизма из реальной жизни:\n",
    "* открытие разных типов файлов - для отображения файлов Word, pdf и Excel нужны разные приложения\n",
    "* сложение разных объектов - оператор `+` выполняет и сложение чисел, и конкатенацию строк"
   ]
  },
  {
   "cell_type": "markdown",
   "metadata": {},
   "source": [
    "## Специальные методы\n",
    "И наконец, давайте изучим специальные методы. Классы в Python могут выполнять определенные операции с помощью специальных методов. Эти методы вызываются не напрямую, а с помощью специального синтаксиса языка Python. Для примера давайте создадим класс Book:"
   ]
  },
  {
   "cell_type": "code",
   "execution_count": 6,
   "metadata": {
    "collapsed": true
   },
   "outputs": [],
   "source": [
    "class Book:\n",
    "    def __init__(self, title, author, pages):\n",
    "        print(\"Создаём книгу\")\n",
    "        self.title = title\n",
    "        self.author = author\n",
    "        self.pages = pages\n",
    "\n",
    "    def __str__(self):\n",
    "        return \"Название: %s, Автор: %s, Кол-во страниц: %s\" %(self.title, self.author, self.pages)\n",
    "\n",
    "    def __len__(self):\n",
    "        return self.pages\n",
    "\n",
    "    def __del__(self):\n",
    "        print(\"Книга удалена\")"
   ]
  },
  {
   "cell_type": "code",
   "execution_count": 7,
   "metadata": {},
   "outputs": [
    {
     "name": "stdout",
     "output_type": "stream",
     "text": [
      "Создаём книгу\n",
      "Название: Руководство по Python, Автор: Влад, Кол-во страниц: 159\n",
      "159\n",
      "Книга удалена\n"
     ]
    }
   ],
   "source": [
    "book = Book(\"Руководство по Python\", \"Влад\", 159)\n",
    "\n",
    "#Special Methods\n",
    "print(book)\n",
    "print(len(book))\n",
    "del book"
   ]
  },
  {
   "cell_type": "markdown",
   "metadata": {},
   "source": [
    "    Методы __init__(), __str__(), __len__() and __del__() \n",
    "Эти специальные методы определяются с помощью символов нижнего подчёркивания. Они позволяют использовать определенные функции Python для объектов, которые создаются на основе нашего класса.\n",
    "\n",
    "**Отлично! После этой лекции у Вас есть базовые знания о том, как создавать свои классы и объекты в Python. Вы будете очень активно использовать их в следующем проекте!**\n",
    "\n",
    "Дополнительные материалы по этой теме доступны на английском языке по следующим ссылкам:\n",
    "\n",
    "[Jeff Knupp's Post](https://jeffknupp.com/blog/2014/06/18/improve-your-python-python-classes-and-object-oriented-programming/)\n",
    "\n",
    "[Mozilla's Post](https://developer.mozilla.org/en-US/Learn/Python/Quickly_Learn_Object_Oriented_Programming)\n",
    "\n",
    "[Tutorial's Point](http://www.tutorialspoint.com/python/python_classes_objects.htm)\n",
    "\n",
    "[Официальная документация](https://docs.python.org/3/tutorial/classes.html)"
   ]
  },
  {
   "cell_type": "code",
   "execution_count": null,
   "metadata": {
    "collapsed": true
   },
   "outputs": [],
   "source": []
  }
 ],
 "metadata": {
  "kernelspec": {
   "display_name": "Python 3",
   "language": "python",
   "name": "python3"
  },
  "language_info": {
   "codemirror_mode": {
    "name": "ipython",
    "version": 3
   },
   "file_extension": ".py",
   "mimetype": "text/x-python",
   "name": "python",
   "nbconvert_exporter": "python",
   "pygments_lexer": "ipython3",
   "version": "3.6.1"
  }
 },
 "nbformat": 4,
 "nbformat_minor": 1
}
